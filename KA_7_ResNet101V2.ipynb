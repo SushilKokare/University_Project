{
 "cells": [
  {
   "cell_type": "code",
   "execution_count": 4,
   "metadata": {},
   "outputs": [],
   "source": [
    "from keras.preprocessing.image import ImageDataGenerator\n",
    "from keras.models import Sequential\n",
    "from keras.layers import Dense,Flatten\n",
    "from keras import backend as k\n",
    "from keras.applications.resnet_v2 import ResNet101V2\n",
    "from matplotlib import pyplot as plt"
   ]
  },
  {
   "cell_type": "code",
   "execution_count": 5,
   "metadata": {},
   "outputs": [],
   "source": [
    "def show_result(history):\n",
    "  plt.figure(figsize=(5,3))\n",
    "  plt.title(\"Loss Training Vs Validation\")\n",
    "  plt.plot(history.history['loss'],color='blue',label='Train Loss')\n",
    "  plt.plot(history.history['val_loss'],color='orange',label='Val Loss')\n",
    "  plt.legend()\n",
    "  plt.show()\n",
    "\n",
    "  plt.figure(figsize=(5,3))\n",
    "  plt.title(\"Accuracy Training Vs Validation\")\n",
    "  plt.plot(history.history['accuracy'],color='blue',label='Train Acc')\n",
    "  plt.plot(history.history['val_accuracy'],color='orange',label='Val Acc')\n",
    "  plt.legend()\n",
    "  plt.show()"
   ]
  },
  {
   "cell_type": "code",
   "execution_count": 6,
   "metadata": {},
   "outputs": [],
   "source": [
    "def prepro_data(pathTrain,pathTest,img_size,batch_size):\n",
    "  \n",
    "  if k.image_data_format() == 'channels_first':\n",
    "    input_shape = (3,img_size[0],img_size[1])\n",
    "  else:\n",
    "    input_shape = (img_size[0],img_size[1],3)\n",
    "\n",
    "  train_gen = ImageDataGenerator(rescale = 1./255)\n",
    "  test_gen = ImageDataGenerator(rescale = 1./255)\n",
    "\n",
    "  train_data = train_gen.flow_from_directory(\n",
    "      pathTrain,\n",
    "      target_size = img_size,\n",
    "      # batch_size = batch_size,\n",
    "      class_mode = 'binary'\n",
    "  ) \n",
    "\n",
    "  test_data = test_gen.flow_from_directory(\n",
    "      pathTest,\n",
    "      target_size = img_size,\n",
    "      # batch_size = batch_size,\n",
    "      class_mode = 'binary'\n",
    "  )\n",
    "\n",
    "  print(\" Train Data Image Shape = {}\".format(train_data.image_shape))\n",
    "  print(\" Test Data Image Shape = {}\".format(test_data.image_shape))\n",
    "  print(\"Input Shape = {} \".format(input_shape))\n",
    "\n",
    "  return train_data , test_data , input_shape"
   ]
  },
  {
   "cell_type": "code",
   "execution_count": 7,
   "metadata": {},
   "outputs": [],
   "source": [
    "pathTrain = 'Brain_Data_Organised/Train'\n",
    "pathTest = 'Brain_Data_Organised/Test'"
   ]
  },
  {
   "cell_type": "code",
   "execution_count": 8,
   "metadata": {},
   "outputs": [
    {
     "name": "stdout",
     "output_type": "stream",
     "text": [
      "Found 2251 images belonging to 2 classes.\n",
      "Found 250 images belonging to 2 classes.\n",
      " Train Data Image Shape = (225, 225, 3)\n",
      " Test Data Image Shape = (225, 225, 3)\n",
      "Input Shape = (225, 225, 3) \n"
     ]
    }
   ],
   "source": [
    "train_data , test_data, input_shape = prepro_data(pathTrain,pathTest,(225,225),32)"
   ]
  },
  {
   "cell_type": "code",
   "execution_count": 9,
   "metadata": {},
   "outputs": [
    {
     "name": "stdout",
     "output_type": "stream",
     "text": [
      "Downloading data from https://storage.googleapis.com/tensorflow/keras-applications/resnet/resnet101v2_weights_tf_dim_ordering_tf_kernels_notop.h5\n",
      "171319296/171317808 [==============================] - 84s 0us/step\n",
      "171327488/171317808 [==============================] - 84s 0us/step\n"
     ]
    }
   ],
   "source": [
    "base_model = ResNet101V2(weights = 'imagenet',include_top = False,\n",
    "                      input_shape = input_shape)"
   ]
  },
  {
   "cell_type": "code",
   "execution_count": 10,
   "metadata": {},
   "outputs": [],
   "source": [
    "for layer in base_model.layers:\n",
    "  layer.trainable = False\n",
    "\n",
    "\n",
    "model = Sequential()\n",
    "model.add(base_model)\n",
    "model.add(Flatten())\n",
    "model.add(Dense(256,activation='relu'))\n",
    "model.add(Dense(1,activation='sigmoid'))\n",
    "\n",
    "model.compile(optimizer='adam',loss='binary_crossentropy',\n",
    "              metrics=['accuracy'])"
   ]
  },
  {
   "cell_type": "code",
   "execution_count": 11,
   "metadata": {
    "scrolled": true
   },
   "outputs": [
    {
     "name": "stdout",
     "output_type": "stream",
     "text": [
      "Epoch 1/10\n",
      "71/71 [==============================] - 543s 7s/step - loss: 3.0900 - accuracy: 0.7210 - val_loss: 0.5339 - val_accuracy: 0.7840\n",
      "Epoch 2/10\n",
      "71/71 [==============================] - 501s 7s/step - loss: 0.1646 - accuracy: 0.9498 - val_loss: 0.5778 - val_accuracy: 0.7840\n",
      "Epoch 3/10\n",
      "71/71 [==============================] - 481s 7s/step - loss: 0.0619 - accuracy: 0.9933 - val_loss: 0.4722 - val_accuracy: 0.8200\n",
      "Epoch 4/10\n",
      "71/71 [==============================] - 481s 7s/step - loss: 0.0278 - accuracy: 1.0000 - val_loss: 0.6028 - val_accuracy: 0.8120\n",
      "Epoch 5/10\n",
      "71/71 [==============================] - 489s 7s/step - loss: 0.0139 - accuracy: 1.0000 - val_loss: 0.6265 - val_accuracy: 0.8080\n",
      "Epoch 6/10\n",
      "71/71 [==============================] - 487s 7s/step - loss: 0.0083 - accuracy: 1.0000 - val_loss: 0.5625 - val_accuracy: 0.8360\n",
      "Epoch 7/10\n",
      "71/71 [==============================] - 485s 7s/step - loss: 0.0053 - accuracy: 1.0000 - val_loss: 0.6294 - val_accuracy: 0.8200\n",
      "Epoch 8/10\n",
      "71/71 [==============================] - 480s 7s/step - loss: 0.0038 - accuracy: 1.0000 - val_loss: 0.5956 - val_accuracy: 0.8400\n",
      "Epoch 9/10\n",
      "71/71 [==============================] - 499s 7s/step - loss: 0.0028 - accuracy: 1.0000 - val_loss: 0.5960 - val_accuracy: 0.8400\n",
      "Epoch 10/10\n",
      "71/71 [==============================] - 475s 7s/step - loss: 0.0022 - accuracy: 1.0000 - val_loss: 0.6431 - val_accuracy: 0.8320\n"
     ]
    },
    {
     "data": {
      "image/png": "[encoded data removed]",
      "text/plain": [
       "<Figure size 360x216 with 1 Axes>"
      ]
     },
     "metadata": {
      "needs_background": "light"
     },
     "output_type": "display_data"
    },
    {
     "data": {
      "image/png": "[encoded data removed]",
      "text/plain": [
       "<Figure size 360x216 with 1 Axes>"
      ]
     },
     "metadata": {
      "needs_background": "light"
     },
     "output_type": "display_data"
    }
   ],
   "source": [
    "history = model.fit(train_data,epochs=10,validation_data=test_data)\n",
    "\n",
    "show_result(history)"
   ]
  },
  {
   "cell_type": "code",
   "execution_count": 13,
   "metadata": {},
   "outputs": [],
   "source": [
    "import pandas as pd"
   ]
  },
  {
   "cell_type": "code",
   "execution_count": 14,
   "metadata": {
    "scrolled": true
   },
   "outputs": [
    {
     "data": {
      "text/html": [
       "<div>\n",
       "<style scoped>\n",
       "    .dataframe tbody tr th:only-of-type {\n",
       "        vertical-align: middle;\n",
       "    }\n",
       "\n",
       "    .dataframe tbody tr th {\n",
       "        vertical-align: top;\n",
       "    }\n",
       "\n",
       "    .dataframe thead th {\n",
       "        text-align: right;\n",
       "    }\n",
       "</style>\n",
       "<table border=\"1\" class=\"dataframe\">\n",
       "  <thead>\n",
       "    <tr style=\"text-align: right;\">\n",
       "      <th></th>\n",
       "      <th>loss</th>\n",
       "      <th>accuracy</th>\n",
       "      <th>val_loss</th>\n",
       "      <th>val_accuracy</th>\n",
       "    </tr>\n",
       "  </thead>\n",
       "  <tbody>\n",
       "    <tr>\n",
       "      <th>0</th>\n",
       "      <td>3.090017</td>\n",
       "      <td>0.721013</td>\n",
       "      <td>0.533943</td>\n",
       "      <td>0.784</td>\n",
       "    </tr>\n",
       "    <tr>\n",
       "      <th>1</th>\n",
       "      <td>0.164620</td>\n",
       "      <td>0.949800</td>\n",
       "      <td>0.577841</td>\n",
       "      <td>0.784</td>\n",
       "    </tr>\n",
       "    <tr>\n",
       "      <th>2</th>\n",
       "      <td>0.061924</td>\n",
       "      <td>0.993336</td>\n",
       "      <td>0.472173</td>\n",
       "      <td>0.820</td>\n",
       "    </tr>\n",
       "    <tr>\n",
       "      <th>3</th>\n",
       "      <td>0.027793</td>\n",
       "      <td>1.000000</td>\n",
       "      <td>0.602846</td>\n",
       "      <td>0.812</td>\n",
       "    </tr>\n",
       "    <tr>\n",
       "      <th>4</th>\n",
       "      <td>0.013882</td>\n",
       "      <td>1.000000</td>\n",
       "      <td>0.626527</td>\n",
       "      <td>0.808</td>\n",
       "    </tr>\n",
       "    <tr>\n",
       "      <th>5</th>\n",
       "      <td>0.008325</td>\n",
       "      <td>1.000000</td>\n",
       "      <td>0.562536</td>\n",
       "      <td>0.836</td>\n",
       "    </tr>\n",
       "    <tr>\n",
       "      <th>6</th>\n",
       "      <td>0.005263</td>\n",
       "      <td>1.000000</td>\n",
       "      <td>0.629381</td>\n",
       "      <td>0.820</td>\n",
       "    </tr>\n",
       "    <tr>\n",
       "      <th>7</th>\n",
       "      <td>0.003758</td>\n",
       "      <td>1.000000</td>\n",
       "      <td>0.595634</td>\n",
       "      <td>0.840</td>\n",
       "    </tr>\n",
       "    <tr>\n",
       "      <th>8</th>\n",
       "      <td>0.002768</td>\n",
       "      <td>1.000000</td>\n",
       "      <td>0.596031</td>\n",
       "      <td>0.840</td>\n",
       "    </tr>\n",
       "    <tr>\n",
       "      <th>9</th>\n",
       "      <td>0.002154</td>\n",
       "      <td>1.000000</td>\n",
       "      <td>0.643111</td>\n",
       "      <td>0.832</td>\n",
       "    </tr>\n",
       "  </tbody>\n",
       "</table>\n",
       "</div>"
      ],
      "text/plain": [
       "       loss  accuracy  val_loss  val_accuracy\n",
       "0  3.090017  0.721013  0.533943         0.784\n",
       "1  0.164620  0.949800  0.577841         0.784\n",
       "2  0.061924  0.993336  0.472173         0.820\n",
       "3  0.027793  1.000000  0.602846         0.812\n",
       "4  0.013882  1.000000  0.626527         0.808\n",
       "5  0.008325  1.000000  0.562536         0.836\n",
       "6  0.005263  1.000000  0.629381         0.820\n",
       "7  0.003758  1.000000  0.595634         0.840\n",
       "8  0.002768  1.000000  0.596031         0.840\n",
       "9  0.002154  1.000000  0.643111         0.832"
      ]
     },
     "execution_count": 14,
     "metadata": {},
     "output_type": "execute_result"
    }
   ],
   "source": [
    "pd.DataFrame(history.history)"
   ]
  },
  {
   "cell_type": "code",
   "execution_count": null,
   "metadata": {},
   "outputs": [],
   "source": []
  }
 ],
 "metadata": {
  "kernelspec": {
   "display_name": "Python 3",
   "language": "python",
   "name": "python3"
  },
  "language_info": {
   "codemirror_mode": {
    "name": "ipython",
    "version": 3
   },
   "file_extension": ".py",
   "mimetype": "text/x-python",
   "name": "python",
   "nbconvert_exporter": "python",
   "pygments_lexer": "ipython3",
   "version": "3.8.5"
  }
 },
 "nbformat": 4,
 "nbformat_minor": 4
}
