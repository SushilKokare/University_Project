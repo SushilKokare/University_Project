{
  "nbformat": 4,
  "nbformat_minor": 0,
  "metadata": {
    "colab": {
      "provenance": [],
      "gpuType": "T4",
      "authorship_tag": "ABX9TyOX9r6io8wjZljD7PlT23DM",
      "include_colab_link": true
    },
    "kernelspec": {
      "name": "python3",
      "display_name": "Python 3"
    },
    "language_info": {
      "name": "python"
    },
    "accelerator": "GPU",
    "gpuClass": "standard"
  },
  "cells": [
    {
      "cell_type": "markdown",
      "metadata": {
        "id": "view-in-github",
        "colab_type": "text"
      },
      "source": [
        "<a href=\"https://colab.research.google.com/github/SushilKokare/AtiNeu_Project/blob/keras.applications/KA_1_Xception.ipynb\" target=\"_parent\"><img src=\"https://colab.research.google.com/assets/colab-badge.svg\" alt=\"Open In Colab\"/></a>"
      ]
    },
    {
      "cell_type": "code",
      "execution_count": 1,
      "metadata": {
        "id": "1B4IGyveS81Y"
      },
      "outputs": [],
      "source": [
        "from google.colab import drive"
      ]
    },
    {
      "cell_type": "code",
      "source": [
        "drive.mount('/content/drive')"
      ],
      "metadata": {
        "colab": {
          "base_uri": "https://localhost:8080/"
        },
        "id": "uVVB7tg5TO7O",
        "outputId": "f644e67d-18dd-4e99-91c8-5a5e78a0a4d1"
      },
      "execution_count": 2,
      "outputs": [
        {
          "output_type": "stream",
          "name": "stdout",
          "text": [
            "Mounted at /content/drive\n"
          ]
        }
      ]
    },
    {
      "cell_type": "code",
      "source": [
        "from keras.preprocessing.image import ImageDataGenerator\n",
        "from keras.models import Sequential\n",
        "from keras.layers import Dense,Flatten\n",
        "from keras import backend as k\n",
        "from keras.applications.xception import Xception\n",
        "from matplotlib import pyplot as plt"
      ],
      "metadata": {
        "id": "HETfx3L8TRv6"
      },
      "execution_count": 59,
      "outputs": []
    },
    {
      "cell_type": "code",
      "source": [
        "def prepro_data(pathTrain,pathTest,img_size,batch_size):\n",
        "  \n",
        "  if k.image_data_format() == 'channels_first':\n",
        "    input_shape = (3,img_size[0],img_size[1])\n",
        "  else:\n",
        "    input_shape = (img_size[0],img_size[1],3)\n",
        "\n",
        "  train_gen = ImageDataGenerator(rescale = 1./255)\n",
        "  test_gen = ImageDataGenerator(rescale = 1./255)\n",
        "\n",
        "  train_data = train_gen.flow_from_directory(\n",
        "      pathTrain,\n",
        "      target_size = img_size,\n",
        "      # batch_size = batch_size,\n",
        "      class_mode = 'binary'\n",
        "  ) \n",
        "\n",
        "  test_data = test_gen.flow_from_directory(\n",
        "      pathTest,\n",
        "      target_size = img_size,\n",
        "      # batch_size = batch_size,\n",
        "      class_mode = 'binary'\n",
        "  )\n",
        "\n",
        "  print(\" Train Data Image Shape = {}\".format(train_data.image_shape))\n",
        "  print(\" Test Data Image Shape = {}\".format(test_data.image_shape))\n",
        "  print(\"Input Shape = {} \".format(input_shape))\n",
        "\n",
        "  return train_data , test_data , input_shape"
      ],
      "metadata": {
        "id": "-81TnkyWTumo"
      },
      "execution_count": 46,
      "outputs": []
    },
    {
      "cell_type": "code",
      "source": [
        "pathTrain = '/content/drive/MyDrive/AtiNeu Project/Data/MRI/Brain_Data_Organised/Train'\n",
        "pathTest = '/content/drive/MyDrive/AtiNeu Project/Data/MRI/Brain_Data_Organised/Test'"
      ],
      "metadata": {
        "id": "meTy_Ej_UQfG"
      },
      "execution_count": 47,
      "outputs": []
    },
    {
      "cell_type": "code",
      "source": [
        "train_data , test_data, input_shape = prepro_data(pathTrain,pathTest,(225,225),32)"
      ],
      "metadata": {
        "colab": {
          "base_uri": "https://localhost:8080/"
        },
        "id": "7bAdxY5QVRKJ",
        "outputId": "1b3aedbf-d45f-49bd-8904-9b1d46c11678"
      },
      "execution_count": 48,
      "outputs": [
        {
          "output_type": "stream",
          "name": "stdout",
          "text": [
            "Found 2251 images belonging to 2 classes.\n",
            "Found 250 images belonging to 2 classes.\n",
            " Train Data Image Shape = (225, 225, 3)\n",
            " Test Data Image Shape = (225, 225, 3)\n",
            "Input Shape = (225, 225, 3) \n"
          ]
        }
      ]
    },
    {
      "cell_type": "code",
      "source": [
        "train_data.image_shape"
      ],
      "metadata": {
        "colab": {
          "base_uri": "https://localhost:8080/"
        },
        "id": "XkDL6HkiX7J_",
        "outputId": "c8b593f7-120f-46c6-fd29-89e327b6ef22"
      },
      "execution_count": 49,
      "outputs": [
        {
          "output_type": "execute_result",
          "data": {
            "text/plain": [
              "(225, 225, 3)"
            ]
          },
          "metadata": {},
          "execution_count": 49
        }
      ]
    },
    {
      "cell_type": "code",
      "source": [
        "# Base Model = Xception"
      ],
      "metadata": {
        "id": "ABbc0h3SVYf4"
      },
      "execution_count": 50,
      "outputs": []
    },
    {
      "cell_type": "code",
      "source": [
        "base_model = Xception(weights = 'imagenet',include_top = False,\n",
        "                      input_shape = input_shape)"
      ],
      "metadata": {
        "id": "7H4K4XvKWJ0v"
      },
      "execution_count": 51,
      "outputs": []
    },
    {
      "cell_type": "code",
      "source": [
        "for layer in base_model.layers:\n",
        "  layer.trainable = False"
      ],
      "metadata": {
        "id": "fs1nd5l7W0Td"
      },
      "execution_count": 52,
      "outputs": []
    },
    {
      "cell_type": "code",
      "source": [
        "model = Sequential()\n",
        "model.add(base_model)\n",
        "model.add(Flatten())\n",
        "model.add(Dense(256,activation='relu'))\n",
        "model.add(Dense(1,activation='sigmoid'))"
      ],
      "metadata": {
        "id": "fa2BVG3sWRUJ"
      },
      "execution_count": 53,
      "outputs": []
    },
    {
      "cell_type": "code",
      "source": [
        "model.compile(optimizer='adam',loss='binary_crossentropy',\n",
        "              metrics=['accuracy'])"
      ],
      "metadata": {
        "id": "46_NUVtTWxVG"
      },
      "execution_count": 54,
      "outputs": []
    },
    {
      "cell_type": "code",
      "source": [],
      "metadata": {
        "id": "BB1YUoJfXBsA"
      },
      "execution_count": 54,
      "outputs": []
    },
    {
      "cell_type": "code",
      "source": [
        "history = model.fit(train_data,epochs=10,validation_data=test_data,\n",
        "                    )"
      ],
      "metadata": {
        "colab": {
          "base_uri": "https://localhost:8080/"
        },
        "id": "rCXFVZgfXdwH",
        "outputId": "a37c1260-4c91-44b9-a775-51ae9668b38d"
      },
      "execution_count": 56,
      "outputs": [
        {
          "output_type": "stream",
          "name": "stdout",
          "text": [
            "Epoch 1/10\n",
            "71/71 [==============================] - 15s 216ms/step - loss: 0.0285 - accuracy: 0.9973 - val_loss: 0.5684 - val_accuracy: 0.7560\n",
            "Epoch 2/10\n",
            "71/71 [==============================] - 19s 261ms/step - loss: 0.0182 - accuracy: 0.9991 - val_loss: 0.4341 - val_accuracy: 0.7960\n",
            "Epoch 3/10\n",
            "71/71 [==============================] - 14s 196ms/step - loss: 0.0137 - accuracy: 1.0000 - val_loss: 0.6046 - val_accuracy: 0.7560\n",
            "Epoch 4/10\n",
            "71/71 [==============================] - 16s 227ms/step - loss: 0.0099 - accuracy: 1.0000 - val_loss: 0.6492 - val_accuracy: 0.7600\n",
            "Epoch 5/10\n",
            "71/71 [==============================] - 16s 225ms/step - loss: 0.0072 - accuracy: 1.0000 - val_loss: 0.6859 - val_accuracy: 0.7480\n",
            "Epoch 6/10\n",
            "71/71 [==============================] - 15s 213ms/step - loss: 0.0061 - accuracy: 1.0000 - val_loss: 0.6121 - val_accuracy: 0.7600\n",
            "Epoch 7/10\n",
            "71/71 [==============================] - 15s 211ms/step - loss: 0.0050 - accuracy: 1.0000 - val_loss: 0.7225 - val_accuracy: 0.7480\n",
            "Epoch 8/10\n",
            "71/71 [==============================] - 16s 220ms/step - loss: 0.0045 - accuracy: 1.0000 - val_loss: 0.6909 - val_accuracy: 0.7640\n",
            "Epoch 9/10\n",
            "71/71 [==============================] - 15s 207ms/step - loss: 0.0038 - accuracy: 1.0000 - val_loss: 0.6939 - val_accuracy: 0.7720\n",
            "Epoch 10/10\n",
            "71/71 [==============================] - 14s 193ms/step - loss: 0.0034 - accuracy: 1.0000 - val_loss: 0.7330 - val_accuracy: 0.7600\n"
          ]
        }
      ]
    },
    {
      "cell_type": "code",
      "source": [
        "def show_result(history):\n",
        "  plt.figure(figsize=(5,3))\n",
        "  plt.title(\"Loss Training Vs Validation\")\n",
        "  plt.plot(history.history['loss'],color='blue',label='Train Loss')\n",
        "  plt.plot(history.history['val_loss'],color='orange',label='Val Loss')\n",
        "  plt.legend()\n",
        "  plt.show()\n",
        "\n",
        "  plt.figure(figsize=(5,3))\n",
        "  plt.title(\"Accuracy Training Vs Validation\")\n",
        "  plt.plot(history.history['accuracy'],color='blue',label='Train Acc')\n",
        "  plt.plot(history.history['val_accuracy'],color='orange',label='Val Acc')\n",
        "  plt.legend()\n",
        "  plt.show()"
      ],
      "metadata": {
        "id": "Yj8TyEegX2WC"
      },
      "execution_count": 75,
      "outputs": []
    },
    {
      "cell_type": "code",
      "source": [
        "show_result(history)"
      ],
      "metadata": {
        "colab": {
          "base_uri": "https://localhost:8080/",
          "height": 611
        },
        "id": "uml_EZroclze",
        "outputId": "726407f9-18ce-4547-b461-6143fe87ff7e"
      },
      "execution_count": 76,
      "outputs": [
        {
          "output_type": "display_data",
          "data": {
            "text/plain": [
              "<Figure size 500x300 with 1 Axes>"
            ],
            "image/png": "[encoded data removed]"
          },
          "metadata": {}
        },
        {
          "output_type": "display_data",
          "data": {
            "text/plain": [
              "<Figure size 500x300 with 1 Axes>"
            ],
            "image/png": "[encoded data removed]"
          },
          "metadata": {}
        }
      ]
    },
    {
      "cell_type": "code",
      "source": [],
      "metadata": {
        "id": "9rQ0KTY2cng0"
      },
      "execution_count": null,
      "outputs": []
    }
  ]
}