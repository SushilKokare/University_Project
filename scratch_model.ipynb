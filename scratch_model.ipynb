{
  "nbformat": 4,
  "nbformat_minor": 0,
  "metadata": {
    "colab": {
      "provenance": [],
      "authorship_tag": "ABX9TyPdNTwb+Ba3mG8vI6I2PacY",
      "include_colab_link": true
    },
    "kernelspec": {
      "name": "python3",
      "display_name": "Python 3"
    },
    "language_info": {
      "name": "python"
    },
    "accelerator": "GPU",
    "gpuClass": "standard"
  },
  "cells": [
    {
      "cell_type": "markdown",
      "metadata": {
        "id": "view-in-github",
        "colab_type": "text"
      },
      "source": [
        "<a href=\"https://colab.research.google.com/github/SushilKokare/AtiNeu_Project/blob/main/scratch_model.ipynb\" target=\"_parent\"><img src=\"https://colab.research.google.com/assets/colab-badge.svg\" alt=\"Open In Colab\"/></a>"
      ]
    },
    {
      "cell_type": "code",
      "execution_count": 3,
      "metadata": {
        "id": "M_-TzdYzJ2pk"
      },
      "outputs": [],
      "source": [
        "from google.colab import drive"
      ]
    },
    {
      "cell_type": "code",
      "source": [
        "drive.mount('/content/drive')"
      ],
      "metadata": {
        "colab": {
          "base_uri": "https://localhost:8080/"
        },
        "id": "rVaJ-olGKXBQ",
        "outputId": "69c2d8b2-967a-4ecb-b6c3-c2a8cae0fba2"
      },
      "execution_count": 4,
      "outputs": [
        {
          "output_type": "stream",
          "name": "stdout",
          "text": [
            "Mounted at /content/drive\n"
          ]
        }
      ]
    },
    {
      "cell_type": "code",
      "source": [],
      "metadata": {
        "id": "RMY54Es6dzG-"
      },
      "execution_count": 4,
      "outputs": []
    },
    {
      "cell_type": "code",
      "source": [
        "from keras.preprocessing.image import ImageDataGenerator\n",
        "from keras import backend as k\n",
        "from keras.models import Model\n",
        "from keras.layers import Dense,Input,Conv2D,MaxPooling2D,Dropout,Flatten\n",
        "import keras"
      ],
      "metadata": {
        "id": "0Wh9sF4rKbF0"
      },
      "execution_count": 5,
      "outputs": []
    },
    {
      "cell_type": "code",
      "source": [
        "pathTrain = '/content/drive/MyDrive/AtiNeu Project/Data/MRI/Brain_Data_Organised/Train'\n",
        "pathTest ='/content/drive/MyDrive/AtiNeu Project/Data/MRI/Brain_Data_Organised/Test'"
      ],
      "metadata": {
        "id": "nSPB2PGLMdCh"
      },
      "execution_count": 6,
      "outputs": []
    },
    {
      "cell_type": "code",
      "source": [
        "train_gen = ImageDataGenerator(rescale = 1./255,    \n",
        "                               rotation_range=20,\n",
        "                                   width_shift_range=0.2,\n",
        "                                   height_shift_range=0.2,\n",
        "                                   horizontal_flip=True)\n",
        "test_gen = ImageDataGenerator( rescale = 1./255)"
      ],
      "metadata": {
        "id": "WK4qfS5IMwQP"
      },
      "execution_count": 7,
      "outputs": []
    },
    {
      "cell_type": "code",
      "source": [
        "img_size = (650, 650)\n",
        "batch_size = 10\n",
        "num_channels = 1"
      ],
      "metadata": {
        "id": "3NWOrgI5NSao"
      },
      "execution_count": 8,
      "outputs": []
    },
    {
      "cell_type": "code",
      "source": [
        "train_data = train_gen.flow_from_directory(\n",
        "    pathTrain,\n",
        "    target_size = img_size,\n",
        "    color_mode = 'grayscale',\n",
        "    # target_size = img_size,\n",
        "    batch_size = batch_size,\n",
        "    class_mode = 'binary',\n",
        "    shuffle = True,\n",
        "    # classes = ['Normal','Stroke']\n",
        ")"
      ],
      "metadata": {
        "colab": {
          "base_uri": "https://localhost:8080/"
        },
        "id": "DytjVK2uNKcC",
        "outputId": "3a1be869-8ee1-43c5-ddfb-b8d96051da72"
      },
      "execution_count": 9,
      "outputs": [
        {
          "output_type": "stream",
          "name": "stdout",
          "text": [
            "Found 2251 images belonging to 2 classes.\n"
          ]
        }
      ]
    },
    {
      "cell_type": "code",
      "source": [
        "type(train_data)"
      ],
      "metadata": {
        "colab": {
          "base_uri": "https://localhost:8080/"
        },
        "id": "HotHADXONhJ2",
        "outputId": "782b59d5-5e89-4729-e6ee-adc4211617c3"
      },
      "execution_count": 10,
      "outputs": [
        {
          "output_type": "execute_result",
          "data": {
            "text/plain": [
              "keras.preprocessing.image.DirectoryIterator"
            ]
          },
          "metadata": {},
          "execution_count": 10
        }
      ]
    },
    {
      "cell_type": "code",
      "source": [
        "train_data.image_shape"
      ],
      "metadata": {
        "colab": {
          "base_uri": "https://localhost:8080/"
        },
        "id": "q7TUEtk8NkzV",
        "outputId": "3cba5a08-6785-43db-be35-55758cb1b866"
      },
      "execution_count": 11,
      "outputs": [
        {
          "output_type": "execute_result",
          "data": {
            "text/plain": [
              "(650, 650, 1)"
            ]
          },
          "metadata": {},
          "execution_count": 11
        }
      ]
    },
    {
      "cell_type": "code",
      "source": [
        "# if k.image_data_format() == 'channels_first':\n",
        "#   input_shape = (1,img_size[0],img_size[1])\n",
        "#   inpx = (1,img_size[0],img_size[1])\n",
        "# else:\n",
        "#   input_shape = (img_size[0],img_size[1],1)\n",
        "#   inpx = (1,img_size[0],img_size[1])"
      ],
      "metadata": {
        "id": "O-6svZj9Nrza"
      },
      "execution_count": 12,
      "outputs": []
    },
    {
      "cell_type": "code",
      "source": [
        "test_data =test_gen.flow_from_directory(\n",
        "    pathTest,\n",
        "    target_size = img_size,\n",
        "    color_mode = 'grayscale',\n",
        "    class_mode = 'binary',\n",
        "    # classes = ['Normal','Stroke'],\n",
        "    batch_size = batch_size\n",
        ")"
      ],
      "metadata": {
        "colab": {
          "base_uri": "https://localhost:8080/"
        },
        "id": "ZcBsP4u6RZyK",
        "outputId": "ed83cf68-ba31-46da-f0c7-9d34e6d066dd"
      },
      "execution_count": 13,
      "outputs": [
        {
          "output_type": "stream",
          "name": "stdout",
          "text": [
            "Found 250 images belonging to 2 classes.\n"
          ]
        }
      ]
    },
    {
      "cell_type": "code",
      "source": [
        "test_data.image_shape"
      ],
      "metadata": {
        "colab": {
          "base_uri": "https://localhost:8080/"
        },
        "id": "AQ-qtTnXR6jG",
        "outputId": "f2e53b54-5f19-4059-ebfe-f97b200e0fe8"
      },
      "execution_count": 14,
      "outputs": [
        {
          "output_type": "execute_result",
          "data": {
            "text/plain": [
              "(650, 650, 1)"
            ]
          },
          "metadata": {},
          "execution_count": 14
        }
      ]
    },
    {
      "cell_type": "code",
      "source": [
        "import tensorflow as tf"
      ],
      "metadata": {
        "id": "ffQVkyFVSLNq"
      },
      "execution_count": 15,
      "outputs": []
    },
    {
      "cell_type": "code",
      "source": [
        "model = tf.keras.models.Sequential([\n",
        "    tf.keras.layers.Conv2D(64, (5,5), activation='relu', input_shape=(650, 650, 1)),\n",
        "    tf.keras.layers.Conv2D(64, (5,5), activation='relu'),\n",
        "    # tf.keras.layers.MaxPooling2D(5, 5),\n",
        "    \n",
        "    # tf.keras.layers.Conv2D(128, (4,4), activation='relu'),\n",
        "    # tf.keras.layers.Conv2D(64, (5,5), activation='relu'),\n",
        "    # tf.keras.layers.Conv2D(64, (5,5), activation='relu'),\n",
        "    # tf.keras.layers.MaxPooling2D(4,4),\n",
        "    # tf.keras.layers.Conv2D(128, (3,3), activation='relu'),\n",
        "    # tf.keras.layers.MaxPooling2D(4,4),\n",
        "    tf.keras.layers.Flatten(),\n",
        "    # tf.keras.layers.Dense(256, activation='relu'),\n",
        "    # tf.keras.layers.Dropout(0.5),\n",
        "    tf.keras.layers.Dense(1, activation='sigmoid')\n",
        "])"
      ],
      "metadata": {
        "id": "Vb7bbpT6UxwR"
      },
      "execution_count": 43,
      "outputs": []
    },
    {
      "cell_type": "code",
      "source": [
        "model.compile(loss='binary_crossentropy',\n",
        "              optimizer=tf.keras.optimizers.Adam(learning_rate=0.0001),\n",
        "              metrics=['accuracy'])"
      ],
      "metadata": {
        "id": "ZyLE687JeQor"
      },
      "execution_count": 44,
      "outputs": []
    },
    {
      "cell_type": "code",
      "source": [
        "history = model.fit(train_data,\n",
        "                    epochs=5,\n",
        "                    validation_data=test_data) "
      ],
      "metadata": {
        "colab": {
          "base_uri": "https://localhost:8080/"
        },
        "id": "UEub87ldeYFR",
        "outputId": "ed05348b-d9b3-4f1f-b088-11b178b6f3dd"
      },
      "execution_count": 45,
      "outputs": [
        {
          "output_type": "stream",
          "name": "stdout",
          "text": [
            "Epoch 1/5\n",
            "226/226 [==============================] - 171s 749ms/step - loss: 0.7329 - accuracy: 0.6251 - val_loss: 0.6919 - val_accuracy: 0.5040\n",
            "Epoch 2/5\n",
            "226/226 [==============================] - 169s 745ms/step - loss: 0.6482 - accuracy: 0.6357 - val_loss: 0.7341 - val_accuracy: 0.4960\n",
            "Epoch 3/5\n",
            "226/226 [==============================] - 169s 746ms/step - loss: 0.6434 - accuracy: 0.6353 - val_loss: 0.8726 - val_accuracy: 0.5000\n",
            "Epoch 4/5\n",
            "226/226 [==============================] - 167s 737ms/step - loss: 0.6414 - accuracy: 0.6339 - val_loss: 0.6804 - val_accuracy: 0.4920\n",
            "Epoch 5/5\n",
            "226/226 [==============================] - 170s 752ms/step - loss: 0.6390 - accuracy: 0.6322 - val_loss: 0.6755 - val_accuracy: 0.5240\n"
          ]
        }
      ]
    },
    {
      "cell_type": "code",
      "source": [
        "test_loss, test_acc = model.evaluate(test_data)\n",
        "print('Test Loss:', test_loss)\n",
        "print('Test Accuracy:', test_acc)"
      ],
      "metadata": {
        "colab": {
          "base_uri": "https://localhost:8080/"
        },
        "id": "J1CSb9dWecQQ",
        "outputId": "3a88a504-df3f-4959-ac49-31d737d54ed7"
      },
      "execution_count": 46,
      "outputs": [
        {
          "output_type": "stream",
          "name": "stdout",
          "text": [
            "25/25 [==============================] - 4s 149ms/step - loss: 0.6755 - accuracy: 0.5240\n",
            "Test Loss: 0.6754952669143677\n",
            "Test Accuracy: 0.5239999890327454\n"
          ]
        }
      ]
    },
    {
      "cell_type": "code",
      "source": [
        "# Make predictions\n",
        "preds = model.predict(test_data)"
      ],
      "metadata": {
        "colab": {
          "base_uri": "https://localhost:8080/"
        },
        "id": "yQcg1IuNeqhc",
        "outputId": "bba2f6ba-c200-48b7-dae6-d7cb045d8c47"
      },
      "execution_count": 47,
      "outputs": [
        {
          "output_type": "stream",
          "name": "stdout",
          "text": [
            "25/25 [==============================] - 4s 147ms/step\n"
          ]
        }
      ]
    },
    {
      "cell_type": "code",
      "source": [
        "# preds"
      ],
      "metadata": {
        "id": "hWZnX1QAesCs"
      },
      "execution_count": 58,
      "outputs": []
    },
    {
      "cell_type": "code",
      "source": [
        "# model = tf.keras.models.Sequential([\n",
        "# Conv2D(32,(3,3),activation='relu'),\n",
        "# Conv2D(64,(3,3),activation='relu'),\n",
        "# MaxPooling2D(pool_size=(3,3)),\n",
        "# Dropout(rate=0.5),\n",
        "# Flatten(),\n",
        "# Dense(250,activation='sigmoid'),\n",
        "# Dense(10,activation='softmax')\n",
        "# ])"
      ],
      "metadata": {
        "id": "NZGoI1eJheAQ"
      },
      "execution_count": 50,
      "outputs": []
    },
    {
      "cell_type": "code",
      "source": [
        "# model.compile(loss='binary_crossentropy',\n",
        "#               optimizer=tf.keras.optimizers.Adam(learning_rate=0.0001),\n",
        "#               metrics=['accuracy'])"
      ],
      "metadata": {
        "id": "nQoUEUvGhpiW"
      },
      "execution_count": 49,
      "outputs": []
    },
    {
      "cell_type": "code",
      "source": [
        "# history = model.fit(train_data,\n",
        "#                     epochs=10,\n",
        "#                     validation_data=test_data)"
      ],
      "metadata": {
        "id": "opIk8czziAeI"
      },
      "execution_count": 48,
      "outputs": []
    },
    {
      "cell_type": "code",
      "source": [],
      "metadata": {
        "id": "uaq4EyxjiHAl"
      },
      "execution_count": null,
      "outputs": []
    }
  ]
}