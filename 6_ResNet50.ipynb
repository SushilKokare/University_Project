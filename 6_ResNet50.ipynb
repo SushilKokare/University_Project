{
  "nbformat": 4,
  "nbformat_minor": 0,
  "metadata": {
    "colab": {
      "provenance": [],
      "authorship_tag": "ABX9TyOZcZIwweY8XFT32YMpsd01",
      "include_colab_link": true
    },
    "kernelspec": {
      "name": "python3",
      "display_name": "Python 3"
    },
    "language_info": {
      "name": "python"
    },
    "accelerator": "GPU",
    "gpuClass": "standard"
  },
  "cells": [
    {
      "cell_type": "markdown",
      "metadata": {
        "id": "view-in-github",
        "colab_type": "text"
      },
      "source": [
        "<a href=\"https://colab.research.google.com/github/SushilKokare/AtiNeu_Project/blob/main/6_ResNet50.ipynb\" target=\"_parent\"><img src=\"https://colab.research.google.com/assets/colab-badge.svg\" alt=\"Open In Colab\"/></a>"
      ]
    },
    {
      "cell_type": "code",
      "execution_count": 1,
      "metadata": {
        "id": "1rXgI3N1G5IP"
      },
      "outputs": [],
      "source": [
        " # import tensorflow as tf\n",
        "# from tensorflow.keras.applications.resnet50 import ResNet50\n",
        "\n",
        "# # Load ResNet50 model\n",
        "# model = ResNet50(weights='imagenet')\n",
        "\n",
        "# # Print model summary\n",
        "# # model.summary()"
      ]
    },
    {
      "cell_type": "code",
      "source": [
        "from google.colab import drive"
      ],
      "metadata": {
        "id": "WSgZ4wstG-Pr"
      },
      "execution_count": 2,
      "outputs": []
    },
    {
      "cell_type": "code",
      "source": [
        "drive.mount('/content/drive')"
      ],
      "metadata": {
        "colab": {
          "base_uri": "https://localhost:8080/"
        },
        "id": "79y3IeRHHEV9",
        "outputId": "31d7adeb-a9a1-4d62-ee1e-fbbd59195401"
      },
      "execution_count": 3,
      "outputs": [
        {
          "output_type": "stream",
          "name": "stdout",
          "text": [
            "Mounted at /content/drive\n"
          ]
        }
      ]
    },
    {
      "cell_type": "code",
      "source": [
        "import numpy as np\n",
        "import os\n",
        "import tensorflow as tf\n",
        "from tensorflow.keras.preprocessing.image import ImageDataGenerator\n",
        "from tensorflow.keras.applications.resnet50 import ResNet50\n",
        "from keras.layers import Dense,Flatten\n",
        "from keras.models import Model"
      ],
      "metadata": {
        "id": "PV68uE39HFsV"
      },
      "execution_count": 105,
      "outputs": []
    },
    {
      "cell_type": "code",
      "source": [
        "input_shape = (224,224,3)\n",
        "num_classes = 2\n",
        "batch_size = 32"
      ],
      "metadata": {
        "id": "lsSyszjXJ3Im"
      },
      "execution_count": 106,
      "outputs": []
    },
    {
      "cell_type": "code",
      "source": [
        "train_dir = '/content/drive/MyDrive/AtiNeu Project/Data/MRI/Brain_Data_Organised/Train'\n",
        "test_dir = '/content/drive/MyDrive/AtiNeu Project/Data/MRI/Brain_Data_Organised/Test'"
      ],
      "metadata": {
        "id": "NSMVnrH_KELK"
      },
      "execution_count": 107,
      "outputs": []
    },
    {
      "cell_type": "code",
      "source": [
        "train_datagen = ImageDataGenerator (rescale = 1./225,)\n",
        "test_datagen = ImageDataGenerator (rescale = 1./225)"
      ],
      "metadata": {
        "id": "IrdTlYN9KQvo"
      },
      "execution_count": 115,
      "outputs": []
    },
    {
      "cell_type": "code",
      "source": [
        "train_gen  = train_datagen.flow_from_directory(\n",
        "    train_dir,\n",
        "    target_size = input_shape[:2],\n",
        "    batch_size = batch_size,\n",
        "    class_mode = 'categorical'\n",
        ")"
      ],
      "metadata": {
        "colab": {
          "base_uri": "https://localhost:8080/"
        },
        "id": "HwzAmqSNKdVk",
        "outputId": "89b56e2f-8f7f-42c1-a6cd-0deb41b3b6cd"
      },
      "execution_count": 129,
      "outputs": [
        {
          "output_type": "stream",
          "name": "stdout",
          "text": [
            "Found 2251 images belonging to 2 classes.\n"
          ]
        }
      ]
    },
    {
      "cell_type": "code",
      "source": [
        "test_gen = test_datagen.flow_from_directory(\n",
        "    test_dir,\n",
        "    target_size = input_shape[:2],\n",
        "    batch_size = batch_size,\n",
        "    class_mode = 'categorical',\n",
        "    color_mode='rgb'\n",
        ")"
      ],
      "metadata": {
        "colab": {
          "base_uri": "https://localhost:8080/"
        },
        "id": "VgfzJXcPLZcu",
        "outputId": "f50d6a3d-260e-4e18-82a1-5f9a64d1aaf1"
      },
      "execution_count": 130,
      "outputs": [
        {
          "output_type": "stream",
          "name": "stdout",
          "text": [
            "Found 250 images belonging to 2 classes.\n"
          ]
        }
      ]
    },
    {
      "cell_type": "code",
      "source": [
        "train_gen.image_shape"
      ],
      "metadata": {
        "colab": {
          "base_uri": "https://localhost:8080/"
        },
        "id": "v-A24zINRwg8",
        "outputId": "8021823b-6a4f-4f37-b5dd-87a8381a866d"
      },
      "execution_count": 131,
      "outputs": [
        {
          "output_type": "execute_result",
          "data": {
            "text/plain": [
              "(224, 224, 3)"
            ]
          },
          "metadata": {},
          "execution_count": 131
        }
      ]
    },
    {
      "cell_type": "code",
      "source": [
        "import numpy as np"
      ],
      "metadata": {
        "id": "KdRTsT-lSpxI"
      },
      "execution_count": 132,
      "outputs": []
    },
    {
      "cell_type": "code",
      "source": [
        "# train_gen = np.expand_dims(train_gen,axis=0)"
      ],
      "metadata": {
        "id": "CfnLq08hSxt-"
      },
      "execution_count": 133,
      "outputs": []
    },
    {
      "cell_type": "code",
      "source": [
        "test_gen.image_shape"
      ],
      "metadata": {
        "colab": {
          "base_uri": "https://localhost:8080/"
        },
        "id": "zCGuozfY4yQC",
        "outputId": "ed81ef2c-2c42-4b2a-85e5-c39162564b79"
      },
      "execution_count": 134,
      "outputs": [
        {
          "output_type": "execute_result",
          "data": {
            "text/plain": [
              "(224, 224, 3)"
            ]
          },
          "metadata": {},
          "execution_count": 134
        }
      ]
    },
    {
      "cell_type": "code",
      "source": [],
      "metadata": {
        "id": "T5p4nsXC4kR-"
      },
      "execution_count": 134,
      "outputs": []
    },
    {
      "cell_type": "code",
      "source": [
        "resnet = ResNet50(include_top = False, input_shape = input_shape)"
      ],
      "metadata": {
        "id": "ifmtjyerLqng"
      },
      "execution_count": 135,
      "outputs": []
    },
    {
      "cell_type": "code",
      "source": [
        "for layer in resnet.layers:\n",
        "  layer.trainable = False"
      ],
      "metadata": {
        "id": "i8vAyXgqMGpz"
      },
      "execution_count": 136,
      "outputs": []
    },
    {
      "cell_type": "code",
      "source": [
        "x = Flatten()(resnet.output)\n",
        "output = Dense(num_classes,activation='softmax')(x)"
      ],
      "metadata": {
        "id": "fwDxo3h-NTTa"
      },
      "execution_count": 137,
      "outputs": []
    },
    {
      "cell_type": "code",
      "source": [
        "model = Model(inputs=resnet.input,outputs=output)"
      ],
      "metadata": {
        "id": "1HKKvMK5NcJA"
      },
      "execution_count": 138,
      "outputs": []
    },
    {
      "cell_type": "code",
      "source": [
        "model.compile(optimizer='adam',loss='categorical_crossentropy',metrics=['accuracy'])\n"
      ],
      "metadata": {
        "id": "MUFVUUq9NlH3"
      },
      "execution_count": 139,
      "outputs": []
    },
    {
      "cell_type": "code",
      "source": [
        "import tensorflow as tf"
      ],
      "metadata": {
        "id": "QvGbaHr3Y2Q9"
      },
      "execution_count": 140,
      "outputs": []
    },
    {
      "cell_type": "code",
      "source": [],
      "metadata": {
        "id": "0pdPYSyYN2NK"
      },
      "execution_count": 150,
      "outputs": []
    },
    {
      "cell_type": "code",
      "source": [],
      "metadata": {
        "id": "C66QJKEXAdb-"
      },
      "execution_count": 150,
      "outputs": []
    },
    {
      "cell_type": "code",
      "source": [],
      "metadata": {
        "id": "cNlI9C3nAX30"
      },
      "execution_count": 150,
      "outputs": []
    },
    {
      "cell_type": "code",
      "source": [
        "history = model.fit(train_gen,epochs=25,validation_data=test_gen)"
      ],
      "metadata": {
        "colab": {
          "base_uri": "https://localhost:8080/"
        },
        "id": "HRFzbJ_LOB8l",
        "outputId": "c5b4aa28-eace-4ffd-ab54-6ed2e9d9d98a"
      },
      "execution_count": 159,
      "outputs": [
        {
          "output_type": "stream",
          "name": "stdout",
          "text": [
            "Epoch 1/25\n",
            "71/71 [==============================] - 12s 174ms/step - loss: 0.0778 - accuracy: 0.9738 - val_loss: 0.7673 - val_accuracy: 0.7680\n",
            "Epoch 2/25\n",
            "71/71 [==============================] - 14s 194ms/step - loss: 0.2287 - accuracy: 0.9120 - val_loss: 0.6706 - val_accuracy: 0.7920\n",
            "Epoch 3/25\n",
            "71/71 [==============================] - 13s 181ms/step - loss: 0.1174 - accuracy: 0.9516 - val_loss: 1.4958 - val_accuracy: 0.6600\n",
            "Epoch 4/25\n",
            "71/71 [==============================] - 12s 172ms/step - loss: 0.0578 - accuracy: 0.9796 - val_loss: 0.8183 - val_accuracy: 0.7720\n",
            "Epoch 5/25\n",
            "71/71 [==============================] - 14s 197ms/step - loss: 0.0212 - accuracy: 0.9964 - val_loss: 0.8398 - val_accuracy: 0.7600\n",
            "Epoch 6/25\n",
            "71/71 [==============================] - 12s 164ms/step - loss: 0.0127 - accuracy: 1.0000 - val_loss: 1.0350 - val_accuracy: 0.7160\n",
            "Epoch 7/25\n",
            "71/71 [==============================] - 12s 170ms/step - loss: 0.0117 - accuracy: 0.9996 - val_loss: 0.7759 - val_accuracy: 0.7520\n",
            "Epoch 8/25\n",
            "71/71 [==============================] - 12s 172ms/step - loss: 0.0104 - accuracy: 1.0000 - val_loss: 1.3182 - val_accuracy: 0.6920\n",
            "Epoch 9/25\n",
            "71/71 [==============================] - 12s 171ms/step - loss: 0.0144 - accuracy: 0.9996 - val_loss: 0.8065 - val_accuracy: 0.7720\n",
            "Epoch 10/25\n",
            "71/71 [==============================] - 12s 174ms/step - loss: 0.0079 - accuracy: 1.0000 - val_loss: 0.7822 - val_accuracy: 0.7720\n",
            "Epoch 11/25\n",
            "71/71 [==============================] - 13s 185ms/step - loss: 0.0087 - accuracy: 1.0000 - val_loss: 0.6704 - val_accuracy: 0.7920\n",
            "Epoch 12/25\n",
            "71/71 [==============================] - 13s 187ms/step - loss: 0.0071 - accuracy: 1.0000 - val_loss: 0.8624 - val_accuracy: 0.7520\n",
            "Epoch 13/25\n",
            "71/71 [==============================] - 12s 165ms/step - loss: 0.0059 - accuracy: 1.0000 - val_loss: 0.8784 - val_accuracy: 0.7640\n",
            "Epoch 14/25\n",
            "71/71 [==============================] - 13s 182ms/step - loss: 0.0063 - accuracy: 1.0000 - val_loss: 1.0243 - val_accuracy: 0.7440\n",
            "Epoch 15/25\n",
            "71/71 [==============================] - 13s 180ms/step - loss: 0.0064 - accuracy: 1.0000 - val_loss: 0.7724 - val_accuracy: 0.7760\n",
            "Epoch 16/25\n",
            "71/71 [==============================] - 13s 175ms/step - loss: 0.0048 - accuracy: 1.0000 - val_loss: 0.7596 - val_accuracy: 0.7760\n",
            "Epoch 17/25\n",
            "71/71 [==============================] - 12s 169ms/step - loss: 0.0049 - accuracy: 1.0000 - val_loss: 0.7325 - val_accuracy: 0.7920\n",
            "Epoch 18/25\n",
            "71/71 [==============================] - 12s 171ms/step - loss: 0.0045 - accuracy: 1.0000 - val_loss: 0.6476 - val_accuracy: 0.8040\n",
            "Epoch 19/25\n",
            "71/71 [==============================] - 13s 185ms/step - loss: 0.0044 - accuracy: 1.0000 - val_loss: 0.6739 - val_accuracy: 0.8000\n",
            "Epoch 20/25\n",
            "71/71 [==============================] - 13s 183ms/step - loss: 0.0046 - accuracy: 1.0000 - val_loss: 0.8535 - val_accuracy: 0.7680\n",
            "Epoch 21/25\n",
            "71/71 [==============================] - 13s 184ms/step - loss: 0.0039 - accuracy: 1.0000 - val_loss: 0.7001 - val_accuracy: 0.7960\n",
            "Epoch 22/25\n",
            "71/71 [==============================] - 13s 183ms/step - loss: 0.0037 - accuracy: 1.0000 - val_loss: 0.7453 - val_accuracy: 0.7880\n",
            "Epoch 23/25\n",
            "71/71 [==============================] - 14s 202ms/step - loss: 0.0035 - accuracy: 1.0000 - val_loss: 0.8343 - val_accuracy: 0.7760\n",
            "Epoch 24/25\n",
            "71/71 [==============================] - 15s 208ms/step - loss: 0.0035 - accuracy: 1.0000 - val_loss: 0.9426 - val_accuracy: 0.7560\n",
            "Epoch 25/25\n",
            "71/71 [==============================] - 16s 223ms/step - loss: 0.0031 - accuracy: 1.0000 - val_loss: 0.7309 - val_accuracy: 0.7920\n"
          ]
        }
      ]
    },
    {
      "cell_type": "code",
      "source": [
        "import matplotlib.pyplot as plt\n",
        "import pandas as pd\n"
      ],
      "metadata": {
        "id": "JNrHkT2mPWaC"
      },
      "execution_count": 162,
      "outputs": []
    },
    {
      "cell_type": "code",
      "source": [],
      "metadata": {
        "id": "t3aH_6Oc_giN"
      },
      "execution_count": 163,
      "outputs": []
    },
    {
      "cell_type": "code",
      "source": [
        "# plt.figure()\n",
        "# plt.xlabel('No. of epochs')\n",
        "# plt.ylabel(\"Accuracy\")\n",
        "# x = acc\n",
        "# plt.plot(epo,x,label='acc')\n",
        "# plt.legend()"
      ],
      "metadata": {
        "id": "mPxdUcLQ_qbE"
      },
      "execution_count": 164,
      "outputs": []
    },
    {
      "cell_type": "code",
      "source": [
        "acc = pd.DataFrame(history.history)\n",
        "epo = history.epoch\n",
        "\n",
        "plt.figure()\n",
        "plt.xlabel(\"No. of epochs\")\n",
        "plt.xlabel(\"Value\")\n",
        "for m in ['accuracy','val_accuracy']:\n",
        "  x = history.history[m]\n",
        "  plt.plot(epo[1:],x[1:],label=m)\n",
        "plt.legend()"
      ],
      "metadata": {
        "colab": {
          "base_uri": "https://localhost:8080/",
          "height": 296
        },
        "id": "JUCEFJUJADul",
        "outputId": "d6d2cff7-da67-445c-fac8-7a4aa2a43e7b"
      },
      "execution_count": 166,
      "outputs": [
        {
          "output_type": "execute_result",
          "data": {
            "text/plain": [
              "<matplotlib.legend.Legend at 0x7f6fb2ca22b0>"
            ]
          },
          "metadata": {},
          "execution_count": 166
        },
        {
          "output_type": "display_data",
          "data": {
            "text/plain": [
              "<Figure size 432x288 with 1 Axes>"
            ],
            "image/png": "[encoded data removed]"
          },
          "metadata": {
            "needs_background": "light"
          }
        }
      ]
    },
    {
      "cell_type": "code",
      "source": [],
      "metadata": {
        "id": "WyVCVhOTBX2s"
      },
      "execution_count": null,
      "outputs": []
    }
  ]
}