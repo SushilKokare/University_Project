{
  "nbformat": 4,
  "nbformat_minor": 0,
  "metadata": {
    "colab": {
      "provenance": [],
      "authorship_tag": "ABX9TyNRvWG+TSqEiH1MM4QFmMuH",
      "include_colab_link": true
    },
    "kernelspec": {
      "name": "python3",
      "display_name": "Python 3"
    },
    "language_info": {
      "name": "python"
    },
    "accelerator": "GPU",
    "gpuClass": "standard"
  },
  "cells": [
    {
      "cell_type": "markdown",
      "metadata": {
        "id": "view-in-github",
        "colab_type": "text"
      },
      "source": [
        "<a href=\"https://colab.research.google.com/github/SushilKokare/AtiNeu_Project/blob/main/7_DenseNet121.ipynb\" target=\"_parent\"><img src=\"https://colab.research.google.com/assets/colab-badge.svg\" alt=\"Open In Colab\"/></a>"
      ]
    },
    {
      "cell_type": "code",
      "execution_count": 1,
      "metadata": {
        "id": "y4EMnRO-cUeX"
      },
      "outputs": [],
      "source": [
        "from google.colab import drive"
      ]
    },
    {
      "cell_type": "code",
      "source": [
        "drive.mount('/content/drive')"
      ],
      "metadata": {
        "colab": {
          "base_uri": "https://localhost:8080/"
        },
        "id": "7NHSsAqtci6r",
        "outputId": "e7e88f1a-98c0-43b7-ad02-76a3948fae83"
      },
      "execution_count": 2,
      "outputs": [
        {
          "output_type": "stream",
          "name": "stdout",
          "text": [
            "Mounted at /content/drive\n"
          ]
        }
      ]
    },
    {
      "cell_type": "code",
      "source": [
        "import numpy as np\n",
        "import os\n",
        "import tensorflow as tf\n",
        "from tensorflow.keras.preprocessing.image import ImageDataGenerator\n",
        "from tensorflow.keras.applications.densenet import DenseNet121\n",
        "from keras.layers import Dense,Flatten\n",
        "from keras.models import Model"
      ],
      "metadata": {
        "id": "xGmcJfXdckC8"
      },
      "execution_count": 13,
      "outputs": []
    },
    {
      "cell_type": "code",
      "source": [
        "input_shape = (224,224)\n",
        "batch_size=32"
      ],
      "metadata": {
        "id": "DzCp7Hg9cmzW"
      },
      "execution_count": 22,
      "outputs": []
    },
    {
      "cell_type": "code",
      "source": [
        "train_dir = '/content/drive/MyDrive/AtiNeu Project/Data/MRI/Brain_Data_Organised/Train'\n",
        "test_dir = '/content/drive/MyDrive/AtiNeu Project/Data/MRI/Brain_Data_Organised/Test'"
      ],
      "metadata": {
        "id": "PJHaN7BJcye7"
      },
      "execution_count": 23,
      "outputs": []
    },
    {
      "cell_type": "code",
      "source": [
        "train_datagen = ImageDataGenerator (rescale = 1./225,)\n",
        "test_datagen = ImageDataGenerator (rescale = 1./225)"
      ],
      "metadata": {
        "id": "b3ll4dJNc0R6"
      },
      "execution_count": 24,
      "outputs": []
    },
    {
      "cell_type": "code",
      "source": [
        "train_gen  = train_datagen.flow_from_directory(\n",
        "    train_dir,\n",
        "    target_size = input_shape,\n",
        "    class_mode = 'binary',\n",
        "    batch_size = batch_size,\n",
        "    classes=['Normal','Stroke']\n",
        ")"
      ],
      "metadata": {
        "colab": {
          "base_uri": "https://localhost:8080/"
        },
        "id": "W-7RBMF5dRw8",
        "outputId": "a5618cf4-87c2-4aaf-b587-1ad03d64928d"
      },
      "execution_count": 25,
      "outputs": [
        {
          "output_type": "stream",
          "name": "stdout",
          "text": [
            "Found 2251 images belonging to 2 classes.\n"
          ]
        }
      ]
    },
    {
      "cell_type": "code",
      "source": [
        "test_gen = test_datagen.flow_from_directory(\n",
        "    test_dir,\n",
        "    target_size = input_shape,\n",
        "    batch_size = batch_size,\n",
        "    class_mode = 'binary',\n",
        "    classes=['Normal','Stroke']\n",
        ")"
      ],
      "metadata": {
        "colab": {
          "base_uri": "https://localhost:8080/"
        },
        "id": "QB64cL8OdUOP",
        "outputId": "46b953b0-8d1b-4bc5-e0bd-ec66aca1c2b2"
      },
      "execution_count": 26,
      "outputs": [
        {
          "output_type": "stream",
          "name": "stdout",
          "text": [
            "Found 250 images belonging to 2 classes.\n"
          ]
        }
      ]
    },
    {
      "cell_type": "code",
      "source": [],
      "metadata": {
        "id": "p7PH2W0AdWJ6"
      },
      "execution_count": 29,
      "outputs": []
    },
    {
      "cell_type": "code",
      "source": [
        "base_model = DenseNet121(weights='imagenet',include_top=False,\n",
        "                         input_shape=(input_shape[0],input_shape[1],3))"
      ],
      "metadata": {
        "colab": {
          "base_uri": "https://localhost:8080/"
        },
        "id": "YH7gxwgxdYIv",
        "outputId": "beb75210-d69b-4971-c969-fcc9168b18b7"
      },
      "execution_count": 32,
      "outputs": [
        {
          "output_type": "stream",
          "name": "stdout",
          "text": [
            "Downloading data from https://storage.googleapis.com/tensorflow/keras-applications/densenet/densenet121_weights_tf_dim_ordering_tf_kernels_notop.h5\n",
            "29084464/29084464 [==============================] - 2s 0us/step\n"
          ]
        }
      ]
    },
    {
      "cell_type": "code",
      "source": [
        "from tensorflow.keras.layers import Dense,GlobalAveragePooling2D"
      ],
      "metadata": {
        "id": "NCbxzRADhEpw"
      },
      "execution_count": 33,
      "outputs": []
    },
    {
      "cell_type": "code",
      "source": [
        "x = base_model.output\n",
        "x = GlobalAveragePooling2D()(x)\n",
        "x = Dense(1,activation='sigmoid')(x)\n"
      ],
      "metadata": {
        "id": "OhFqidHudZec"
      },
      "execution_count": 35,
      "outputs": []
    },
    {
      "cell_type": "code",
      "source": [
        "model = Model(inputs=base_model.input,outputs=x)"
      ],
      "metadata": {
        "id": "Uf3djcMFdbPC"
      },
      "execution_count": 37,
      "outputs": []
    },
    {
      "cell_type": "code",
      "source": [
        "model.compile(loss='binary_crossentropy',optimizer='adam',metrics=['accuracy'])"
      ],
      "metadata": {
        "id": "_IsKz2C2dc_p"
      },
      "execution_count": 38,
      "outputs": []
    },
    {
      "cell_type": "code",
      "source": [
        "history = model.fit(\n",
        "    train_gen,\n",
        "    epochs=100,\n",
        "    validation_data=test_gen\n",
        ")"
      ],
      "metadata": {
        "colab": {
          "base_uri": "https://localhost:8080/"
        },
        "id": "6NDXmRJohmu8",
        "outputId": "0b9e54a7-5f6d-446c-d676-be266840f7e8"
      },
      "execution_count": 61,
      "outputs": [
        {
          "output_type": "stream",
          "name": "stdout",
          "text": [
            "Epoch 1/100\n",
            "71/71 [==============================] - 26s 369ms/step - loss: 0.0505 - accuracy: 0.9822 - val_loss: 2.1886 - val_accuracy: 0.7160\n",
            "Epoch 2/100\n",
            "71/71 [==============================] - 26s 367ms/step - loss: 0.0179 - accuracy: 0.9956 - val_loss: 0.2487 - val_accuracy: 0.9080\n",
            "Epoch 3/100\n",
            "71/71 [==============================] - 26s 368ms/step - loss: 0.0885 - accuracy: 0.9725 - val_loss: 0.6145 - val_accuracy: 0.8240\n",
            "Epoch 4/100\n",
            "71/71 [==============================] - 26s 371ms/step - loss: 0.0438 - accuracy: 0.9853 - val_loss: 0.8108 - val_accuracy: 0.7800\n",
            "Epoch 5/100\n",
            "71/71 [==============================] - 27s 375ms/step - loss: 0.0094 - accuracy: 0.9987 - val_loss: 0.1934 - val_accuracy: 0.9320\n",
            "Epoch 6/100\n",
            "71/71 [==============================] - 28s 389ms/step - loss: 0.0058 - accuracy: 0.9991 - val_loss: 0.2530 - val_accuracy: 0.9240\n",
            "Epoch 7/100\n",
            "71/71 [==============================] - 27s 376ms/step - loss: 0.0688 - accuracy: 0.9756 - val_loss: 7.9168 - val_accuracy: 0.5200\n",
            "Epoch 8/100\n",
            "71/71 [==============================] - 27s 377ms/step - loss: 0.0508 - accuracy: 0.9818 - val_loss: 1.7575 - val_accuracy: 0.7680\n",
            "Epoch 9/100\n",
            "71/71 [==============================] - 27s 379ms/step - loss: 0.0451 - accuracy: 0.9791 - val_loss: 0.4429 - val_accuracy: 0.8840\n",
            "Epoch 10/100\n",
            "71/71 [==============================] - 27s 375ms/step - loss: 0.0211 - accuracy: 0.9947 - val_loss: 0.5621 - val_accuracy: 0.8920\n",
            "Epoch 11/100\n",
            "71/71 [==============================] - 27s 378ms/step - loss: 0.0177 - accuracy: 0.9951 - val_loss: 0.6301 - val_accuracy: 0.8560\n",
            "Epoch 12/100\n",
            "71/71 [==============================] - 27s 379ms/step - loss: 0.0040 - accuracy: 0.9996 - val_loss: 0.1363 - val_accuracy: 0.9560\n",
            "Epoch 13/100\n",
            "71/71 [==============================] - 27s 380ms/step - loss: 8.8806e-04 - accuracy: 1.0000 - val_loss: 0.1379 - val_accuracy: 0.9560\n",
            "Epoch 14/100\n",
            "71/71 [==============================] - 27s 378ms/step - loss: 6.9624e-04 - accuracy: 1.0000 - val_loss: 0.1455 - val_accuracy: 0.9480\n",
            "Epoch 15/100\n",
            "71/71 [==============================] - 27s 381ms/step - loss: 4.4635e-04 - accuracy: 1.0000 - val_loss: 0.1321 - val_accuracy: 0.9520\n",
            "Epoch 16/100\n",
            "71/71 [==============================] - 27s 379ms/step - loss: 3.4630e-04 - accuracy: 1.0000 - val_loss: 0.1337 - val_accuracy: 0.9560\n",
            "Epoch 17/100\n",
            "71/71 [==============================] - 27s 380ms/step - loss: 2.8141e-04 - accuracy: 1.0000 - val_loss: 0.1433 - val_accuracy: 0.9560\n",
            "Epoch 18/100\n",
            "71/71 [==============================] - 28s 394ms/step - loss: 2.2902e-04 - accuracy: 1.0000 - val_loss: 0.1429 - val_accuracy: 0.9600\n",
            "Epoch 19/100\n",
            "71/71 [==============================] - 27s 378ms/step - loss: 1.7438e-04 - accuracy: 1.0000 - val_loss: 0.1497 - val_accuracy: 0.9560\n",
            "Epoch 20/100\n",
            "71/71 [==============================] - 27s 379ms/step - loss: 0.0110 - accuracy: 0.9947 - val_loss: 0.1851 - val_accuracy: 0.9200\n",
            "Epoch 21/100\n",
            "71/71 [==============================] - 27s 379ms/step - loss: 0.0915 - accuracy: 0.9631 - val_loss: 0.7217 - val_accuracy: 0.9080\n",
            "Epoch 22/100\n",
            "71/71 [==============================] - 27s 380ms/step - loss: 0.1012 - accuracy: 0.9631 - val_loss: 3.3203 - val_accuracy: 0.7040\n",
            "Epoch 23/100\n",
            "71/71 [==============================] - 27s 377ms/step - loss: 0.0256 - accuracy: 0.9911 - val_loss: 0.3324 - val_accuracy: 0.9000\n",
            "Epoch 24/100\n",
            "71/71 [==============================] - 27s 378ms/step - loss: 0.0263 - accuracy: 0.9916 - val_loss: 0.5425 - val_accuracy: 0.8440\n",
            "Epoch 25/100\n",
            "71/71 [==============================] - 27s 377ms/step - loss: 0.0089 - accuracy: 0.9969 - val_loss: 1.5437 - val_accuracy: 0.6880\n",
            "Epoch 26/100\n",
            "71/71 [==============================] - 27s 379ms/step - loss: 0.0070 - accuracy: 0.9982 - val_loss: 0.2007 - val_accuracy: 0.9440\n",
            "Epoch 27/100\n",
            "71/71 [==============================] - 28s 393ms/step - loss: 0.0047 - accuracy: 0.9982 - val_loss: 0.6203 - val_accuracy: 0.9040\n",
            "Epoch 28/100\n",
            "71/71 [==============================] - 27s 380ms/step - loss: 0.0237 - accuracy: 0.9924 - val_loss: 2.6216 - val_accuracy: 0.7040\n",
            "Epoch 29/100\n",
            "71/71 [==============================] - 28s 395ms/step - loss: 0.0486 - accuracy: 0.9845 - val_loss: 0.2604 - val_accuracy: 0.9160\n",
            "Epoch 30/100\n",
            "71/71 [==============================] - 27s 376ms/step - loss: 0.0127 - accuracy: 0.9969 - val_loss: 0.4074 - val_accuracy: 0.8480\n",
            "Epoch 31/100\n",
            "71/71 [==============================] - 27s 379ms/step - loss: 0.0357 - accuracy: 0.9907 - val_loss: 0.5158 - val_accuracy: 0.8520\n",
            "Epoch 32/100\n",
            "71/71 [==============================] - 27s 379ms/step - loss: 0.0088 - accuracy: 0.9973 - val_loss: 0.2952 - val_accuracy: 0.9040\n",
            "Epoch 33/100\n",
            "71/71 [==============================] - 27s 381ms/step - loss: 0.0057 - accuracy: 0.9987 - val_loss: 0.2366 - val_accuracy: 0.9520\n",
            "Epoch 34/100\n",
            "71/71 [==============================] - 27s 380ms/step - loss: 0.0075 - accuracy: 0.9978 - val_loss: 0.4575 - val_accuracy: 0.9080\n",
            "Epoch 35/100\n",
            "71/71 [==============================] - 27s 380ms/step - loss: 0.0083 - accuracy: 0.9969 - val_loss: 0.2322 - val_accuracy: 0.9400\n",
            "Epoch 36/100\n",
            "71/71 [==============================] - 27s 377ms/step - loss: 0.0014 - accuracy: 0.9996 - val_loss: 0.3317 - val_accuracy: 0.9120\n",
            "Epoch 37/100\n",
            "71/71 [==============================] - 27s 379ms/step - loss: 0.0028 - accuracy: 0.9991 - val_loss: 0.1670 - val_accuracy: 0.9480\n",
            "Epoch 38/100\n",
            "71/71 [==============================] - 27s 376ms/step - loss: 0.0022 - accuracy: 0.9991 - val_loss: 0.3944 - val_accuracy: 0.9040\n",
            "Epoch 39/100\n",
            "71/71 [==============================] - 27s 380ms/step - loss: 0.0013 - accuracy: 1.0000 - val_loss: 0.1949 - val_accuracy: 0.9320\n",
            "Epoch 40/100\n",
            "71/71 [==============================] - 28s 394ms/step - loss: 5.9401e-04 - accuracy: 1.0000 - val_loss: 0.1450 - val_accuracy: 0.9480\n",
            "Epoch 41/100\n",
            "71/71 [==============================] - 27s 376ms/step - loss: 8.9758e-04 - accuracy: 0.9996 - val_loss: 0.2184 - val_accuracy: 0.9400\n",
            "Epoch 42/100\n",
            "71/71 [==============================] - 27s 377ms/step - loss: 2.8053e-04 - accuracy: 1.0000 - val_loss: 0.2115 - val_accuracy: 0.9440\n",
            "Epoch 43/100\n",
            "71/71 [==============================] - 27s 377ms/step - loss: 2.7990e-04 - accuracy: 1.0000 - val_loss: 0.2237 - val_accuracy: 0.9360\n",
            "Epoch 44/100\n",
            "71/71 [==============================] - 27s 377ms/step - loss: 2.0197e-04 - accuracy: 1.0000 - val_loss: 0.1871 - val_accuracy: 0.9360\n",
            "Epoch 45/100\n",
            "71/71 [==============================] - 27s 377ms/step - loss: 9.4582e-05 - accuracy: 1.0000 - val_loss: 0.1591 - val_accuracy: 0.9480\n",
            "Epoch 46/100\n",
            "71/71 [==============================] - 27s 377ms/step - loss: 1.4092e-04 - accuracy: 1.0000 - val_loss: 0.1522 - val_accuracy: 0.9520\n",
            "Epoch 47/100\n",
            "71/71 [==============================] - 27s 374ms/step - loss: 0.0034 - accuracy: 0.9996 - val_loss: 1.7771 - val_accuracy: 0.7360\n",
            "Epoch 48/100\n",
            "71/71 [==============================] - 27s 377ms/step - loss: 0.1065 - accuracy: 0.9658 - val_loss: 1.4384 - val_accuracy: 0.7920\n",
            "Epoch 49/100\n",
            "71/71 [==============================] - 27s 374ms/step - loss: 0.0468 - accuracy: 0.9818 - val_loss: 0.3657 - val_accuracy: 0.9120\n",
            "Epoch 50/100\n",
            "71/71 [==============================] - 27s 376ms/step - loss: 0.0136 - accuracy: 0.9960 - val_loss: 0.1130 - val_accuracy: 0.9520\n",
            "Epoch 51/100\n",
            "71/71 [==============================] - 27s 376ms/step - loss: 0.0181 - accuracy: 0.9942 - val_loss: 0.7865 - val_accuracy: 0.8160\n",
            "Epoch 52/100\n",
            "71/71 [==============================] - 27s 377ms/step - loss: 0.0228 - accuracy: 0.9907 - val_loss: 0.3032 - val_accuracy: 0.9200\n",
            "Epoch 53/100\n",
            "71/71 [==============================] - 27s 376ms/step - loss: 0.0030 - accuracy: 1.0000 - val_loss: 0.1049 - val_accuracy: 0.9600\n",
            "Epoch 54/100\n",
            "71/71 [==============================] - 27s 376ms/step - loss: 0.0037 - accuracy: 0.9996 - val_loss: 0.6795 - val_accuracy: 0.9040\n",
            "Epoch 55/100\n",
            "71/71 [==============================] - 27s 377ms/step - loss: 0.0046 - accuracy: 0.9982 - val_loss: 0.3120 - val_accuracy: 0.9200\n",
            "Epoch 56/100\n",
            "71/71 [==============================] - 27s 378ms/step - loss: 0.0278 - accuracy: 0.9911 - val_loss: 1.3421 - val_accuracy: 0.7080\n",
            "Epoch 57/100\n",
            "71/71 [==============================] - 27s 378ms/step - loss: 0.0367 - accuracy: 0.9858 - val_loss: 1.3440 - val_accuracy: 0.8200\n",
            "Epoch 58/100\n",
            "71/71 [==============================] - 27s 376ms/step - loss: 0.0245 - accuracy: 0.9916 - val_loss: 1.2433 - val_accuracy: 0.7960\n",
            "Epoch 59/100\n",
            "71/71 [==============================] - 27s 377ms/step - loss: 0.0113 - accuracy: 0.9973 - val_loss: 1.1018 - val_accuracy: 0.8040\n",
            "Epoch 60/100\n",
            "71/71 [==============================] - 27s 378ms/step - loss: 0.0249 - accuracy: 0.9920 - val_loss: 2.0834 - val_accuracy: 0.7440\n",
            "Epoch 61/100\n",
            "71/71 [==============================] - 27s 375ms/step - loss: 0.0145 - accuracy: 0.9942 - val_loss: 0.1575 - val_accuracy: 0.9600\n",
            "Epoch 62/100\n",
            "71/71 [==============================] - 27s 376ms/step - loss: 0.0062 - accuracy: 0.9973 - val_loss: 0.2977 - val_accuracy: 0.9480\n",
            "Epoch 63/100\n",
            "71/71 [==============================] - 27s 377ms/step - loss: 0.0050 - accuracy: 0.9982 - val_loss: 0.2590 - val_accuracy: 0.9560\n",
            "Epoch 64/100\n",
            "71/71 [==============================] - 27s 378ms/step - loss: 0.0188 - accuracy: 0.9947 - val_loss: 1.7474 - val_accuracy: 0.8320\n",
            "Epoch 65/100\n",
            "71/71 [==============================] - 28s 393ms/step - loss: 0.0139 - accuracy: 0.9942 - val_loss: 0.6971 - val_accuracy: 0.8760\n",
            "Epoch 66/100\n",
            "71/71 [==============================] - 27s 375ms/step - loss: 0.0066 - accuracy: 0.9973 - val_loss: 0.1465 - val_accuracy: 0.9360\n",
            "Epoch 67/100\n",
            "71/71 [==============================] - 27s 379ms/step - loss: 0.0030 - accuracy: 0.9991 - val_loss: 0.1769 - val_accuracy: 0.9560\n",
            "Epoch 68/100\n",
            "71/71 [==============================] - 27s 377ms/step - loss: 0.0026 - accuracy: 0.9996 - val_loss: 0.2461 - val_accuracy: 0.9280\n",
            "Epoch 69/100\n",
            "71/71 [==============================] - 27s 379ms/step - loss: 5.0527e-04 - accuracy: 1.0000 - val_loss: 0.2484 - val_accuracy: 0.9320\n",
            "Epoch 70/100\n",
            "71/71 [==============================] - 27s 378ms/step - loss: 7.9176e-04 - accuracy: 1.0000 - val_loss: 0.2361 - val_accuracy: 0.9280\n",
            "Epoch 71/100\n",
            "71/71 [==============================] - 28s 394ms/step - loss: 4.1401e-04 - accuracy: 1.0000 - val_loss: 0.2326 - val_accuracy: 0.9360\n",
            "Epoch 72/100\n",
            "71/71 [==============================] - 27s 378ms/step - loss: 3.7004e-04 - accuracy: 1.0000 - val_loss: 0.2438 - val_accuracy: 0.9440\n",
            "Epoch 73/100\n",
            "71/71 [==============================] - 27s 379ms/step - loss: 2.5240e-04 - accuracy: 1.0000 - val_loss: 0.3047 - val_accuracy: 0.9320\n",
            "Epoch 74/100\n",
            "71/71 [==============================] - 27s 379ms/step - loss: 1.2005e-04 - accuracy: 1.0000 - val_loss: 0.3409 - val_accuracy: 0.9280\n",
            "Epoch 75/100\n",
            "71/71 [==============================] - 27s 374ms/step - loss: 3.0488e-04 - accuracy: 1.0000 - val_loss: 0.4344 - val_accuracy: 0.9240\n",
            "Epoch 76/100\n",
            "71/71 [==============================] - 27s 377ms/step - loss: 1.6780e-04 - accuracy: 1.0000 - val_loss: 0.3727 - val_accuracy: 0.9280\n",
            "Epoch 77/100\n",
            "71/71 [==============================] - 27s 376ms/step - loss: 6.7111e-05 - accuracy: 1.0000 - val_loss: 0.3475 - val_accuracy: 0.9280\n",
            "Epoch 78/100\n",
            "71/71 [==============================] - 27s 378ms/step - loss: 7.0835e-05 - accuracy: 1.0000 - val_loss: 0.3485 - val_accuracy: 0.9320\n",
            "Epoch 79/100\n",
            "71/71 [==============================] - 27s 380ms/step - loss: 6.9698e-05 - accuracy: 1.0000 - val_loss: 0.3438 - val_accuracy: 0.9320\n",
            "Epoch 80/100\n",
            "71/71 [==============================] - 27s 379ms/step - loss: 9.8182e-04 - accuracy: 0.9996 - val_loss: 0.6456 - val_accuracy: 0.9000\n",
            "Epoch 81/100\n",
            "71/71 [==============================] - 27s 377ms/step - loss: 0.0711 - accuracy: 0.9809 - val_loss: 4.8448 - val_accuracy: 0.6520\n",
            "Epoch 82/100\n",
            "71/71 [==============================] - 28s 392ms/step - loss: 0.0485 - accuracy: 0.9805 - val_loss: 0.6133 - val_accuracy: 0.8960\n",
            "Epoch 83/100\n",
            "71/71 [==============================] - 27s 379ms/step - loss: 0.0155 - accuracy: 0.9956 - val_loss: 3.2936 - val_accuracy: 0.6720\n",
            "Epoch 84/100\n",
            "71/71 [==============================] - 27s 378ms/step - loss: 0.0040 - accuracy: 0.9996 - val_loss: 0.4144 - val_accuracy: 0.9080\n",
            "Epoch 85/100\n",
            "71/71 [==============================] - 27s 381ms/step - loss: 0.0033 - accuracy: 0.9991 - val_loss: 0.2867 - val_accuracy: 0.9280\n",
            "Epoch 86/100\n",
            "71/71 [==============================] - 27s 377ms/step - loss: 6.7622e-04 - accuracy: 1.0000 - val_loss: 0.2469 - val_accuracy: 0.9240\n",
            "Epoch 87/100\n",
            "71/71 [==============================] - 27s 381ms/step - loss: 5.2448e-04 - accuracy: 1.0000 - val_loss: 0.1612 - val_accuracy: 0.9480\n",
            "Epoch 88/100\n",
            "71/71 [==============================] - 27s 376ms/step - loss: 2.9883e-04 - accuracy: 1.0000 - val_loss: 0.1570 - val_accuracy: 0.9560\n",
            "Epoch 89/100\n",
            "71/71 [==============================] - 27s 378ms/step - loss: 1.2814e-04 - accuracy: 1.0000 - val_loss: 0.1596 - val_accuracy: 0.9560\n",
            "Epoch 90/100\n",
            "71/71 [==============================] - 27s 380ms/step - loss: 2.2983e-04 - accuracy: 1.0000 - val_loss: 0.1541 - val_accuracy: 0.9560\n",
            "Epoch 91/100\n",
            "71/71 [==============================] - 28s 395ms/step - loss: 1.2923e-04 - accuracy: 1.0000 - val_loss: 0.1558 - val_accuracy: 0.9560\n",
            "Epoch 92/100\n",
            "71/71 [==============================] - 28s 394ms/step - loss: 1.4118e-04 - accuracy: 1.0000 - val_loss: 0.1835 - val_accuracy: 0.9480\n",
            "Epoch 93/100\n",
            "71/71 [==============================] - 27s 376ms/step - loss: 1.5929e-04 - accuracy: 1.0000 - val_loss: 0.1666 - val_accuracy: 0.9520\n",
            "Epoch 94/100\n",
            "71/71 [==============================] - 27s 378ms/step - loss: 2.0482e-04 - accuracy: 1.0000 - val_loss: 0.2028 - val_accuracy: 0.9440\n",
            "Epoch 95/100\n",
            "71/71 [==============================] - 27s 378ms/step - loss: 7.0705e-05 - accuracy: 1.0000 - val_loss: 0.1836 - val_accuracy: 0.9480\n",
            "Epoch 96/100\n",
            "71/71 [==============================] - 27s 377ms/step - loss: 1.5738e-04 - accuracy: 1.0000 - val_loss: 0.1740 - val_accuracy: 0.9520\n",
            "Epoch 97/100\n",
            "71/71 [==============================] - 27s 377ms/step - loss: 0.1695 - accuracy: 0.9431 - val_loss: 6.4225 - val_accuracy: 0.5440\n",
            "Epoch 98/100\n",
            "71/71 [==============================] - 27s 374ms/step - loss: 0.0399 - accuracy: 0.9867 - val_loss: 0.3221 - val_accuracy: 0.9280\n",
            "Epoch 99/100\n",
            "71/71 [==============================] - 27s 377ms/step - loss: 0.0083 - accuracy: 0.9978 - val_loss: 0.2664 - val_accuracy: 0.9120\n",
            "Epoch 100/100\n",
            "71/71 [==============================] - 27s 374ms/step - loss: 0.0220 - accuracy: 0.9938 - val_loss: 1.4942 - val_accuracy: 0.8160\n"
          ]
        }
      ]
    },
    {
      "cell_type": "code",
      "source": [
        "loss,acc = model.evaluate(test_gen)"
      ],
      "metadata": {
        "colab": {
          "base_uri": "https://localhost:8080/"
        },
        "id": "sUApagkEh87q",
        "outputId": "13194455-6a15-45d1-e0ff-94c292ea2eac"
      },
      "execution_count": 62,
      "outputs": [
        {
          "output_type": "stream",
          "name": "stdout",
          "text": [
            "8/8 [==============================] - 1s 133ms/step - loss: 1.4942 - accuracy: 0.8160\n"
          ]
        }
      ]
    },
    {
      "cell_type": "code",
      "source": [
        "print('Acc ',acc)"
      ],
      "metadata": {
        "colab": {
          "base_uri": "https://localhost:8080/"
        },
        "id": "7L_hLJTwo52z",
        "outputId": "ad81de60-b801-40c6-f3d8-3adc67eaefac"
      },
      "execution_count": 63,
      "outputs": [
        {
          "output_type": "stream",
          "name": "stdout",
          "text": [
            "Acc  0.8159999847412109\n"
          ]
        }
      ]
    },
    {
      "cell_type": "code",
      "source": [
        "import pandas as pd"
      ],
      "metadata": {
        "id": "O99Tbl9hqH5U"
      },
      "execution_count": 64,
      "outputs": []
    },
    {
      "cell_type": "code",
      "source": [
        "pd.DataFrame(history.history)"
      ],
      "metadata": {
        "colab": {
          "base_uri": "https://localhost:8080/",
          "height": 424
        },
        "id": "ja0pgOrMo8Fk",
        "outputId": "db680cb9-404d-4a30-cf97-fb9c9fab5bc1"
      },
      "execution_count": 65,
      "outputs": [
        {
          "output_type": "execute_result",
          "data": {
            "text/plain": [
              "        loss  accuracy  val_loss  val_accuracy\n",
              "0   0.050504  0.982230  2.188615         0.716\n",
              "1   0.017908  0.995558  0.248708         0.908\n",
              "2   0.088453  0.972457  0.614519         0.824\n",
              "3   0.043804  0.985340  0.810811         0.780\n",
              "4   0.009433  0.998667  0.193366         0.932\n",
              "..       ...       ...       ...           ...\n",
              "95  0.000157  1.000000  0.173982         0.952\n",
              "96  0.169459  0.943136  6.422485         0.544\n",
              "97  0.039857  0.986673  0.322117         0.928\n",
              "98  0.008343  0.997779  0.266385         0.912\n",
              "99  0.021994  0.993781  1.494186         0.816\n",
              "\n",
              "[100 rows x 4 columns]"
            ],
            "text/html": [
              "\n",
              "  <div id=\"df-87ea2600-9add-4e5d-a94e-4acf1f86384b\">\n",
              "    <div class=\"colab-df-container\">\n",
              "      <div>\n",
              "<style scoped>\n",
              "    .dataframe tbody tr th:only-of-type {\n",
              "        vertical-align: middle;\n",
              "    }\n",
              "\n",
              "    .dataframe tbody tr th {\n",
              "        vertical-align: top;\n",
              "    }\n",
              "\n",
              "    .dataframe thead th {\n",
              "        text-align: right;\n",
              "    }\n",
              "</style>\n",
              "<table border=\"1\" class=\"dataframe\">\n",
              "  <thead>\n",
              "    <tr style=\"text-align: right;\">\n",
              "      <th></th>\n",
              "      <th>loss</th>\n",
              "      <th>accuracy</th>\n",
              "      <th>val_loss</th>\n",
              "      <th>val_accuracy</th>\n",
              "    </tr>\n",
              "  </thead>\n",
              "  <tbody>\n",
              "    <tr>\n",
              "      <th>0</th>\n",
              "      <td>0.050504</td>\n",
              "      <td>0.982230</td>\n",
              "      <td>2.188615</td>\n",
              "      <td>0.716</td>\n",
              "    </tr>\n",
              "    <tr>\n",
              "      <th>1</th>\n",
              "      <td>0.017908</td>\n",
              "      <td>0.995558</td>\n",
              "      <td>0.248708</td>\n",
              "      <td>0.908</td>\n",
              "    </tr>\n",
              "    <tr>\n",
              "      <th>2</th>\n",
              "      <td>0.088453</td>\n",
              "      <td>0.972457</td>\n",
              "      <td>0.614519</td>\n",
              "      <td>0.824</td>\n",
              "    </tr>\n",
              "    <tr>\n",
              "      <th>3</th>\n",
              "      <td>0.043804</td>\n",
              "      <td>0.985340</td>\n",
              "      <td>0.810811</td>\n",
              "      <td>0.780</td>\n",
              "    </tr>\n",
              "    <tr>\n",
              "      <th>4</th>\n",
              "      <td>0.009433</td>\n",
              "      <td>0.998667</td>\n",
              "      <td>0.193366</td>\n",
              "      <td>0.932</td>\n",
              "    </tr>\n",
              "    <tr>\n",
              "      <th>...</th>\n",
              "      <td>...</td>\n",
              "      <td>...</td>\n",
              "      <td>...</td>\n",
              "      <td>...</td>\n",
              "    </tr>\n",
              "    <tr>\n",
              "      <th>95</th>\n",
              "      <td>0.000157</td>\n",
              "      <td>1.000000</td>\n",
              "      <td>0.173982</td>\n",
              "      <td>0.952</td>\n",
              "    </tr>\n",
              "    <tr>\n",
              "      <th>96</th>\n",
              "      <td>0.169459</td>\n",
              "      <td>0.943136</td>\n",
              "      <td>6.422485</td>\n",
              "      <td>0.544</td>\n",
              "    </tr>\n",
              "    <tr>\n",
              "      <th>97</th>\n",
              "      <td>0.039857</td>\n",
              "      <td>0.986673</td>\n",
              "      <td>0.322117</td>\n",
              "      <td>0.928</td>\n",
              "    </tr>\n",
              "    <tr>\n",
              "      <th>98</th>\n",
              "      <td>0.008343</td>\n",
              "      <td>0.997779</td>\n",
              "      <td>0.266385</td>\n",
              "      <td>0.912</td>\n",
              "    </tr>\n",
              "    <tr>\n",
              "      <th>99</th>\n",
              "      <td>0.021994</td>\n",
              "      <td>0.993781</td>\n",
              "      <td>1.494186</td>\n",
              "      <td>0.816</td>\n",
              "    </tr>\n",
              "  </tbody>\n",
              "</table>\n",
              "<p>100 rows × 4 columns</p>\n",
              "</div>\n",
              "      <button class=\"colab-df-convert\" onclick=\"convertToInteractive('df-87ea2600-9add-4e5d-a94e-4acf1f86384b')\"\n",
              "              title=\"Convert this dataframe to an interactive table.\"\n",
              "              style=\"display:none;\">\n",
              "        \n",
              "  <svg xmlns=\"http://www.w3.org/2000/svg\" height=\"24px\"viewBox=\"0 0 24 24\"\n",
              "       width=\"24px\">\n",
              "    <path d=\"M0 0h24v24H0V0z\" fill=\"none\"/>\n",
              "    <path d=\"M18.56 5.44l.94 2.06.94-2.06 2.06-.94-2.06-.94-.94-2.06-.94 2.06-2.06.94zm-11 1L8.5 8.5l.94-2.06 2.06-.94-2.06-.94L8.5 2.5l-.94 2.06-2.06.94zm10 10l.94 2.06.94-2.06 2.06-.94-2.06-.94-.94-2.06-.94 2.06-2.06.94z\"/><path d=\"M17.41 7.96l-1.37-1.37c-.4-.4-.92-.59-1.43-.59-.52 0-1.04.2-1.43.59L10.3 9.45l-7.72 7.72c-.78.78-.78 2.05 0 2.83L4 21.41c.39.39.9.59 1.41.59.51 0 1.02-.2 1.41-.59l7.78-7.78 2.81-2.81c.8-.78.8-2.07 0-2.86zM5.41 20L4 18.59l7.72-7.72 1.47 1.35L5.41 20z\"/>\n",
              "  </svg>\n",
              "      </button>\n",
              "      \n",
              "  <style>\n",
              "    .colab-df-container {\n",
              "      display:flex;\n",
              "      flex-wrap:wrap;\n",
              "      gap: 12px;\n",
              "    }\n",
              "\n",
              "    .colab-df-convert {\n",
              "      background-color: #E8F0FE;\n",
              "      border: none;\n",
              "      border-radius: 50%;\n",
              "      cursor: pointer;\n",
              "      display: none;\n",
              "      fill: #1967D2;\n",
              "      height: 32px;\n",
              "      padding: 0 0 0 0;\n",
              "      width: 32px;\n",
              "    }\n",
              "\n",
              "    .colab-df-convert:hover {\n",
              "      background-color: #E2EBFA;\n",
              "      box-shadow: 0px 1px 2px rgba(60, 64, 67, 0.3), 0px 1px 3px 1px rgba(60, 64, 67, 0.15);\n",
              "      fill: #174EA6;\n",
              "    }\n",
              "\n",
              "    [theme=dark] .colab-df-convert {\n",
              "      background-color: #3B4455;\n",
              "      fill: #D2E3FC;\n",
              "    }\n",
              "\n",
              "    [theme=dark] .colab-df-convert:hover {\n",
              "      background-color: #434B5C;\n",
              "      box-shadow: 0px 1px 3px 1px rgba(0, 0, 0, 0.15);\n",
              "      filter: drop-shadow(0px 1px 2px rgba(0, 0, 0, 0.3));\n",
              "      fill: #FFFFFF;\n",
              "    }\n",
              "  </style>\n",
              "\n",
              "      <script>\n",
              "        const buttonEl =\n",
              "          document.querySelector('#df-87ea2600-9add-4e5d-a94e-4acf1f86384b button.colab-df-convert');\n",
              "        buttonEl.style.display =\n",
              "          google.colab.kernel.accessAllowed ? 'block' : 'none';\n",
              "\n",
              "        async function convertToInteractive(key) {\n",
              "          const element = document.querySelector('#df-87ea2600-9add-4e5d-a94e-4acf1f86384b');\n",
              "          const dataTable =\n",
              "            await google.colab.kernel.invokeFunction('convertToInteractive',\n",
              "                                                     [key], {});\n",
              "          if (!dataTable) return;\n",
              "\n",
              "          const docLinkHtml = 'Like what you see? Visit the ' +\n",
              "            '<a target=\"_blank\" href=https://colab.research.google.com/notebooks/data_table.ipynb>data table notebook</a>'\n",
              "            + ' to learn more about interactive tables.';\n",
              "          element.innerHTML = '';\n",
              "          dataTable['output_type'] = 'display_data';\n",
              "          await google.colab.output.renderOutput(dataTable, element);\n",
              "          const docLink = document.createElement('div');\n",
              "          docLink.innerHTML = docLinkHtml;\n",
              "          element.appendChild(docLink);\n",
              "        }\n",
              "      </script>\n",
              "    </div>\n",
              "  </div>\n",
              "  "
            ]
          },
          "metadata": {},
          "execution_count": 65
        }
      ]
    },
    {
      "cell_type": "code",
      "source": [
        "import matplotlib.pyplot as plt"
      ],
      "metadata": {
        "id": "GeTYmdGZqFjd"
      },
      "execution_count": 66,
      "outputs": []
    },
    {
      "cell_type": "code",
      "source": [
        "# plt.figure()\n",
        "# plt.xlabel('Epochs')\n",
        "# plt.ylabel('Acc')\n",
        "# for i in ['accuracy','val_accuracy']:\n",
        "#   x = history.history[i]\n",
        "#   plt.plot(x,label=i)\n",
        "# plt.legend()"
      ],
      "metadata": {
        "id": "Afvao3ZuqOkD"
      },
      "execution_count": 68,
      "outputs": []
    },
    {
      "cell_type": "code",
      "source": [],
      "metadata": {
        "id": "TKWQc6PGqhaU"
      },
      "execution_count": 52,
      "outputs": []
    }
  ]
}