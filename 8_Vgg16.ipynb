{
  "nbformat": 4,
  "nbformat_minor": 0,
  "metadata": {
    "colab": {
      "provenance": [],
      "authorship_tag": "ABX9TyMT8WP8FqzZIFIZmgZs9T+b",
      "include_colab_link": true
    },
    "kernelspec": {
      "name": "python3",
      "display_name": "Python 3"
    },
    "language_info": {
      "name": "python"
    },
    "accelerator": "GPU",
    "gpuClass": "standard"
  },
  "cells": [
    {
      "cell_type": "markdown",
      "metadata": {
        "id": "view-in-github",
        "colab_type": "text"
      },
      "source": [
        "<a href=\"https://colab.research.google.com/github/SushilKokare/AtiNeu_Project/blob/main/8_Vgg16.ipynb\" target=\"_parent\"><img src=\"https://colab.research.google.com/assets/colab-badge.svg\" alt=\"Open In Colab\"/></a>"
      ]
    },
    {
      "cell_type": "code",
      "execution_count": 2,
      "metadata": {
        "id": "FbVp5NdqW6jJ"
      },
      "outputs": [],
      "source": [
        "from google.colab import drive"
      ]
    },
    {
      "cell_type": "code",
      "source": [
        "drive.mount('/content/drive')"
      ],
      "metadata": {
        "colab": {
          "base_uri": "https://localhost:8080/"
        },
        "id": "AH1FMGOoXG_e",
        "outputId": "c4dfb802-f9c2-4ff7-f20a-a33555351cff"
      },
      "execution_count": 3,
      "outputs": [
        {
          "output_type": "stream",
          "name": "stdout",
          "text": [
            "Mounted at /content/drive\n"
          ]
        }
      ]
    },
    {
      "cell_type": "code",
      "source": [
        "from keras.preprocessing.image import ImageDataGenerator\n",
        "from keras.layers import Dense, Flatten\n",
        "from keras.models import Sequential\n",
        "import os\n",
        "from keras import backend as k\n",
        "from keras.applications.vgg16 import VGG16"
      ],
      "metadata": {
        "id": "_rMYkgXyXK3g"
      },
      "execution_count": 38,
      "outputs": []
    },
    {
      "cell_type": "code",
      "source": [
        "pathTrain = '/content/drive/MyDrive/AtiNeu Project/Data/MRI/Brain_Data_Organised/Train'\n",
        "pathTest = '/content/drive/MyDrive/AtiNeu Project/Data/MRI/Brain_Data_Organised/Test'"
      ],
      "metadata": {
        "id": "DFOBB8vAXPS4"
      },
      "execution_count": 39,
      "outputs": []
    },
    {
      "cell_type": "code",
      "source": [
        "img_size = (224,224)\n",
        "batch_size = 32"
      ],
      "metadata": {
        "id": "GeJap3avaMAz"
      },
      "execution_count": 40,
      "outputs": []
    },
    {
      "cell_type": "code",
      "source": [
        "if k.image_data_format() == 'channels_first':\n",
        "  input_shape = (3,img_size[0],img_size[1])\n",
        "else:\n",
        "  input_shape = (img_size[0],img_size[1],3)"
      ],
      "metadata": {
        "id": "wiOO16MTaRDb"
      },
      "execution_count": 41,
      "outputs": []
    },
    {
      "cell_type": "code",
      "source": [
        "train_gen = ImageDataGenerator(rescale = 1./255)\n",
        "test_gen = ImageDataGenerator(rescale = 1./255)"
      ],
      "metadata": {
        "id": "SKmJaazVaf3_"
      },
      "execution_count": 42,
      "outputs": []
    },
    {
      "cell_type": "code",
      "source": [
        "train_data = train_gen.flow_from_directory(\n",
        "    pathTrain,\n",
        "    target_size = img_size,\n",
        "    batch_size = batch_size,\n",
        "    # color_mode = 'grayscale',\n",
        "    class_mode = 'binary',\n",
        "    classes = ['Normal','Stroke']\n",
        ")"
      ],
      "metadata": {
        "colab": {
          "base_uri": "https://localhost:8080/"
        },
        "id": "2z7DpIpsavBb",
        "outputId": "6e6ecc79-813c-434c-be55-9e70178b275d"
      },
      "execution_count": 54,
      "outputs": [
        {
          "output_type": "stream",
          "name": "stdout",
          "text": [
            "Found 2251 images belonging to 2 classes.\n"
          ]
        }
      ]
    },
    {
      "cell_type": "code",
      "source": [
        "test_data =test_gen.flow_from_directory(\n",
        "    pathTest,\n",
        "    target_size = img_size,\n",
        "    # color_mode = 'grayscale',\n",
        "    class_mode = 'binary',\n",
        "    classes = ['Normal','Stroke'],\n",
        "    batch_size = batch_size\n",
        ")"
      ],
      "metadata": {
        "colab": {
          "base_uri": "https://localhost:8080/"
        },
        "id": "rS8RFI93bFrt",
        "outputId": "1f24b333-f672-4466-873a-7024d7e50540"
      },
      "execution_count": 55,
      "outputs": [
        {
          "output_type": "stream",
          "name": "stdout",
          "text": [
            "Found 250 images belonging to 2 classes.\n"
          ]
        }
      ]
    },
    {
      "cell_type": "code",
      "source": [
        "base_model = VGG16(weights = 'imagenet',include_top = False , \n",
        "                   input_shape=input_shape)"
      ],
      "metadata": {
        "id": "zXKn1QIBbv2X"
      },
      "execution_count": 56,
      "outputs": []
    },
    {
      "cell_type": "code",
      "source": [
        "model = Sequential()\n",
        "model.add(base_model)\n",
        "model.add(Flatten())\n",
        "model.add(Dense(256,activation='relu'))\n",
        "model.add(Dense(1,activation='sigmoid'))"
      ],
      "metadata": {
        "id": "Z-xQ5gezcCXS"
      },
      "execution_count": 57,
      "outputs": []
    },
    {
      "cell_type": "code",
      "source": [
        "for layer in base_model.layers:\n",
        "  layer.trainable = False"
      ],
      "metadata": {
        "id": "i0RKsUudesyU"
      },
      "execution_count": 58,
      "outputs": []
    },
    {
      "cell_type": "code",
      "source": [
        "model.compile(optimizer = 'adam' , loss='binary_crossentropy',\n",
        "              metrics=['accuracy'])"
      ],
      "metadata": {
        "id": "lH5m9-EFe0zz"
      },
      "execution_count": 59,
      "outputs": []
    },
    {
      "cell_type": "code",
      "source": [
        "import numpy as np"
      ],
      "metadata": {
        "id": "E16ioOlnfP9Q"
      },
      "execution_count": 60,
      "outputs": []
    },
    {
      "cell_type": "code",
      "source": [
        "train_steps_per_epoch  = np.ceil(train_data.samples / batch_size)\n",
        "test_steps_per_epoch = np.ceil(test_data.samples / batch_size)"
      ],
      "metadata": {
        "id": "K5VVCLF7e-nq"
      },
      "execution_count": 61,
      "outputs": []
    },
    {
      "cell_type": "code",
      "source": [
        "train_data.samples"
      ],
      "metadata": {
        "colab": {
          "base_uri": "https://localhost:8080/"
        },
        "id": "j47yYxPlfNKY",
        "outputId": "27df2692-2920-40bb-fca3-737e3e56033e"
      },
      "execution_count": 62,
      "outputs": [
        {
          "output_type": "execute_result",
          "data": {
            "text/plain": [
              "2251"
            ]
          },
          "metadata": {},
          "execution_count": 62
        }
      ]
    },
    {
      "cell_type": "code",
      "source": [
        "test_data.n"
      ],
      "metadata": {
        "colab": {
          "base_uri": "https://localhost:8080/"
        },
        "id": "wQNDHVzNi2PM",
        "outputId": "94d3c1a1-b799-4342-914a-83321cd6ae85"
      },
      "execution_count": 63,
      "outputs": [
        {
          "output_type": "execute_result",
          "data": {
            "text/plain": [
              "250"
            ]
          },
          "metadata": {},
          "execution_count": 63
        }
      ]
    },
    {
      "cell_type": "code",
      "source": [
        "history = model.fit(train_data,epochs=10,validation_data = test_data,\n",
        "          steps_per_epoch=train_steps_per_epoch,\n",
        "          validation_steps = test_steps_per_epoch)"
      ],
      "metadata": {
        "colab": {
          "base_uri": "https://localhost:8080/"
        },
        "id": "Vg8RlF-Pi7X5",
        "outputId": "deffa9c0-1d35-4551-967c-fd462e7cb7a9"
      },
      "execution_count": 65,
      "outputs": [
        {
          "output_type": "stream",
          "name": "stdout",
          "text": [
            "Epoch 1/10\n",
            "71/71 [==============================] - 14s 193ms/step - loss: 0.0075 - accuracy: 1.0000 - val_loss: 0.6119 - val_accuracy: 0.8400\n",
            "Epoch 2/10\n",
            "71/71 [==============================] - 12s 171ms/step - loss: 0.0068 - accuracy: 1.0000 - val_loss: 0.5757 - val_accuracy: 0.8400\n",
            "Epoch 3/10\n",
            "71/71 [==============================] - 12s 171ms/step - loss: 0.0048 - accuracy: 1.0000 - val_loss: 0.7237 - val_accuracy: 0.8120\n",
            "Epoch 4/10\n",
            "71/71 [==============================] - 12s 170ms/step - loss: 0.0045 - accuracy: 1.0000 - val_loss: 0.7715 - val_accuracy: 0.8040\n",
            "Epoch 5/10\n",
            "71/71 [==============================] - 13s 185ms/step - loss: 0.0033 - accuracy: 1.0000 - val_loss: 0.7263 - val_accuracy: 0.8200\n",
            "Epoch 6/10\n",
            "71/71 [==============================] - 12s 170ms/step - loss: 0.0026 - accuracy: 1.0000 - val_loss: 0.6508 - val_accuracy: 0.8280\n",
            "Epoch 7/10\n",
            "71/71 [==============================] - 12s 165ms/step - loss: 0.0026 - accuracy: 1.0000 - val_loss: 0.7702 - val_accuracy: 0.8200\n",
            "Epoch 8/10\n",
            "71/71 [==============================] - 12s 164ms/step - loss: 0.0021 - accuracy: 1.0000 - val_loss: 0.7233 - val_accuracy: 0.8280\n",
            "Epoch 9/10\n",
            "71/71 [==============================] - 12s 171ms/step - loss: 0.0019 - accuracy: 1.0000 - val_loss: 0.6822 - val_accuracy: 0.8360\n",
            "Epoch 10/10\n",
            "71/71 [==============================] - 12s 169ms/step - loss: 0.0017 - accuracy: 1.0000 - val_loss: 0.7349 - val_accuracy: 0.8240\n"
          ]
        }
      ]
    },
    {
      "cell_type": "code",
      "source": [
        "# Evaluate the model on the test set\n",
        "scores = model.evaluate(test_data, steps=test_steps_per_epoch)\n",
        "print('Test loss:', scores[0])\n",
        "print('Test accuracy:', scores[1])\n"
      ],
      "metadata": {
        "colab": {
          "base_uri": "https://localhost:8080/"
        },
        "id": "tlqBiK3PkGiS",
        "outputId": "c037dd85-32b5-426a-a51c-822c0ddc873d"
      },
      "execution_count": 68,
      "outputs": [
        {
          "output_type": "stream",
          "name": "stdout",
          "text": [
            "8/8 [==============================] - 2s 163ms/step - loss: 0.7349 - accuracy: 0.8240\n",
            "Test loss: 0.7348811626434326\n",
            "Test accuracy: 0.8240000009536743\n"
          ]
        }
      ]
    },
    {
      "cell_type": "code",
      "source": [
        "import matplotlib.pyplot as plt"
      ],
      "metadata": {
        "id": "pCOhrmOj-8mm"
      },
      "execution_count": 69,
      "outputs": []
    },
    {
      "cell_type": "code",
      "source": [
        "# plt.figure()\n",
        "# plt.xlabel('epoch')\n",
        "# plt.ylabel('values')\n",
        "# for i in ['accuracy','val_accuracy']:\n",
        "#   x = history.history[i]\n",
        "#   plt.plot(x,label=i)\n",
        "# plt.legend()"
      ],
      "metadata": {
        "id": "7ylTXoQ2_IOl"
      },
      "execution_count": 75,
      "outputs": []
    },
    {
      "cell_type": "code",
      "source": [],
      "metadata": {
        "id": "TCVyoo9d_WS0"
      },
      "execution_count": null,
      "outputs": []
    }
  ]
}