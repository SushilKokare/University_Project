{
  "nbformat": 4,
  "nbformat_minor": 0,
  "metadata": {
    "colab": {
      "provenance": [],
      "gpuType": "T4",
      "authorship_tag": "ABX9TyO7ubtbT/e+GH9/EIXdFBq8",
      "include_colab_link": true
    },
    "kernelspec": {
      "name": "python3",
      "display_name": "Python 3"
    },
    "language_info": {
      "name": "python"
    },
    "accelerator": "GPU",
    "gpuClass": "standard"
  },
  "cells": [
    {
      "cell_type": "markdown",
      "metadata": {
        "id": "view-in-github",
        "colab_type": "text"
      },
      "source": [
        "<a href=\"https://colab.research.google.com/github/SushilKokare/University_Project/blob/Keras_Applications/KA_36_ConvNeXtBase.ipynb\" target=\"_parent\"><img src=\"https://colab.research.google.com/assets/colab-badge.svg\" alt=\"Open In Colab\"/></a>"
      ]
    },
    {
      "cell_type": "code",
      "execution_count": 1,
      "metadata": {
        "id": "_RFuC6jWKuWQ"
      },
      "outputs": [],
      "source": [
        "from google.colab import drive"
      ]
    },
    {
      "cell_type": "code",
      "source": [
        "drive.mount('/content/drive')"
      ],
      "metadata": {
        "colab": {
          "base_uri": "https://localhost:8080/"
        },
        "id": "ZxB0OJxyKz2C",
        "outputId": "4b1f28d0-10cc-4092-b7c4-0aacbc1292d5"
      },
      "execution_count": 2,
      "outputs": [
        {
          "output_type": "stream",
          "name": "stdout",
          "text": [
            "Mounted at /content/drive\n"
          ]
        }
      ]
    },
    {
      "cell_type": "code",
      "source": [
        "from keras.preprocessing.image import ImageDataGenerator\n",
        "from keras.models import Sequential\n",
        "from keras.layers import Dense,Flatten\n",
        "from keras import backend as k\n",
        "from keras.applications import ConvNeXtBase\n",
        "from matplotlib import pyplot as plt"
      ],
      "metadata": {
        "id": "_1ykLjKQK0tf"
      },
      "execution_count": 5,
      "outputs": []
    },
    {
      "cell_type": "code",
      "source": [
        "\n",
        "def show_result(history):\n",
        "  plt.figure(figsize=(5,3))\n",
        "  plt.title(\"Loss Training Vs Validation\")\n",
        "  plt.plot(history.history['loss'],color='blue',label='Train Loss')\n",
        "  plt.plot(history.history['val_loss'],color='orange',label='Val Loss')\n",
        "  plt.legend()\n",
        "  plt.show()\n",
        "\n",
        "  plt.figure(figsize=(5,3))\n",
        "  plt.title(\"Accuracy Training Vs Validation\")\n",
        "  plt.plot(history.history['accuracy'],color='blue',label='Train Acc')\n",
        "  plt.plot(history.history['val_accuracy'],color='orange',label='Val Acc')\n",
        "  plt.legend()\n",
        "  plt.show()\n",
        "     "
      ],
      "metadata": {
        "id": "NAOQ6RykLULm"
      },
      "execution_count": 6,
      "outputs": []
    },
    {
      "cell_type": "code",
      "source": [
        "def prepro_data(pathTrain,pathTest,img_size,batch_size):\n",
        "  \n",
        "  if k.image_data_format() == 'channels_first':\n",
        "    input_shape = (3,img_size[0],img_size[1])\n",
        "  else:\n",
        "    input_shape = (img_size[0],img_size[1],3)\n",
        "\n",
        "  train_gen = ImageDataGenerator(rescale = 1./255)\n",
        "  test_gen = ImageDataGenerator(rescale = 1./255)\n",
        "\n",
        "  train_data = train_gen.flow_from_directory(\n",
        "      pathTrain,\n",
        "      target_size = img_size,\n",
        "      # batch_size = batch_size,\n",
        "      class_mode = 'binary'\n",
        "  ) \n",
        "\n",
        "  test_data = test_gen.flow_from_directory(\n",
        "      pathTest,\n",
        "      target_size = img_size,\n",
        "      # batch_size = batch_size,\n",
        "      class_mode = 'binary'\n",
        "  )\n",
        "\n",
        "  print(\" Train Data Image Shape = {}\".format(train_data.image_shape))\n",
        "  print(\" Test Data Image Shape = {}\".format(test_data.image_shape))\n",
        "  print(\"Input Shape = {} \".format(input_shape))\n",
        "\n",
        "  return train_data , test_data , input_shape"
      ],
      "metadata": {
        "id": "RkzgmdIlLVMu"
      },
      "execution_count": 7,
      "outputs": []
    },
    {
      "cell_type": "code",
      "source": [
        "pathTrain = '/content/drive/MyDrive/AtiNeu Project/Data/MRI/Brain_Data_Organised/Train'\n",
        "pathTest = '/content/drive/MyDrive/AtiNeu Project/Data/MRI/Brain_Data_Organised/Test'\n",
        "     "
      ],
      "metadata": {
        "id": "JLulat0aLWM8"
      },
      "execution_count": 8,
      "outputs": []
    },
    {
      "cell_type": "code",
      "source": [
        "train_data , test_data, input_shape = prepro_data(pathTrain,pathTest,(225,225),32)\n"
      ],
      "metadata": {
        "colab": {
          "base_uri": "https://localhost:8080/"
        },
        "id": "y_ahgTj1LXSM",
        "outputId": "4c708f38-2ae0-4498-d050-b32b71b83998"
      },
      "execution_count": 12,
      "outputs": [
        {
          "output_type": "stream",
          "name": "stdout",
          "text": [
            "Found 2251 images belonging to 2 classes.\n",
            "Found 250 images belonging to 2 classes.\n",
            " Train Data Image Shape = (225, 225, 3)\n",
            " Test Data Image Shape = (225, 225, 3)\n",
            "Input Shape = (225, 225, 3) \n"
          ]
        }
      ]
    },
    {
      "cell_type": "code",
      "source": [
        "base_model = ConvNeXtBase(weights = 'imagenet',include_top = False,\n",
        "                      input_shape = input_shape)"
      ],
      "metadata": {
        "colab": {
          "base_uri": "https://localhost:8080/"
        },
        "id": "_LkALuaALYV2",
        "outputId": "59ffb233-f7ac-49ce-9476-ab45341f40bd"
      },
      "execution_count": 13,
      "outputs": [
        {
          "output_type": "stream",
          "name": "stdout",
          "text": [
            "Downloading data from https://storage.googleapis.com/tensorflow/keras-applications/convnext/convnext_base_notop.h5\n",
            "350926856/350926856 [==============================] - 2s 0us/step\n"
          ]
        }
      ]
    },
    {
      "cell_type": "code",
      "source": [
        "for layer in base_model.layers:\n",
        "  layer.trainable = False\n",
        "\n",
        "\n",
        "model = Sequential()\n",
        "model.add(base_model)\n",
        "model.add(Flatten())\n",
        "model.add(Dense(256,activation='relu'))\n",
        "model.add(Dense(1,activation='sigmoid'))\n",
        "\n",
        "model.compile(optimizer='adam',loss='binary_crossentropy',\n",
        "              metrics=['accuracy'])"
      ],
      "metadata": {
        "id": "xVRTj8HJLb-9"
      },
      "execution_count": 14,
      "outputs": []
    },
    {
      "cell_type": "code",
      "source": [
        "history = model.fit(train_data,epochs=10,validation_data=test_data)\n",
        "\n",
        "show_result(history)"
      ],
      "metadata": {
        "colab": {
          "base_uri": "https://localhost:8080/",
          "height": 971
        },
        "id": "gyZNBT4RLc8_",
        "outputId": "c58ef2ea-658f-4581-9cfb-93dbcf8ef540"
      },
      "execution_count": 15,
      "outputs": [
        {
          "output_type": "stream",
          "name": "stdout",
          "text": [
            "Epoch 1/10\n",
            "71/71 [==============================] - 358s 5s/step - loss: 2.1186 - accuracy: 0.7135 - val_loss: 1.3069 - val_accuracy: 0.5840\n",
            "Epoch 2/10\n",
            "71/71 [==============================] - 45s 635ms/step - loss: 0.2093 - accuracy: 0.9178 - val_loss: 1.0250 - val_accuracy: 0.7240\n",
            "Epoch 3/10\n",
            "71/71 [==============================] - 46s 653ms/step - loss: 0.0947 - accuracy: 0.9640 - val_loss: 0.6186 - val_accuracy: 0.7680\n",
            "Epoch 4/10\n",
            "71/71 [==============================] - 46s 653ms/step - loss: 0.0419 - accuracy: 0.9898 - val_loss: 0.6806 - val_accuracy: 0.7840\n",
            "Epoch 5/10\n",
            "71/71 [==============================] - 46s 653ms/step - loss: 0.0193 - accuracy: 0.9969 - val_loss: 1.0185 - val_accuracy: 0.7320\n",
            "Epoch 6/10\n",
            "71/71 [==============================] - 46s 653ms/step - loss: 0.0157 - accuracy: 0.9969 - val_loss: 0.5434 - val_accuracy: 0.8040\n",
            "Epoch 7/10\n",
            "71/71 [==============================] - 47s 658ms/step - loss: 0.0071 - accuracy: 1.0000 - val_loss: 0.5047 - val_accuracy: 0.8000\n",
            "Epoch 8/10\n",
            "71/71 [==============================] - 46s 652ms/step - loss: 0.0045 - accuracy: 1.0000 - val_loss: 0.6127 - val_accuracy: 0.7920\n",
            "Epoch 9/10\n",
            "71/71 [==============================] - 47s 660ms/step - loss: 0.0034 - accuracy: 1.0000 - val_loss: 0.6548 - val_accuracy: 0.7840\n",
            "Epoch 10/10\n",
            "71/71 [==============================] - 46s 651ms/step - loss: 0.0029 - accuracy: 1.0000 - val_loss: 0.6505 - val_accuracy: 0.8040\n"
          ]
        },
        {
          "output_type": "display_data",
          "data": {
            "text/plain": [
              "<Figure size 500x300 with 1 Axes>"
            ],
            "image/png": "[encoded data removed]"
          },
          "metadata": {}
        },
        {
          "output_type": "display_data",
          "data": {
            "text/plain": [
              "<Figure size 500x300 with 1 Axes>"
            ],
            "image/png": "[encoded data removed]"
          },
          "metadata": {}
        }
      ]
    },
    {
      "cell_type": "code",
      "source": [
        "import pandas as pd\n",
        "\n",
        "pd.DataFrame(history.history)"
      ],
      "metadata": {
        "colab": {
          "base_uri": "https://localhost:8080/",
          "height": 359
        },
        "id": "M4vKWEpELuNZ",
        "outputId": "c4161ba1-f239-481b-8b16-b7f109ba8c27"
      },
      "execution_count": 16,
      "outputs": [
        {
          "output_type": "execute_result",
          "data": {
            "text/plain": [
              "       loss  accuracy  val_loss  val_accuracy\n",
              "0  2.118637  0.713461  1.306926         0.584\n",
              "1  0.209300  0.917814  1.025018         0.724\n",
              "2  0.094655  0.964016  0.618612         0.768\n",
              "3  0.041945  0.989782  0.680565         0.784\n",
              "4  0.019326  0.996890  1.018531         0.732\n",
              "5  0.015686  0.996890  0.543370         0.804\n",
              "6  0.007131  1.000000  0.504684         0.800\n",
              "7  0.004483  1.000000  0.612651         0.792\n",
              "8  0.003424  1.000000  0.654772         0.784\n",
              "9  0.002924  1.000000  0.650531         0.804"
            ],
            "text/html": [
              "\n",
              "  <div id=\"df-349ce030-770b-4729-b807-3b5867038015\">\n",
              "    <div class=\"colab-df-container\">\n",
              "      <div>\n",
              "<style scoped>\n",
              "    .dataframe tbody tr th:only-of-type {\n",
              "        vertical-align: middle;\n",
              "    }\n",
              "\n",
              "    .dataframe tbody tr th {\n",
              "        vertical-align: top;\n",
              "    }\n",
              "\n",
              "    .dataframe thead th {\n",
              "        text-align: right;\n",
              "    }\n",
              "</style>\n",
              "<table border=\"1\" class=\"dataframe\">\n",
              "  <thead>\n",
              "    <tr style=\"text-align: right;\">\n",
              "      <th></th>\n",
              "      <th>loss</th>\n",
              "      <th>accuracy</th>\n",
              "      <th>val_loss</th>\n",
              "      <th>val_accuracy</th>\n",
              "    </tr>\n",
              "  </thead>\n",
              "  <tbody>\n",
              "    <tr>\n",
              "      <th>0</th>\n",
              "      <td>2.118637</td>\n",
              "      <td>0.713461</td>\n",
              "      <td>1.306926</td>\n",
              "      <td>0.584</td>\n",
              "    </tr>\n",
              "    <tr>\n",
              "      <th>1</th>\n",
              "      <td>0.209300</td>\n",
              "      <td>0.917814</td>\n",
              "      <td>1.025018</td>\n",
              "      <td>0.724</td>\n",
              "    </tr>\n",
              "    <tr>\n",
              "      <th>2</th>\n",
              "      <td>0.094655</td>\n",
              "      <td>0.964016</td>\n",
              "      <td>0.618612</td>\n",
              "      <td>0.768</td>\n",
              "    </tr>\n",
              "    <tr>\n",
              "      <th>3</th>\n",
              "      <td>0.041945</td>\n",
              "      <td>0.989782</td>\n",
              "      <td>0.680565</td>\n",
              "      <td>0.784</td>\n",
              "    </tr>\n",
              "    <tr>\n",
              "      <th>4</th>\n",
              "      <td>0.019326</td>\n",
              "      <td>0.996890</td>\n",
              "      <td>1.018531</td>\n",
              "      <td>0.732</td>\n",
              "    </tr>\n",
              "    <tr>\n",
              "      <th>5</th>\n",
              "      <td>0.015686</td>\n",
              "      <td>0.996890</td>\n",
              "      <td>0.543370</td>\n",
              "      <td>0.804</td>\n",
              "    </tr>\n",
              "    <tr>\n",
              "      <th>6</th>\n",
              "      <td>0.007131</td>\n",
              "      <td>1.000000</td>\n",
              "      <td>0.504684</td>\n",
              "      <td>0.800</td>\n",
              "    </tr>\n",
              "    <tr>\n",
              "      <th>7</th>\n",
              "      <td>0.004483</td>\n",
              "      <td>1.000000</td>\n",
              "      <td>0.612651</td>\n",
              "      <td>0.792</td>\n",
              "    </tr>\n",
              "    <tr>\n",
              "      <th>8</th>\n",
              "      <td>0.003424</td>\n",
              "      <td>1.000000</td>\n",
              "      <td>0.654772</td>\n",
              "      <td>0.784</td>\n",
              "    </tr>\n",
              "    <tr>\n",
              "      <th>9</th>\n",
              "      <td>0.002924</td>\n",
              "      <td>1.000000</td>\n",
              "      <td>0.650531</td>\n",
              "      <td>0.804</td>\n",
              "    </tr>\n",
              "  </tbody>\n",
              "</table>\n",
              "</div>\n",
              "      <button class=\"colab-df-convert\" onclick=\"convertToInteractive('df-349ce030-770b-4729-b807-3b5867038015')\"\n",
              "              title=\"Convert this dataframe to an interactive table.\"\n",
              "              style=\"display:none;\">\n",
              "        \n",
              "  <svg xmlns=\"http://www.w3.org/2000/svg\" height=\"24px\"viewBox=\"0 0 24 24\"\n",
              "       width=\"24px\">\n",
              "    <path d=\"M0 0h24v24H0V0z\" fill=\"none\"/>\n",
              "    <path d=\"M18.56 5.44l.94 2.06.94-2.06 2.06-.94-2.06-.94-.94-2.06-.94 2.06-2.06.94zm-11 1L8.5 8.5l.94-2.06 2.06-.94-2.06-.94L8.5 2.5l-.94 2.06-2.06.94zm10 10l.94 2.06.94-2.06 2.06-.94-2.06-.94-.94-2.06-.94 2.06-2.06.94z\"/><path d=\"M17.41 7.96l-1.37-1.37c-.4-.4-.92-.59-1.43-.59-.52 0-1.04.2-1.43.59L10.3 9.45l-7.72 7.72c-.78.78-.78 2.05 0 2.83L4 21.41c.39.39.9.59 1.41.59.51 0 1.02-.2 1.41-.59l7.78-7.78 2.81-2.81c.8-.78.8-2.07 0-2.86zM5.41 20L4 18.59l7.72-7.72 1.47 1.35L5.41 20z\"/>\n",
              "  </svg>\n",
              "      </button>\n",
              "      \n",
              "  <style>\n",
              "    .colab-df-container {\n",
              "      display:flex;\n",
              "      flex-wrap:wrap;\n",
              "      gap: 12px;\n",
              "    }\n",
              "\n",
              "    .colab-df-convert {\n",
              "      background-color: #E8F0FE;\n",
              "      border: none;\n",
              "      border-radius: 50%;\n",
              "      cursor: pointer;\n",
              "      display: none;\n",
              "      fill: #1967D2;\n",
              "      height: 32px;\n",
              "      padding: 0 0 0 0;\n",
              "      width: 32px;\n",
              "    }\n",
              "\n",
              "    .colab-df-convert:hover {\n",
              "      background-color: #E2EBFA;\n",
              "      box-shadow: 0px 1px 2px rgba(60, 64, 67, 0.3), 0px 1px 3px 1px rgba(60, 64, 67, 0.15);\n",
              "      fill: #174EA6;\n",
              "    }\n",
              "\n",
              "    [theme=dark] .colab-df-convert {\n",
              "      background-color: #3B4455;\n",
              "      fill: #D2E3FC;\n",
              "    }\n",
              "\n",
              "    [theme=dark] .colab-df-convert:hover {\n",
              "      background-color: #434B5C;\n",
              "      box-shadow: 0px 1px 3px 1px rgba(0, 0, 0, 0.15);\n",
              "      filter: drop-shadow(0px 1px 2px rgba(0, 0, 0, 0.3));\n",
              "      fill: #FFFFFF;\n",
              "    }\n",
              "  </style>\n",
              "\n",
              "      <script>\n",
              "        const buttonEl =\n",
              "          document.querySelector('#df-349ce030-770b-4729-b807-3b5867038015 button.colab-df-convert');\n",
              "        buttonEl.style.display =\n",
              "          google.colab.kernel.accessAllowed ? 'block' : 'none';\n",
              "\n",
              "        async function convertToInteractive(key) {\n",
              "          const element = document.querySelector('#df-349ce030-770b-4729-b807-3b5867038015');\n",
              "          const dataTable =\n",
              "            await google.colab.kernel.invokeFunction('convertToInteractive',\n",
              "                                                     [key], {});\n",
              "          if (!dataTable) return;\n",
              "\n",
              "          const docLinkHtml = 'Like what you see? Visit the ' +\n",
              "            '<a target=\"_blank\" href=https://colab.research.google.com/notebooks/data_table.ipynb>data table notebook</a>'\n",
              "            + ' to learn more about interactive tables.';\n",
              "          element.innerHTML = '';\n",
              "          dataTable['output_type'] = 'display_data';\n",
              "          await google.colab.output.renderOutput(dataTable, element);\n",
              "          const docLink = document.createElement('div');\n",
              "          docLink.innerHTML = docLinkHtml;\n",
              "          element.appendChild(docLink);\n",
              "        }\n",
              "      </script>\n",
              "    </div>\n",
              "  </div>\n",
              "  "
            ]
          },
          "metadata": {},
          "execution_count": 16
        }
      ]
    },
    {
      "cell_type": "code",
      "source": [],
      "metadata": {
        "id": "yXHIz3BCLwG4"
      },
      "execution_count": null,
      "outputs": []
    }
  ]
}