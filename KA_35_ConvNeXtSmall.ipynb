{
  "cells": [
    {
      "cell_type": "markdown",
      "metadata": {
        "id": "view-in-github",
        "colab_type": "text"
      },
      "source": [
        "<a href=\"https://colab.research.google.com/github/SushilKokare/University_Project/blob/Keras_Applications/35_ConvNeXtSmall.ipynb\" target=\"_parent\"><img src=\"https://colab.research.google.com/assets/colab-badge.svg\" alt=\"Open In Colab\"/></a>"
      ]
    },
    {
      "cell_type": "code",
      "execution_count": null,
      "metadata": {
        "id": "LluZGxmEJLom"
      },
      "outputs": [],
      "source": [
        "from google.colab import drive"
      ]
    },
    {
      "cell_type": "code",
      "execution_count": null,
      "metadata": {
        "colab": {
          "base_uri": "https://localhost:8080/"
        },
        "id": "mrMu18HZJzN4",
        "outputId": "722e1d26-9375-409f-93fb-28ab9c013039"
      },
      "outputs": [
        {
          "name": "stdout",
          "output_type": "stream",
          "text": [
            "Mounted at /content/drive\n"
          ]
        }
      ],
      "source": [
        "drive.mount('/content/drive')"
      ]
    },
    {
      "cell_type": "code",
      "execution_count": null,
      "metadata": {
        "id": "y2jY2lsoJ0Sr"
      },
      "outputs": [],
      "source": [
        "\n",
        "from keras.preprocessing.image import ImageDataGenerator\n",
        "from keras.models import Sequential\n",
        "from keras.layers import Dense,Flatten\n",
        "from keras import backend as k\n",
        "from keras.applications import ConvNeXtSmall\n",
        "from matplotlib import pyplot as plt"
      ]
    },
    {
      "cell_type": "code",
      "execution_count": null,
      "metadata": {
        "id": "yxsTW0QrJ61h"
      },
      "outputs": [],
      "source": [
        "def show_result(history):\n",
        "  plt.figure(figsize=(5,3))\n",
        "  plt.title(\"Loss Training Vs Validation\")\n",
        "  plt.plot(history.history['loss'],color='blue',label='Train Loss')\n",
        "  plt.plot(history.history['val_loss'],color='orange',label='Val Loss')\n",
        "  plt.legend()\n",
        "  plt.show()\n",
        "\n",
        "  plt.figure(figsize=(5,3))\n",
        "  plt.title(\"Accuracy Training Vs Validation\")\n",
        "  plt.plot(history.history['accuracy'],color='blue',label='Train Acc')\n",
        "  plt.plot(history.history['val_accuracy'],color='orange',label='Val Acc')\n",
        "  plt.legend()\n",
        "  plt.show()"
      ]
    },
    {
      "cell_type": "code",
      "execution_count": null,
      "metadata": {
        "id": "AViGM9FxJ8By"
      },
      "outputs": [],
      "source": [
        "def prepro_data(pathTrain,pathTest,img_size,batch_size):\n",
        "  \n",
        "  if k.image_data_format() == 'channels_first':\n",
        "    input_shape = (3,img_size[0],img_size[1])\n",
        "  else:\n",
        "    input_shape = (img_size[0],img_size[1],3)\n",
        "\n",
        "  train_gen = ImageDataGenerator(rescale = 1./255)\n",
        "  test_gen = ImageDataGenerator(rescale = 1./255)\n",
        "\n",
        "  train_data = train_gen.flow_from_directory(\n",
        "      pathTrain,\n",
        "      target_size = img_size,\n",
        "      # batch_size = batch_size,\n",
        "      class_mode = 'binary'\n",
        "  ) \n",
        "\n",
        "  test_data = test_gen.flow_from_directory(\n",
        "      pathTest,\n",
        "      target_size = img_size,\n",
        "      # batch_size = batch_size,\n",
        "      class_mode = 'binary'\n",
        "  )\n",
        "\n",
        "  print(\" Train Data Image Shape = {}\".format(train_data.image_shape))\n",
        "  print(\" Test Data Image Shape = {}\".format(test_data.image_shape))\n",
        "  print(\"Input Shape = {} \".format(input_shape))\n",
        "\n",
        "  return train_data , test_data , input_shape\n",
        "     "
      ]
    },
    {
      "cell_type": "code",
      "execution_count": null,
      "metadata": {
        "id": "9xJQWWRCJ90a"
      },
      "outputs": [],
      "source": [
        "\n",
        "pathTrain  = '/content/drive/MyDrive/AtiNeu Project/Data/MRI/Brain_Data_Organised/Train'\n",
        "\n",
        "pathTest ='/content/drive/MyDrive/AtiNeu Project/Data/MRI/Brain_Data_Organised/Test'\n",
        "  "
      ]
    },
    {
      "cell_type": "code",
      "execution_count": null,
      "metadata": {
        "colab": {
          "base_uri": "https://localhost:8080/"
        },
        "id": "Vwe2n7o1J-wy",
        "outputId": "ff0f080f-28e7-4cac-db37-358f3e391088"
      },
      "outputs": [
        {
          "name": "stdout",
          "output_type": "stream",
          "text": [
            "Found 2251 images belonging to 2 classes.\n",
            "Found 250 images belonging to 2 classes.\n",
            " Train Data Image Shape = (225, 225, 3)\n",
            " Test Data Image Shape = (225, 225, 3)\n",
            "Input Shape = (225, 225, 3) \n"
          ]
        }
      ],
      "source": [
        "train_data , test_data, input_shape = prepro_data(pathTrain,pathTest,(225,225),32)\n",
        "    "
      ]
    },
    {
      "cell_type": "code",
      "execution_count": null,
      "metadata": {
        "colab": {
          "base_uri": "https://localhost:8080/"
        },
        "id": "KNyQRrjiJ_3K",
        "outputId": "a8cdfa8f-e876-4632-b4cc-107b20c64ac2"
      },
      "outputs": [
        {
          "name": "stdout",
          "output_type": "stream",
          "text": [
            "Downloading data from https://storage.googleapis.com/tensorflow/keras-applications/convnext/convnext_small_notop.h5\n",
            "198551472/198551472 [==============================] - 2s 0us/step\n"
          ]
        }
      ],
      "source": [
        "base_model = ConvNeXtSmall(weights = 'imagenet',include_top = False,\n",
        "                      input_shape = input_shape)\n",
        " "
      ]
    },
    {
      "cell_type": "code",
      "execution_count": null,
      "metadata": {
        "id": "nyrb8lp6KC7h"
      },
      "outputs": [],
      "source": [
        "for layer in base_model.layers:\n",
        "  layer.trainable = False\n",
        "\n",
        "\n",
        "model = Sequential()\n",
        "model.add(base_model)\n",
        "model.add(Flatten())\n",
        "model.add(Dense(256,activation='relu'))\n",
        "model.add(Dense(1,activation='sigmoid'))\n",
        "\n",
        "model.compile(optimizer='adam',loss='binary_crossentropy',\n",
        "              metrics=['accuracy'])"
      ]
    },
    {
      "cell_type": "code",
      "execution_count": null,
      "metadata": {
        "colab": {
          "base_uri": "https://localhost:8080/",
          "height": 971
        },
        "id": "Of0alEv2KEOi",
        "outputId": "22f8d89c-f8c6-499c-fbe2-ab5529abe4f1"
      },
      "outputs": [
        {
          "name": "stdout",
          "output_type": "stream",
          "text": [
            "Epoch 1/10\n",
            "71/71 [==============================] - 253s 3s/step - loss: 1.1286 - accuracy: 0.6384 - val_loss: 0.6056 - val_accuracy: 0.7120\n",
            "Epoch 2/10\n",
            "71/71 [==============================] - 33s 467ms/step - loss: 0.5016 - accuracy: 0.7574 - val_loss: 0.5334 - val_accuracy: 0.7400\n",
            "Epoch 3/10\n",
            "71/71 [==============================] - 33s 460ms/step - loss: 0.3514 - accuracy: 0.8570 - val_loss: 0.6828 - val_accuracy: 0.6800\n",
            "Epoch 4/10\n",
            "71/71 [==============================] - 33s 463ms/step - loss: 0.2919 - accuracy: 0.8880 - val_loss: 0.6028 - val_accuracy: 0.7040\n",
            "Epoch 5/10\n",
            "71/71 [==============================] - 33s 462ms/step - loss: 0.2314 - accuracy: 0.9187 - val_loss: 0.5683 - val_accuracy: 0.7200\n",
            "Epoch 6/10\n",
            "71/71 [==============================] - 35s 488ms/step - loss: 0.2735 - accuracy: 0.8823 - val_loss: 0.7364 - val_accuracy: 0.6800\n",
            "Epoch 7/10\n",
            "71/71 [==============================] - 35s 491ms/step - loss: 0.2359 - accuracy: 0.8952 - val_loss: 0.4489 - val_accuracy: 0.7880\n",
            "Epoch 8/10\n",
            "71/71 [==============================] - 33s 460ms/step - loss: 0.1298 - accuracy: 0.9578 - val_loss: 0.7016 - val_accuracy: 0.7120\n",
            "Epoch 9/10\n",
            "71/71 [==============================] - 33s 462ms/step - loss: 0.1073 - accuracy: 0.9729 - val_loss: 0.5031 - val_accuracy: 0.7840\n",
            "Epoch 10/10\n",
            "71/71 [==============================] - 33s 460ms/step - loss: 0.1099 - accuracy: 0.9653 - val_loss: 0.5688 - val_accuracy: 0.7800\n"
          ]
        },
        {
          "data": {
            "image/png": "[encoded data removed]",
            "text/plain": [
              "<Figure size 500x300 with 1 Axes>"
            ]
          },
          "metadata": {},
          "output_type": "display_data"
        },
        {
          "data": {
            "image/png": "[encoded data removed]",
            "text/plain": [
              "<Figure size 500x300 with 1 Axes>"
            ]
          },
          "metadata": {},
          "output_type": "display_data"
        }
      ],
      "source": [
        "history = model.fit(train_data,epochs=10,validation_data=test_data)\n",
        "\n",
        "show_result(history)"
      ]
    },
    {
      "cell_type": "code",
      "execution_count": null,
      "metadata": {
        "colab": {
          "background_save": true,
          "base_uri": "https://localhost:8080/",
          "height": 701
        },
        "id": "XOcCrBNOKHt4",
        "outputId": "f1c0696c-a14a-49d1-81ad-89007683ca32"
      },
      "outputs": [
        {
          "data": {
            "text/html": [
              "\n",
              "  <div id=\"df-37cfce05-8171-46b7-b218-0f3df611fe1f\">\n",
              "    <div class=\"colab-df-container\">\n",
              "      <div>\n",
              "<style scoped>\n",
              "    .dataframe tbody tr th:only-of-type {\n",
              "        vertical-align: middle;\n",
              "    }\n",
              "\n",
              "    .dataframe tbody tr th {\n",
              "        vertical-align: top;\n",
              "    }\n",
              "\n",
              "    .dataframe thead th {\n",
              "        text-align: right;\n",
              "    }\n",
              "</style>\n",
              "<table border=\"1\" class=\"dataframe\">\n",
              "  <thead>\n",
              "    <tr style=\"text-align: right;\">\n",
              "      <th></th>\n",
              "      <th>loss</th>\n",
              "      <th>accuracy</th>\n",
              "      <th>val_loss</th>\n",
              "      <th>val_accuracy</th>\n",
              "    </tr>\n",
              "  </thead>\n",
              "  <tbody>\n",
              "    <tr>\n",
              "      <th>0</th>\n",
              "      <td>1.128596</td>\n",
              "      <td>0.638383</td>\n",
              "      <td>0.605644</td>\n",
              "      <td>0.712</td>\n",
              "    </tr>\n",
              "    <tr>\n",
              "      <th>1</th>\n",
              "      <td>0.501638</td>\n",
              "      <td>0.757441</td>\n",
              "      <td>0.533427</td>\n",
              "      <td>0.740</td>\n",
              "    </tr>\n",
              "    <tr>\n",
              "      <th>2</th>\n",
              "      <td>0.351408</td>\n",
              "      <td>0.856952</td>\n",
              "      <td>0.682828</td>\n",
              "      <td>0.680</td>\n",
              "    </tr>\n",
              "    <tr>\n",
              "      <th>3</th>\n",
              "      <td>0.291912</td>\n",
              "      <td>0.888050</td>\n",
              "      <td>0.602816</td>\n",
              "      <td>0.704</td>\n",
              "    </tr>\n",
              "    <tr>\n",
              "      <th>4</th>\n",
              "      <td>0.231372</td>\n",
              "      <td>0.918703</td>\n",
              "      <td>0.568305</td>\n",
              "      <td>0.720</td>\n",
              "    </tr>\n",
              "    <tr>\n",
              "      <th>5</th>\n",
              "      <td>0.273547</td>\n",
              "      <td>0.882275</td>\n",
              "      <td>0.736446</td>\n",
              "      <td>0.680</td>\n",
              "    </tr>\n",
              "    <tr>\n",
              "      <th>6</th>\n",
              "      <td>0.235874</td>\n",
              "      <td>0.895158</td>\n",
              "      <td>0.448866</td>\n",
              "      <td>0.788</td>\n",
              "    </tr>\n",
              "    <tr>\n",
              "      <th>7</th>\n",
              "      <td>0.129804</td>\n",
              "      <td>0.957797</td>\n",
              "      <td>0.701559</td>\n",
              "      <td>0.712</td>\n",
              "    </tr>\n",
              "    <tr>\n",
              "      <th>8</th>\n",
              "      <td>0.107300</td>\n",
              "      <td>0.972901</td>\n",
              "      <td>0.503131</td>\n",
              "      <td>0.784</td>\n",
              "    </tr>\n",
              "    <tr>\n",
              "      <th>9</th>\n",
              "      <td>0.109893</td>\n",
              "      <td>0.965349</td>\n",
              "      <td>0.568798</td>\n",
              "      <td>0.780</td>\n",
              "    </tr>\n",
              "  </tbody>\n",
              "</table>\n",
              "</div>\n",
              "      <button class=\"colab-df-convert\" onclick=\"convertToInteractive('df-37cfce05-8171-46b7-b218-0f3df611fe1f')\"\n",
              "              title=\"Convert this dataframe to an interactive table.\"\n",
              "              style=\"display:none;\">\n",
              "        \n",
              "  <svg xmlns=\"http://www.w3.org/2000/svg\" height=\"24px\"viewBox=\"0 0 24 24\"\n",
              "       width=\"24px\">\n",
              "    <path d=\"M0 0h24v24H0V0z\" fill=\"none\"/>\n",
              "    <path d=\"M18.56 5.44l.94 2.06.94-2.06 2.06-.94-2.06-.94-.94-2.06-.94 2.06-2.06.94zm-11 1L8.5 8.5l.94-2.06 2.06-.94-2.06-.94L8.5 2.5l-.94 2.06-2.06.94zm10 10l.94 2.06.94-2.06 2.06-.94-2.06-.94-.94-2.06-.94 2.06-2.06.94z\"/><path d=\"M17.41 7.96l-1.37-1.37c-.4-.4-.92-.59-1.43-.59-.52 0-1.04.2-1.43.59L10.3 9.45l-7.72 7.72c-.78.78-.78 2.05 0 2.83L4 21.41c.39.39.9.59 1.41.59.51 0 1.02-.2 1.41-.59l7.78-7.78 2.81-2.81c.8-.78.8-2.07 0-2.86zM5.41 20L4 18.59l7.72-7.72 1.47 1.35L5.41 20z\"/>\n",
              "  </svg>\n",
              "      </button>\n",
              "      \n",
              "  <style>\n",
              "    .colab-df-container {\n",
              "      display:flex;\n",
              "      flex-wrap:wrap;\n",
              "      gap: 12px;\n",
              "    }\n",
              "\n",
              "    .colab-df-convert {\n",
              "      background-color: #E8F0FE;\n",
              "      border: none;\n",
              "      border-radius: 50%;\n",
              "      cursor: pointer;\n",
              "      display: none;\n",
              "      fill: #1967D2;\n",
              "      height: 32px;\n",
              "      padding: 0 0 0 0;\n",
              "      width: 32px;\n",
              "    }\n",
              "\n",
              "    .colab-df-convert:hover {\n",
              "      background-color: #E2EBFA;\n",
              "      box-shadow: 0px 1px 2px rgba(60, 64, 67, 0.3), 0px 1px 3px 1px rgba(60, 64, 67, 0.15);\n",
              "      fill: #174EA6;\n",
              "    }\n",
              "\n",
              "    [theme=dark] .colab-df-convert {\n",
              "      background-color: #3B4455;\n",
              "      fill: #D2E3FC;\n",
              "    }\n",
              "\n",
              "    [theme=dark] .colab-df-convert:hover {\n",
              "      background-color: #434B5C;\n",
              "      box-shadow: 0px 1px 3px 1px rgba(0, 0, 0, 0.15);\n",
              "      filter: drop-shadow(0px 1px 2px rgba(0, 0, 0, 0.3));\n",
              "      fill: #FFFFFF;\n",
              "    }\n",
              "  </style>\n",
              "\n",
              "      <script>\n",
              "        const buttonEl =\n",
              "          document.querySelector('#df-37cfce05-8171-46b7-b218-0f3df611fe1f button.colab-df-convert');\n",
              "        buttonEl.style.display =\n",
              "          google.colab.kernel.accessAllowed ? 'block' : 'none';\n",
              "\n",
              "        async function convertToInteractive(key) {\n",
              "          const element = document.querySelector('#df-37cfce05-8171-46b7-b218-0f3df611fe1f');\n",
              "          const dataTable =\n",
              "            await google.colab.kernel.invokeFunction('convertToInteractive',\n",
              "                                                     [key], {});\n",
              "          if (!dataTable) return;\n",
              "\n",
              "          const docLinkHtml = 'Like what you see? Visit the ' +\n",
              "            '<a target=\"_blank\" href=https://colab.research.google.com/notebooks/data_table.ipynb>data table notebook</a>'\n",
              "            + ' to learn more about interactive tables.';\n",
              "          element.innerHTML = '';\n",
              "          dataTable['output_type'] = 'display_data';\n",
              "          await google.colab.output.renderOutput(dataTable, element);\n",
              "          const docLink = document.createElement('div');\n",
              "          docLink.innerHTML = docLinkHtml;\n",
              "          element.appendChild(docLink);\n",
              "        }\n",
              "      </script>\n",
              "    </div>\n",
              "  </div>\n",
              "  "
            ],
            "text/plain": [
              "       loss  accuracy  val_loss  val_accuracy\n",
              "0  1.128596  0.638383  0.605644         0.712\n",
              "1  0.501638  0.757441  0.533427         0.740\n",
              "2  0.351408  0.856952  0.682828         0.680\n",
              "3  0.291912  0.888050  0.602816         0.704\n",
              "4  0.231372  0.918703  0.568305         0.720\n",
              "5  0.273547  0.882275  0.736446         0.680\n",
              "6  0.235874  0.895158  0.448866         0.788\n",
              "7  0.129804  0.957797  0.701559         0.712\n",
              "8  0.107300  0.972901  0.503131         0.784\n",
              "9  0.109893  0.965349  0.568798         0.780"
            ]
          },
          "execution_count": 11,
          "metadata": {},
          "output_type": "execute_result"
        }
      ],
      "source": [
        "import pandas as pd\n",
        "\n",
        "pd.DataFrame(history.history)"
      ]
    },
    {
      "cell_type": "code",
      "execution_count": null,
      "metadata": {
        "id": "gaHS4H5hLzHt"
      },
      "outputs": [],
      "source": []
    }
  ],
  "metadata": {
    "accelerator": "GPU",
    "colab": {
      "provenance": [],
      "authorship_tag": "ABX9TyNY7RxSrwFmFdx7Vdc4Hfsp",
      "include_colab_link": true
    },
    "gpuClass": "standard",
    "kernelspec": {
      "display_name": "Python 3",
      "name": "python3"
    },
    "language_info": {
      "name": "python"
    }
  },
  "nbformat": 4,
  "nbformat_minor": 0
}
