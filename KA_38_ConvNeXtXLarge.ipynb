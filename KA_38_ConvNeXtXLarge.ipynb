{
  "nbformat": 4,
  "nbformat_minor": 0,
  "metadata": {
    "colab": {
      "provenance": [],
      "gpuType": "T4",
      "authorship_tag": "ABX9TyNEArZkO4ZINEOdBQFcXGWm",
      "include_colab_link": true
    },
    "kernelspec": {
      "name": "python3",
      "display_name": "Python 3"
    },
    "language_info": {
      "name": "python"
    },
    "accelerator": "GPU",
    "gpuClass": "standard"
  },
  "cells": [
    {
      "cell_type": "markdown",
      "metadata": {
        "id": "view-in-github",
        "colab_type": "text"
      },
      "source": [
        "<a href=\"https://colab.research.google.com/github/SushilKokare/University_Project/blob/Keras_Applications/KA_38_ConvNeXtXLarge.ipynb\" target=\"_parent\"><img src=\"https://colab.research.google.com/assets/colab-badge.svg\" alt=\"Open In Colab\"/></a>"
      ]
    },
    {
      "cell_type": "code",
      "source": [
        "from google.colab import drive"
      ],
      "metadata": {
        "id": "mTCz-TcTPljg"
      },
      "execution_count": 1,
      "outputs": []
    },
    {
      "cell_type": "code",
      "source": [
        "drive.mount('/content/drive')"
      ],
      "metadata": {
        "colab": {
          "base_uri": "https://localhost:8080/"
        },
        "id": "9V_8etdjPqBK",
        "outputId": "3e963566-d331-43ad-8b22-95a2b5837a90"
      },
      "execution_count": 2,
      "outputs": [
        {
          "output_type": "stream",
          "name": "stdout",
          "text": [
            "Mounted at /content/drive\n"
          ]
        }
      ]
    },
    {
      "cell_type": "code",
      "source": [
        "from keras.preprocessing.image import ImageDataGenerator\n",
        "from keras.models import Sequential\n",
        "from keras.layers import Dense,Flatten\n",
        "from keras import backend as k\n",
        "from keras.applications import ConvNeXtXLarge\n",
        "from matplotlib import pyplot as plt"
      ],
      "metadata": {
        "id": "vbxUg2MqPsUb"
      },
      "execution_count": 3,
      "outputs": []
    },
    {
      "cell_type": "code",
      "source": [
        "\n",
        "def show_result(history):\n",
        "  plt.figure(figsize=(5,3))\n",
        "  plt.title(\"Loss Training Vs Validation\")\n",
        "  plt.plot(history.history['loss'],color='blue',label='Train Loss')\n",
        "  plt.plot(history.history['val_loss'],color='orange',label='Val Loss')\n",
        "  plt.legend()\n",
        "  plt.show()\n",
        "\n",
        "  plt.figure(figsize=(5,3))\n",
        "  plt.title(\"Accuracy Training Vs Validation\")\n",
        "  plt.plot(history.history['accuracy'],color='blue',label='Train Acc')\n",
        "  plt.plot(history.history['val_accuracy'],color='orange',label='Val Acc')\n",
        "  plt.legend()\n",
        "  plt.show()\n",
        "     "
      ],
      "metadata": {
        "id": "C9HHG9KiPwkl"
      },
      "execution_count": 4,
      "outputs": []
    },
    {
      "cell_type": "code",
      "source": [
        "def prepro_data(pathTrain,pathTest,img_size,batch_size):\n",
        "  \n",
        "  if k.image_data_format() == 'channels_first':\n",
        "    input_shape = (3,img_size[0],img_size[1])\n",
        "  else:\n",
        "    input_shape = (img_size[0],img_size[1],3)\n",
        "\n",
        "  train_gen = ImageDataGenerator(rescale = 1./255)\n",
        "  test_gen = ImageDataGenerator(rescale = 1./255)\n",
        "\n",
        "  train_data = train_gen.flow_from_directory(\n",
        "      pathTrain,\n",
        "      target_size = img_size,\n",
        "      # batch_size = batch_size,\n",
        "      class_mode = 'binary'\n",
        "  ) \n",
        "\n",
        "  test_data = test_gen.flow_from_directory(\n",
        "      pathTest,\n",
        "      target_size = img_size,\n",
        "      # batch_size = batch_size,\n",
        "      class_mode = 'binary'\n",
        "  )\n",
        "\n",
        "  print(\" Train Data Image Shape = {}\".format(train_data.image_shape))\n",
        "  print(\" Test Data Image Shape = {}\".format(test_data.image_shape))\n",
        "  print(\"Input Shape = {} \".format(input_shape))\n",
        "\n",
        "  return train_data , test_data , input_shape"
      ],
      "metadata": {
        "id": "VUpivcRLPyRL"
      },
      "execution_count": 5,
      "outputs": []
    },
    {
      "cell_type": "code",
      "source": [
        "pathTrain = '/content/drive/MyDrive/AtiNeu Project/Data/MRI/Brain_Data_Organised/Train'\n",
        "pathTest = '/content/drive/MyDrive/AtiNeu Project/Data/MRI/Brain_Data_Organised/Test'\n",
        "     "
      ],
      "metadata": {
        "id": "dW3G0bkwPzKz"
      },
      "execution_count": 6,
      "outputs": []
    },
    {
      "cell_type": "code",
      "source": [
        "train_data , test_data, input_shape = prepro_data(pathTrain,pathTest,(225,225),32)\n"
      ],
      "metadata": {
        "colab": {
          "base_uri": "https://localhost:8080/"
        },
        "id": "X3Zr8hQcP0Oj",
        "outputId": "99cd9ec5-d621-445b-9a08-f40056ec2422"
      },
      "execution_count": 7,
      "outputs": [
        {
          "output_type": "stream",
          "name": "stdout",
          "text": [
            "Found 2251 images belonging to 2 classes.\n",
            "Found 250 images belonging to 2 classes.\n",
            " Train Data Image Shape = (225, 225, 3)\n",
            " Test Data Image Shape = (225, 225, 3)\n",
            "Input Shape = (225, 225, 3) \n"
          ]
        }
      ]
    },
    {
      "cell_type": "code",
      "source": [
        "base_model = ConvNeXtXLarge(weights = 'imagenet',include_top = False,\n",
        "                      input_shape = input_shape)"
      ],
      "metadata": {
        "colab": {
          "base_uri": "https://localhost:8080/"
        },
        "id": "PunuP6JiP18z",
        "outputId": "8fc752a9-220e-4e7d-ea31-f9c387878e64"
      },
      "execution_count": 9,
      "outputs": [
        {
          "output_type": "stream",
          "name": "stdout",
          "text": [
            "Downloading data from https://storage.googleapis.com/tensorflow/keras-applications/convnext/convnext_xlarge_notop.h5\n",
            "1393257616/1393257616 [==============================] - 59s 0us/step\n"
          ]
        }
      ]
    },
    {
      "cell_type": "code",
      "source": [
        "for layer in base_model.layers:\n",
        "  layer.trainable = False\n",
        "\n",
        "\n",
        "model = Sequential()\n",
        "model.add(base_model)\n",
        "model.add(Flatten())\n",
        "model.add(Dense(256,activation='relu'))\n",
        "model.add(Dense(1,activation='sigmoid'))\n",
        "\n",
        "model.compile(optimizer='adam',loss='binary_crossentropy',\n",
        "              metrics=['accuracy'])"
      ],
      "metadata": {
        "id": "VOQ6FdqNP25b"
      },
      "execution_count": 10,
      "outputs": []
    },
    {
      "cell_type": "code",
      "source": [
        "history = model.fit(train_data,epochs=10,validation_data=test_data)\n",
        "\n",
        "show_result(history)"
      ],
      "metadata": {
        "colab": {
          "base_uri": "https://localhost:8080/",
          "height": 971
        },
        "id": "sxuadWsLP7RC",
        "outputId": "b7a151fd-4adc-4596-aaff-748bd8d717e5"
      },
      "execution_count": 11,
      "outputs": [
        {
          "output_type": "stream",
          "name": "stdout",
          "text": [
            "Epoch 1/10\n",
            "71/71 [==============================] - 669s 9s/step - loss: 3.3593 - accuracy: 0.6850 - val_loss: 0.6559 - val_accuracy: 0.7520\n",
            "Epoch 2/10\n",
            "71/71 [==============================] - 127s 2s/step - loss: 0.4926 - accuracy: 0.8143 - val_loss: 1.0247 - val_accuracy: 0.6960\n",
            "Epoch 3/10\n",
            "71/71 [==============================] - 127s 2s/step - loss: 0.1938 - accuracy: 0.9178 - val_loss: 0.4833 - val_accuracy: 0.8000\n",
            "Epoch 4/10\n",
            "71/71 [==============================] - 127s 2s/step - loss: 0.1063 - accuracy: 0.9720 - val_loss: 0.7365 - val_accuracy: 0.7400\n",
            "Epoch 5/10\n",
            "71/71 [==============================] - 127s 2s/step - loss: 0.0783 - accuracy: 0.9809 - val_loss: 0.5429 - val_accuracy: 0.7760\n",
            "Epoch 6/10\n",
            "71/71 [==============================] - 127s 2s/step - loss: 0.0687 - accuracy: 0.9827 - val_loss: 0.3916 - val_accuracy: 0.8320\n",
            "Epoch 7/10\n",
            "71/71 [==============================] - 127s 2s/step - loss: 0.0403 - accuracy: 0.9947 - val_loss: 0.4871 - val_accuracy: 0.8080\n",
            "Epoch 8/10\n",
            "71/71 [==============================] - 135s 2s/step - loss: 0.0298 - accuracy: 0.9996 - val_loss: 0.5452 - val_accuracy: 0.7880\n",
            "Epoch 9/10\n",
            "71/71 [==============================] - 127s 2s/step - loss: 0.0258 - accuracy: 0.9978 - val_loss: 0.4282 - val_accuracy: 0.8160\n",
            "Epoch 10/10\n",
            "71/71 [==============================] - 127s 2s/step - loss: 0.0187 - accuracy: 0.9996 - val_loss: 0.4907 - val_accuracy: 0.8160\n"
          ]
        },
        {
          "output_type": "display_data",
          "data": {
            "text/plain": [
              "<Figure size 500x300 with 1 Axes>"
            ],
            "image/png": "[encoded data removed]"
          },
          "metadata": {}
        },
        {
          "output_type": "display_data",
          "data": {
            "text/plain": [
              "<Figure size 500x300 with 1 Axes>"
            ],
            "image/png": "[encoded data removed]"
          },
          "metadata": {}
        }
      ]
    },
    {
      "cell_type": "code",
      "source": [
        "import pandas as pd\n",
        "\n",
        "pd.DataFrame(history.history)"
      ],
      "metadata": {
        "colab": {
          "base_uri": "https://localhost:8080/",
          "height": 359
        },
        "id": "YX7-O8rsP8pb",
        "outputId": "7d1733e3-621d-4972-e701-3c30bdbc7763"
      },
      "execution_count": 12,
      "outputs": [
        {
          "output_type": "execute_result",
          "data": {
            "text/plain": [
              "       loss  accuracy  val_loss  val_accuracy\n",
              "0  3.359350  0.685029  0.655852         0.752\n",
              "1  0.492561  0.814305  1.024719         0.696\n",
              "2  0.193816  0.917814  0.483312         0.800\n",
              "3  0.106296  0.972012  0.736531         0.740\n",
              "4  0.078302  0.980897  0.542894         0.776\n",
              "5  0.068743  0.982674  0.391574         0.832\n",
              "6  0.040261  0.994669  0.487091         0.808\n",
              "7  0.029770  0.999556  0.545188         0.788\n",
              "8  0.025774  0.997779  0.428212         0.816\n",
              "9  0.018721  0.999556  0.490748         0.816"
            ],
            "text/html": [
              "\n",
              "  <div id=\"df-76c8b726-d398-480a-9016-98645d375f1f\">\n",
              "    <div class=\"colab-df-container\">\n",
              "      <div>\n",
              "<style scoped>\n",
              "    .dataframe tbody tr th:only-of-type {\n",
              "        vertical-align: middle;\n",
              "    }\n",
              "\n",
              "    .dataframe tbody tr th {\n",
              "        vertical-align: top;\n",
              "    }\n",
              "\n",
              "    .dataframe thead th {\n",
              "        text-align: right;\n",
              "    }\n",
              "</style>\n",
              "<table border=\"1\" class=\"dataframe\">\n",
              "  <thead>\n",
              "    <tr style=\"text-align: right;\">\n",
              "      <th></th>\n",
              "      <th>loss</th>\n",
              "      <th>accuracy</th>\n",
              "      <th>val_loss</th>\n",
              "      <th>val_accuracy</th>\n",
              "    </tr>\n",
              "  </thead>\n",
              "  <tbody>\n",
              "    <tr>\n",
              "      <th>0</th>\n",
              "      <td>3.359350</td>\n",
              "      <td>0.685029</td>\n",
              "      <td>0.655852</td>\n",
              "      <td>0.752</td>\n",
              "    </tr>\n",
              "    <tr>\n",
              "      <th>1</th>\n",
              "      <td>0.492561</td>\n",
              "      <td>0.814305</td>\n",
              "      <td>1.024719</td>\n",
              "      <td>0.696</td>\n",
              "    </tr>\n",
              "    <tr>\n",
              "      <th>2</th>\n",
              "      <td>0.193816</td>\n",
              "      <td>0.917814</td>\n",
              "      <td>0.483312</td>\n",
              "      <td>0.800</td>\n",
              "    </tr>\n",
              "    <tr>\n",
              "      <th>3</th>\n",
              "      <td>0.106296</td>\n",
              "      <td>0.972012</td>\n",
              "      <td>0.736531</td>\n",
              "      <td>0.740</td>\n",
              "    </tr>\n",
              "    <tr>\n",
              "      <th>4</th>\n",
              "      <td>0.078302</td>\n",
              "      <td>0.980897</td>\n",
              "      <td>0.542894</td>\n",
              "      <td>0.776</td>\n",
              "    </tr>\n",
              "    <tr>\n",
              "      <th>5</th>\n",
              "      <td>0.068743</td>\n",
              "      <td>0.982674</td>\n",
              "      <td>0.391574</td>\n",
              "      <td>0.832</td>\n",
              "    </tr>\n",
              "    <tr>\n",
              "      <th>6</th>\n",
              "      <td>0.040261</td>\n",
              "      <td>0.994669</td>\n",
              "      <td>0.487091</td>\n",
              "      <td>0.808</td>\n",
              "    </tr>\n",
              "    <tr>\n",
              "      <th>7</th>\n",
              "      <td>0.029770</td>\n",
              "      <td>0.999556</td>\n",
              "      <td>0.545188</td>\n",
              "      <td>0.788</td>\n",
              "    </tr>\n",
              "    <tr>\n",
              "      <th>8</th>\n",
              "      <td>0.025774</td>\n",
              "      <td>0.997779</td>\n",
              "      <td>0.428212</td>\n",
              "      <td>0.816</td>\n",
              "    </tr>\n",
              "    <tr>\n",
              "      <th>9</th>\n",
              "      <td>0.018721</td>\n",
              "      <td>0.999556</td>\n",
              "      <td>0.490748</td>\n",
              "      <td>0.816</td>\n",
              "    </tr>\n",
              "  </tbody>\n",
              "</table>\n",
              "</div>\n",
              "      <button class=\"colab-df-convert\" onclick=\"convertToInteractive('df-76c8b726-d398-480a-9016-98645d375f1f')\"\n",
              "              title=\"Convert this dataframe to an interactive table.\"\n",
              "              style=\"display:none;\">\n",
              "        \n",
              "  <svg xmlns=\"http://www.w3.org/2000/svg\" height=\"24px\"viewBox=\"0 0 24 24\"\n",
              "       width=\"24px\">\n",
              "    <path d=\"M0 0h24v24H0V0z\" fill=\"none\"/>\n",
              "    <path d=\"M18.56 5.44l.94 2.06.94-2.06 2.06-.94-2.06-.94-.94-2.06-.94 2.06-2.06.94zm-11 1L8.5 8.5l.94-2.06 2.06-.94-2.06-.94L8.5 2.5l-.94 2.06-2.06.94zm10 10l.94 2.06.94-2.06 2.06-.94-2.06-.94-.94-2.06-.94 2.06-2.06.94z\"/><path d=\"M17.41 7.96l-1.37-1.37c-.4-.4-.92-.59-1.43-.59-.52 0-1.04.2-1.43.59L10.3 9.45l-7.72 7.72c-.78.78-.78 2.05 0 2.83L4 21.41c.39.39.9.59 1.41.59.51 0 1.02-.2 1.41-.59l7.78-7.78 2.81-2.81c.8-.78.8-2.07 0-2.86zM5.41 20L4 18.59l7.72-7.72 1.47 1.35L5.41 20z\"/>\n",
              "  </svg>\n",
              "      </button>\n",
              "      \n",
              "  <style>\n",
              "    .colab-df-container {\n",
              "      display:flex;\n",
              "      flex-wrap:wrap;\n",
              "      gap: 12px;\n",
              "    }\n",
              "\n",
              "    .colab-df-convert {\n",
              "      background-color: #E8F0FE;\n",
              "      border: none;\n",
              "      border-radius: 50%;\n",
              "      cursor: pointer;\n",
              "      display: none;\n",
              "      fill: #1967D2;\n",
              "      height: 32px;\n",
              "      padding: 0 0 0 0;\n",
              "      width: 32px;\n",
              "    }\n",
              "\n",
              "    .colab-df-convert:hover {\n",
              "      background-color: #E2EBFA;\n",
              "      box-shadow: 0px 1px 2px rgba(60, 64, 67, 0.3), 0px 1px 3px 1px rgba(60, 64, 67, 0.15);\n",
              "      fill: #174EA6;\n",
              "    }\n",
              "\n",
              "    [theme=dark] .colab-df-convert {\n",
              "      background-color: #3B4455;\n",
              "      fill: #D2E3FC;\n",
              "    }\n",
              "\n",
              "    [theme=dark] .colab-df-convert:hover {\n",
              "      background-color: #434B5C;\n",
              "      box-shadow: 0px 1px 3px 1px rgba(0, 0, 0, 0.15);\n",
              "      filter: drop-shadow(0px 1px 2px rgba(0, 0, 0, 0.3));\n",
              "      fill: #FFFFFF;\n",
              "    }\n",
              "  </style>\n",
              "\n",
              "      <script>\n",
              "        const buttonEl =\n",
              "          document.querySelector('#df-76c8b726-d398-480a-9016-98645d375f1f button.colab-df-convert');\n",
              "        buttonEl.style.display =\n",
              "          google.colab.kernel.accessAllowed ? 'block' : 'none';\n",
              "\n",
              "        async function convertToInteractive(key) {\n",
              "          const element = document.querySelector('#df-76c8b726-d398-480a-9016-98645d375f1f');\n",
              "          const dataTable =\n",
              "            await google.colab.kernel.invokeFunction('convertToInteractive',\n",
              "                                                     [key], {});\n",
              "          if (!dataTable) return;\n",
              "\n",
              "          const docLinkHtml = 'Like what you see? Visit the ' +\n",
              "            '<a target=\"_blank\" href=https://colab.research.google.com/notebooks/data_table.ipynb>data table notebook</a>'\n",
              "            + ' to learn more about interactive tables.';\n",
              "          element.innerHTML = '';\n",
              "          dataTable['output_type'] = 'display_data';\n",
              "          await google.colab.output.renderOutput(dataTable, element);\n",
              "          const docLink = document.createElement('div');\n",
              "          docLink.innerHTML = docLinkHtml;\n",
              "          element.appendChild(docLink);\n",
              "        }\n",
              "      </script>\n",
              "    </div>\n",
              "  </div>\n",
              "  "
            ]
          },
          "metadata": {},
          "execution_count": 12
        }
      ]
    },
    {
      "cell_type": "code",
      "source": [
        "model.save('KA_38_ConvNeXtXLarge.h5')"
      ],
      "metadata": {
        "id": "7UlTCmbzP9-T"
      },
      "execution_count": 13,
      "outputs": []
    },
    {
      "cell_type": "code",
      "source": [],
      "metadata": {
        "id": "8adXejViXeIx"
      },
      "execution_count": null,
      "outputs": []
    }
  ]
}