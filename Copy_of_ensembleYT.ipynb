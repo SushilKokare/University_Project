{
  "nbformat": 4,
  "nbformat_minor": 0,
  "metadata": {
    "colab": {
      "provenance": [],
      "include_colab_link": true
    },
    "kernelspec": {
      "name": "python3",
      "display_name": "Python 3"
    },
    "language_info": {
      "name": "python"
    },
    "accelerator": "GPU",
    "gpuClass": "standard"
  },
  "cells": [
    {
      "cell_type": "markdown",
      "metadata": {
        "id": "view-in-github",
        "colab_type": "text"
      },
      "source": [
        "<a href=\"https://colab.research.google.com/github/SushilKokare/AtiNeu_Project/blob/main/Copy_of_ensembleYT.ipynb\" target=\"_parent\"><img src=\"https://colab.research.google.com/assets/colab-badge.svg\" alt=\"Open In Colab\"/></a>"
      ]
    },
    {
      "cell_type": "code",
      "execution_count": 4,
      "metadata": {
        "id": "tfjDw7dzuzAP"
      },
      "outputs": [],
      "source": [
        "from google.colab import drive"
      ]
    },
    {
      "cell_type": "code",
      "source": [
        "drive.mount('/content/drive')"
      ],
      "metadata": {
        "colab": {
          "base_uri": "https://localhost:8080/"
        },
        "id": "1sCNmXQUvHA9",
        "outputId": "d8bf0e1e-f0d9-4a02-9c83-536e21575aa7"
      },
      "execution_count": 5,
      "outputs": [
        {
          "output_type": "stream",
          "name": "stdout",
          "text": [
            "Drive already mounted at /content/drive; to attempt to forcibly remount, call drive.mount(\"/content/drive\", force_remount=True).\n"
          ]
        }
      ]
    },
    {
      "cell_type": "code",
      "source": [
        "# pip install Augmentor"
      ],
      "metadata": {
        "id": "9b0SxAZMvQeu"
      },
      "execution_count": null,
      "outputs": []
    },
    {
      "cell_type": "code",
      "source": [
        "# import Augmentor"
      ],
      "metadata": {
        "id": "lKbLzDApvi5q"
      },
      "execution_count": null,
      "outputs": []
    },
    {
      "cell_type": "code",
      "source": [
        "# Here write augmentiation part"
      ],
      "metadata": {
        "id": "3xXbqQC6v98F"
      },
      "execution_count": null,
      "outputs": []
    },
    {
      "cell_type": "code",
      "source": [
        "# !pip install tensorflow-gpu"
      ],
      "metadata": {
        "id": "xqO8cqIClSoz"
      },
      "execution_count": 6,
      "outputs": []
    },
    {
      "cell_type": "code",
      "source": [
        "# !nvidea-smi"
      ],
      "metadata": {
        "id": "3z3aApDUlciW"
      },
      "execution_count": 7,
      "outputs": []
    },
    {
      "cell_type": "code",
      "source": [
        "import numpy as np\n",
        "import os\n",
        "import tensorflow as tf\n",
        "from tensorflow.keras.preprocessing.image import ImageDataGenerator\n",
        "from keras.layers import Dense,Flatten, Dropout, Input, Average, GlobalAveragePooling2D\n",
        "from keras.models import Model\n",
        "from keras.layers import BatchNormalization, MaxPooling2D"
      ],
      "metadata": {
        "id": "x5qmAS-ZI6Il"
      },
      "execution_count": 6,
      "outputs": []
    },
    {
      "cell_type": "code",
      "source": [
        "train_dir = '/content/drive/MyDrive/AtiNeu Project/Data/MRI/Brain_Data_Organised/Train'\n",
        "test_dir = '/content/drive/MyDrive/AtiNeu Project/Data/MRI/Brain_Data_Organised/Test'"
      ],
      "metadata": {
        "id": "poSLfq6SIMky"
      },
      "execution_count": 7,
      "outputs": []
    },
    {
      "cell_type": "code",
      "source": [
        "input_shape = (225,225)\n",
        "batch_size = 10"
      ],
      "metadata": {
        "id": "QQtezZL6Jbyt"
      },
      "execution_count": 8,
      "outputs": []
    },
    {
      "cell_type": "code",
      "source": [
        "train_ds1 = tf.keras.utils.image_dataset_from_directory(\n",
        "    train_dir,\n",
        "    seed = 123,\n",
        "    image_size=input_shape,\n",
        "    batch_size = batch_size,\n",
        "    #color_mode = 'grayscale'\n",
        ")"
      ],
      "metadata": {
        "colab": {
          "base_uri": "https://localhost:8080/"
        },
        "id": "c2sIPVUVINkY",
        "outputId": "1f9856fd-cdca-4bb1-869b-6e1b3caa82c7"
      },
      "execution_count": 9,
      "outputs": [
        {
          "output_type": "stream",
          "name": "stdout",
          "text": [
            "Found 2251 files belonging to 2 classes.\n"
          ]
        }
      ]
    },
    {
      "cell_type": "code",
      "source": [
        "test_ds1 = tf.keras.utils.image_dataset_from_directory(\n",
        "    test_dir,\n",
        "    seed = 123,\n",
        "    image_size = input_shape,\n",
        "    batch_size = batch_size,\n",
        "    #color_mode = 'grayscale'\n",
        ")"
      ],
      "metadata": {
        "colab": {
          "base_uri": "https://localhost:8080/"
        },
        "id": "_I_U9R8pIPog",
        "outputId": "05fee448-3170-4325-9b73-7c812a3d1a4e"
      },
      "execution_count": 10,
      "outputs": [
        {
          "output_type": "stream",
          "name": "stdout",
          "text": [
            "Found 250 files belonging to 2 classes.\n"
          ]
        }
      ]
    },
    {
      "cell_type": "code",
      "source": [
        "normalization_layer = tf.keras.layers.Rescaling(1./255)"
      ],
      "metadata": {
        "id": "t0yjQnoYJ9NP"
      },
      "execution_count": 11,
      "outputs": []
    },
    {
      "cell_type": "code",
      "source": [
        "normalized_ds = train_ds1.map(lambda x,y: (normalization_layer(x),y))\n",
        "image_batch = labels_batch = next(iter(normalized_ds))\n",
        "first_img = image_batch[0]\n",
        "print(np.min(first_img),np.max(first_img))\n"
      ],
      "metadata": {
        "colab": {
          "base_uri": "https://localhost:8080/"
        },
        "id": "VfJMku2BKISw",
        "outputId": "529561bf-712d-4a4f-816e-86b9246aacd1"
      },
      "execution_count": 12,
      "outputs": [
        {
          "output_type": "stream",
          "name": "stderr",
          "text": [
            "WARNING:tensorflow:From /usr/local/lib/python3.9/dist-packages/tensorflow/python/autograph/pyct/static_analysis/liveness.py:83: Analyzer.lamba_check (from tensorflow.python.autograph.pyct.static_analysis.liveness) is deprecated and will be removed after 2023-09-23.\n",
            "Instructions for updating:\n",
            "Lambda fuctions will be no more assumed to be used in the statement where they are used, or at least in the same block. https://github.com/tensorflow/tensorflow/issues/56089\n"
          ]
        },
        {
          "output_type": "stream",
          "name": "stdout",
          "text": [
            "0.0 1.0\n"
          ]
        }
      ]
    },
    {
      "cell_type": "code",
      "source": [
        "type(normalization_layer)"
      ],
      "metadata": {
        "colab": {
          "base_uri": "https://localhost:8080/"
        },
        "id": "XmRqaNC3NQIj",
        "outputId": "abf145de-4dbc-4361-bf75-6ca7a0c55e82"
      },
      "execution_count": 13,
      "outputs": [
        {
          "output_type": "execute_result",
          "data": {
            "text/plain": [
              "keras.layers.preprocessing.image_preprocessing.Rescaling"
            ]
          },
          "metadata": {},
          "execution_count": 13
        }
      ]
    },
    {
      "cell_type": "code",
      "source": [
        "del normalization_layer"
      ],
      "metadata": {
        "id": "g2WTQJvRNvHP"
      },
      "execution_count": 14,
      "outputs": []
    },
    {
      "cell_type": "code",
      "source": [
        "AUTOTUNE = tf.data.AUTOTUNE\n",
        "train_ds = train_ds1.cache().shuffle(1000).prefetch(buffer_size = AUTOTUNE)\n",
        "test_ds = train_ds1.cache().prefetch(buffer_size = AUTOTUNE)"
      ],
      "metadata": {
        "id": "Ezxt4bXFKUJm"
      },
      "execution_count": 15,
      "outputs": []
    },
    {
      "cell_type": "code",
      "source": [
        "del AUTOTUNE\n",
        "del train_ds1\n",
        "del test_ds1"
      ],
      "metadata": {
        "id": "7372JfxkN0q2"
      },
      "execution_count": 16,
      "outputs": []
    },
    {
      "cell_type": "code",
      "source": [
        "from tensorflow.keras.applications import ResNet50\n",
        "from tensorflow.keras.applications.densenet import DenseNet121"
      ],
      "metadata": {
        "id": "94NO69AkLWVa"
      },
      "execution_count": 17,
      "outputs": []
    },
    {
      "cell_type": "code",
      "source": [
        "RN50_base_model = ResNet50(\n",
        "    input_shape = (225,225,3),\n",
        "    weights = 'imagenet',\n",
        "    include_top = False\n",
        ")"
      ],
      "metadata": {
        "id": "iv-sX1s0Lfyk"
      },
      "execution_count": 18,
      "outputs": []
    },
    {
      "cell_type": "code",
      "source": [
        "# Freeze  the first 10 layers\n",
        "for layer in RN50_base_model.layers[:10]:\n",
        "  layer.trainable = False\n",
        "\n",
        "x = RN50_base_model.output\n",
        "x = GlobalAveragePooling2D()(x)\n",
        "x = Dense(512,activation='relu')(x)\n",
        "x = Dropout(0.4)(x)\n",
        "predictions = Dense(2,activation='sigmoid')(x)\n",
        "\n",
        "model1 = Model(inputs = RN50_base_model.inputs, outputs = predictions)"
      ],
      "metadata": {
        "id": "eGJvIJ5ZMOLc"
      },
      "execution_count": 19,
      "outputs": []
    },
    {
      "cell_type": "code",
      "source": [
        "del RN50_base_model"
      ],
      "metadata": {
        "id": "UMF1PznOPTS5"
      },
      "execution_count": 20,
      "outputs": []
    },
    {
      "cell_type": "code",
      "source": [
        "DN121_base_model = DenseNet121(\n",
        "    input_shape = (225,225,3),\n",
        "    weights = 'imagenet',\n",
        "    include_top = False\n",
        ")"
      ],
      "metadata": {
        "id": "kcuTd81ZPKVk"
      },
      "execution_count": 21,
      "outputs": []
    },
    {
      "cell_type": "code",
      "source": [
        "for layer in DN121_base_model.layers[:10]:\n",
        "  layer.trainable = False\n",
        "\n",
        "x = DN121_base_model.output\n",
        "x = GlobalAveragePooling2D()(x)\n",
        "x = Dense(512,activation='relu')(x)\n",
        "x = Dropout(0.4)(x)\n",
        "predictions = Dense(2,activation='sigmoid')(x)\n",
        "\n",
        "model2 = Model(inputs = DN121_base_model.inputs, outputs = predictions)"
      ],
      "metadata": {
        "id": "XXvi2uEdPs9D"
      },
      "execution_count": 22,
      "outputs": []
    },
    {
      "cell_type": "code",
      "source": [
        "del DN121_base_model"
      ],
      "metadata": {
        "id": "phg-Kz4FPWte"
      },
      "execution_count": 23,
      "outputs": []
    },
    {
      "cell_type": "code",
      "source": [
        "from tensorflow.keras.callbacks import ModelCheckpoint"
      ],
      "metadata": {
        "id": "Vl0vVWpfQR5a"
      },
      "execution_count": 24,
      "outputs": []
    },
    {
      "cell_type": "code",
      "source": [
        "# checkpoint to save best model per epoch\n",
        "\n",
        "model_filepath = '/content/drive/MyDrive/AtiNeu Project/model-{epoch:02d} - {val_accuracy: .4f}.hdf5'\n",
        "checkpoint = ModelCheckpoint(\n",
        "    filepath = model_filepath,\n",
        "    monitor = 'val_accuracy',\n",
        "    mode = 'max',\n",
        "    save_best_only = True,\n",
        "    verbose = 1\n",
        ")"
      ],
      "metadata": {
        "id": "JnAK9bqrQkCE"
      },
      "execution_count": 25,
      "outputs": []
    },
    {
      "cell_type": "code",
      "source": [
        "# compilations of models"
      ],
      "metadata": {
        "id": "kntfmW0XRL0T"
      },
      "execution_count": 26,
      "outputs": []
    },
    {
      "cell_type": "code",
      "source": [
        "model1.compile(optimizer='adam',loss=tf.losses.SparseCategoricalCrossentropy(from_logits=False), metrics=['accuracy'])"
      ],
      "metadata": {
        "id": "x6T4aV53RSYR"
      },
      "execution_count": 32,
      "outputs": []
    },
    {
      "cell_type": "code",
      "source": [
        "model2.compile(optimizer='adam',loss=tf.losses.SparseCategoricalCrossentropy(from_logits=False),metrics=['accuracy'])"
      ],
      "metadata": {
        "id": "VPkGmsYrReaR"
      },
      "execution_count": 33,
      "outputs": []
    },
    {
      "cell_type": "code",
      "source": [
        "history1 = model1.fit(\n",
        "    train_ds,\n",
        "    validation_data = test_ds,\n",
        "    epochs = 3,\n",
        "    callbacks=[checkpoint]\n",
        ")"
      ],
      "metadata": {
        "id": "cWLO_-juSORS",
        "colab": {
          "base_uri": "https://localhost:8080/"
        },
        "outputId": "7963102e-3afa-474c-f48a-2d09a97cc00a"
      },
      "execution_count": 34,
      "outputs": [
        {
          "output_type": "stream",
          "name": "stdout",
          "text": [
            "Epoch 1/3\n",
            "226/226 [==============================] - ETA: 0s - loss: 0.7847 - accuracy: 0.6117\n",
            "Epoch 1: val_accuracy improved from -inf to 0.63350, saving model to /content/drive/MyDrive/AtiNeu Project/model-01 -  0.6335.hdf5\n",
            "226/226 [==============================] - 115s 172ms/step - loss: 0.7847 - accuracy: 0.6117 - val_loss: 4.9152 - val_accuracy: 0.6335\n",
            "Epoch 2/3\n",
            "226/226 [==============================] - ETA: 0s - loss: 0.6208 - accuracy: 0.6331\n",
            "Epoch 2: val_accuracy did not improve from 0.63350\n",
            "226/226 [==============================] - 34s 153ms/step - loss: 0.6208 - accuracy: 0.6331 - val_loss: 3.3557 - val_accuracy: 0.6335\n",
            "Epoch 3/3\n",
            "226/226 [==============================] - ETA: 0s - loss: 0.6029 - accuracy: 0.6504\n",
            "Epoch 3: val_accuracy improved from 0.63350 to 0.63483, saving model to /content/drive/MyDrive/AtiNeu Project/model-03 -  0.6348.hdf5\n",
            "226/226 [==============================] - 38s 169ms/step - loss: 0.6029 - accuracy: 0.6504 - val_loss: 0.9671 - val_accuracy: 0.6348\n"
          ]
        }
      ]
    },
    {
      "cell_type": "code",
      "source": [
        "#  import gc\n",
        "#  gc.collect()"
      ],
      "metadata": {
        "id": "dPp_9JxCW9-j"
      },
      "execution_count": null,
      "outputs": []
    },
    {
      "cell_type": "code",
      "source": [
        "import matplotlib.pyplot as plt\n",
        "\n",
        "acc = history1.history['accuracy']\n",
        "val_acc = history1.history['val_accuracy']\n",
        "loss = history1.history['loss']\n",
        "val_loss = history1.history['val_loss']\n",
        "\n",
        "epochs = range(len(acc))\n",
        "\n",
        "plt.plot(epochs,acc,'r',label='Train Acc')\n",
        "plt.plot(epochs,val_acc,'b',label='Val Acc')\n",
        "plt.title(\"Training & Validation Accuracy\")\n",
        "plt.legend()\n",
        "plt.figure()\n",
        "\n",
        "plt.plot(epochs,loss,'r',label='Train Loss')\n",
        "plt.plot(epochs,val_loss,'b',label='Val Loss')\n",
        "plt.title(\"Training & Validation Loss\")\n",
        "plt.legend()\n",
        "\n",
        "plt.show()"
      ],
      "metadata": {
        "id": "FhutGVO-FaWK",
        "colab": {
          "base_uri": "https://localhost:8080/",
          "height": 545
        },
        "outputId": "df6f8158-9e2e-4bc0-9244-b4a0f468f7e9"
      },
      "execution_count": 82,
      "outputs": [
        {
          "output_type": "display_data",
          "data": {
            "text/plain": [
              "<Figure size 432x288 with 1 Axes>"
            ],
            "image/png": "[encoded data removed]"
          },
          "metadata": {
            "needs_background": "light"
          }
        },
        {
          "output_type": "display_data",
          "data": {
            "text/plain": [
              "<Figure size 432x288 with 1 Axes>"
            ],
            "image/png": "[encoded data removed]"
          },
          "metadata": {
            "needs_background": "light"
          }
        }
      ]
    },
    {
      "cell_type": "code",
      "source": [
        "history2 = model2.fit(\n",
        "    train_ds,\n",
        "    validation_data = test_ds,\n",
        "    epochs = 3,\n",
        "    callbacks=[checkpoint]\n",
        ")"
      ],
      "metadata": {
        "id": "clacwdCnF-jZ",
        "colab": {
          "base_uri": "https://localhost:8080/"
        },
        "outputId": "64583460-1e7c-44cb-fe6b-4858a2e98dae"
      },
      "execution_count": 37,
      "outputs": [
        {
          "output_type": "stream",
          "name": "stdout",
          "text": [
            "Epoch 1/3\n",
            "226/226 [==============================] - ETA: 0s - loss: 0.7759 - accuracy: 0.5908\n",
            "Epoch 1: val_accuracy did not improve from 0.63483\n",
            "226/226 [==============================] - 103s 179ms/step - loss: 0.7759 - accuracy: 0.5908 - val_loss: 447.2368 - val_accuracy: 0.6335\n",
            "Epoch 2/3\n",
            "226/226 [==============================] - ETA: 0s - loss: 0.5748 - accuracy: 0.6948\n",
            "Epoch 2: val_accuracy did not improve from 0.63483\n",
            "226/226 [==============================] - 37s 163ms/step - loss: 0.5748 - accuracy: 0.6948 - val_loss: 3.1129 - val_accuracy: 0.6335\n",
            "Epoch 3/3\n",
            "226/226 [==============================] - ETA: 0s - loss: 0.5334 - accuracy: 0.7308\n",
            "Epoch 3: val_accuracy improved from 0.63483 to 0.72990, saving model to /content/drive/MyDrive/AtiNeu Project/model-03 -  0.7299.hdf5\n",
            "226/226 [==============================] - 39s 171ms/step - loss: 0.5334 - accuracy: 0.7308 - val_loss: 0.5552 - val_accuracy: 0.7299\n"
          ]
        }
      ]
    },
    {
      "cell_type": "code",
      "source": [
        "import matplotlib.pyplot as plt\n",
        "\n",
        "acc = history2.history['accuracy']\n",
        "val_acc = history2.history['val_accuracy']\n",
        "loss = history2.history['loss']\n",
        "val_loss = history2.history['val_loss']\n",
        "\n",
        "epochs = range(len(acc))\n",
        "\n",
        "plt.plot(epochs,acc,'r',label='Train Acc')\n",
        "plt.plot(epochs,val_acc,'b',label='Val Acc')\n",
        "plt.title(\"Training & Validation Accuracy\")\n",
        "plt.legend()\n",
        "plt.figure()\n",
        "\n",
        "plt.plot(epochs,loss,'r',label='Train Loss')\n",
        "plt.plot(epochs,val_loss,'b',label='Val Loss')\n",
        "plt.title(\"Training & Validation Loss\")\n",
        "plt.legend()\n",
        "\n",
        "plt.show()"
      ],
      "metadata": {
        "id": "Y-qzzNavGDDQ",
        "colab": {
          "base_uri": "https://localhost:8080/",
          "height": 545
        },
        "outputId": "988f46ca-2c24-4e3f-9a71-81e1192c2162"
      },
      "execution_count": 83,
      "outputs": [
        {
          "output_type": "display_data",
          "data": {
            "text/plain": [
              "<Figure size 432x288 with 1 Axes>"
            ],
            "image/png": "[encoded data removed]"
          },
          "metadata": {
            "needs_background": "light"
          }
        },
        {
          "output_type": "display_data",
          "data": {
            "text/plain": [
              "<Figure size 432x288 with 1 Axes>"
            ],
            "image/png": "[encoded data removed]"
          },
          "metadata": {
            "needs_background": "light"
          }
        }
      ]
    },
    {
      "cell_type": "code",
      "source": [
        "# Combining Model"
      ],
      "metadata": {
        "id": "RGzJo1ObGXim"
      },
      "execution_count": 39,
      "outputs": []
    },
    {
      "cell_type": "code",
      "source": [
        "from tensorflow.keras.models import Model, load_model\n",
        "from tensorflow.keras.layers import Input,Average"
      ],
      "metadata": {
        "id": "x8oVdz7DGOFY"
      },
      "execution_count": 40,
      "outputs": []
    },
    {
      "cell_type": "code",
      "source": [
        "# youtube model name = /model-01-0.9044.hdf5 \n",
        "\n",
        "model_1 = load_model('/content/drive/MyDrive/AtiNeu Project/model-03 -  0.6348.hdf5')\n",
        "model_1 = Model(inputs=model_1.inputs,\n",
        "                outputs=model_1.outputs,\n",
        "                name='name_of_model_1')"
      ],
      "metadata": {
        "id": "9tt7LOmZGdzg"
      },
      "execution_count": 50,
      "outputs": []
    },
    {
      "cell_type": "code",
      "source": [
        "# youtube model name = model-04-0.0156.hdf5\n",
        "\n",
        "model_2 = load_model('/content/drive/MyDrive/AtiNeu Project/model-03 -  0.7299.hdf5')\n",
        "model_2 = Model(inputs=model_2.inputs,\n",
        "                outputs=model_2.outputs,\n",
        "                name='name_of_model_2')"
      ],
      "metadata": {
        "id": "RTZYp3ItHl0F"
      },
      "execution_count": 53,
      "outputs": []
    },
    {
      "cell_type": "code",
      "source": [
        "models = [model_1,model_2]\n",
        "model_input = Input(shape=(225,225,3))\n",
        "model_outputs = [model(model_input) for model in models]\n",
        "ensemble_output = Average()(model_outputs)\n",
        "ensemble_model = Model(inputs=model_input,outputs=ensemble_output,name='ensemble')"
      ],
      "metadata": {
        "id": "MV7TiK5dHuNF"
      },
      "execution_count": 73,
      "outputs": []
    },
    {
      "cell_type": "code",
      "source": [
        "ensemble_model.compile(optimizer='adam',loss=tf.keras.losses.SparseCategoricalCrossentropy(from_logits=False),\n",
        "                               metrics=['accuracy'])"
      ],
      "metadata": {
        "id": "0WvDFbeRIQws"
      },
      "execution_count": 74,
      "outputs": []
    },
    {
      "cell_type": "code",
      "source": [
        "history = ensemble_model.fit(\n",
        "    train_ds,\n",
        "    validation_data = test_ds,\n",
        "    epochs=5\n",
        ")"
      ],
      "metadata": {
        "id": "UR97raWrIjN8",
        "colab": {
          "base_uri": "https://localhost:8080/"
        },
        "outputId": "70631844-4994-4bd8-8ddf-1dd4f8b3fd9a"
      },
      "execution_count": 75,
      "outputs": [
        {
          "output_type": "stream",
          "name": "stdout",
          "text": [
            "Epoch 1/5\n",
            "226/226 [==============================] - 164s 301ms/step - loss: 0.5535 - accuracy: 0.7201 - val_loss: 5.6447 - val_accuracy: 0.6335\n",
            "Epoch 2/5\n",
            "226/226 [==============================] - 66s 294ms/step - loss: 0.5003 - accuracy: 0.7503 - val_loss: 3.4069 - val_accuracy: 0.6344\n",
            "Epoch 3/5\n",
            "226/226 [==============================] - 67s 297ms/step - loss: 0.4653 - accuracy: 0.7752 - val_loss: 0.5103 - val_accuracy: 0.7819\n",
            "Epoch 4/5\n",
            "226/226 [==============================] - 68s 301ms/step - loss: 0.3797 - accuracy: 0.8490 - val_loss: 0.3376 - val_accuracy: 0.8467\n",
            "Epoch 5/5\n",
            "226/226 [==============================] - 68s 301ms/step - loss: 0.3118 - accuracy: 0.8716 - val_loss: 0.1359 - val_accuracy: 0.9440\n"
          ]
        }
      ]
    },
    {
      "cell_type": "code",
      "source": [
        "import matplotlib.pyplot as plt\n",
        "\n",
        "acc = history.history['accuracy']\n",
        "val_acc = history.history['val_accuracy']\n",
        "loss = history.history['loss']\n",
        "val_loss = history.history['val_loss']\n",
        "\n",
        "epochs = range(len(acc))\n",
        "\n",
        "plt.plot(epochs,acc,'r',label='Train Acc')\n",
        "plt.plot(epochs,val_acc,'b',label='Val Acc')\n",
        "plt.title(\"Training & Validation Accuracy\")\n",
        "plt.legend()\n",
        "plt.figure()\n",
        "\n",
        "plt.plot(epochs,loss,'r',label='Train Loss')\n",
        "plt.plot(epochs,val_loss,'b',label='Val Loss')\n",
        "plt.title(\"Training & Validation Loss\")\n",
        "plt.legend()\n",
        "\n",
        "plt.show()"
      ],
      "metadata": {
        "id": "5GFn6MgtJZ3y",
        "colab": {
          "base_uri": "https://localhost:8080/",
          "height": 545
        },
        "outputId": "3721bf28-8729-419e-e56c-7139d6b352c8"
      },
      "execution_count": 80,
      "outputs": [
        {
          "output_type": "display_data",
          "data": {
            "text/plain": [
              "<Figure size 432x288 with 1 Axes>"
            ],
            "image/png": "[encoded data removed]"
          },
          "metadata": {
            "needs_background": "light"
          }
        },
        {
          "output_type": "display_data",
          "data": {
            "text/plain": [
              "<Figure size 432x288 with 1 Axes>"
            ],
            "image/png": "[encoded data removed]"
          },
          "metadata": {
            "needs_background": "light"
          }
        }
      ]
    },
    {
      "cell_type": "code",
      "source": [],
      "metadata": {
        "id": "DMwpVMhCJgz6"
      },
      "execution_count": null,
      "outputs": []
    }
  ]
}