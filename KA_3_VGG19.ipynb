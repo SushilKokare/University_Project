{
  "nbformat": 4,
  "nbformat_minor": 0,
  "metadata": {
    "colab": {
      "provenance": [],
      "gpuType": "T4",
      "authorship_tag": "ABX9TyPBtaAs4KkW57uP21mI7jUu",
      "include_colab_link": true
    },
    "kernelspec": {
      "name": "python3",
      "display_name": "Python 3"
    },
    "language_info": {
      "name": "python"
    },
    "accelerator": "GPU",
    "gpuClass": "standard"
  },
  "cells": [
    {
      "cell_type": "markdown",
      "metadata": {
        "id": "view-in-github",
        "colab_type": "text"
      },
      "source": [
        "<a href=\"https://colab.research.google.com/github/SushilKokare/AtiNeu_Project/blob/keras.applications/KA_3_VGG19.ipynb\" target=\"_parent\"><img src=\"https://colab.research.google.com/assets/colab-badge.svg\" alt=\"Open In Colab\"/></a>"
      ]
    },
    {
      "cell_type": "code",
      "execution_count": 1,
      "metadata": {
        "id": "wwkeHgBRlF9r"
      },
      "outputs": [],
      "source": [
        "from google.colab import drive"
      ]
    },
    {
      "cell_type": "code",
      "source": [
        "drive.mount('/content/drive')"
      ],
      "metadata": {
        "colab": {
          "base_uri": "https://localhost:8080/"
        },
        "id": "4eOp4uiSlJrM",
        "outputId": "812a1785-d1ec-4f27-c9ba-95ac6859de94"
      },
      "execution_count": 2,
      "outputs": [
        {
          "output_type": "stream",
          "name": "stdout",
          "text": [
            "Mounted at /content/drive\n"
          ]
        }
      ]
    },
    {
      "cell_type": "code",
      "source": [
        "from keras.preprocessing.image import ImageDataGenerator\n",
        "from keras.models import Sequential\n",
        "from keras.layers import Dense,Flatten\n",
        "from keras import backend as k\n",
        "from keras.applications.vgg19 import VGG19\n",
        "from matplotlib import pyplot as plt"
      ],
      "metadata": {
        "id": "CezIhoDqlMkT"
      },
      "execution_count": 3,
      "outputs": []
    },
    {
      "cell_type": "code",
      "source": [
        "def show_result(history):\n",
        "  plt.figure(figsize=(5,3))\n",
        "  plt.title(\"Loss Training Vs Validation\")\n",
        "  plt.plot(history.history['loss'],color='blue',label='Train Loss')\n",
        "  plt.plot(history.history['val_loss'],color='orange',label='Val Loss')\n",
        "  plt.legend()\n",
        "  plt.show()\n",
        "\n",
        "  plt.figure(figsize=(5,3))\n",
        "  plt.title(\"Accuracy Training Vs Validation\")\n",
        "  plt.plot(history.history['accuracy'],color='blue',label='Train Acc')\n",
        "  plt.plot(history.history['val_accuracy'],color='orange',label='Val Acc')\n",
        "  plt.legend()\n",
        "  plt.show()"
      ],
      "metadata": {
        "id": "65Of903nlUk2"
      },
      "execution_count": 5,
      "outputs": []
    },
    {
      "cell_type": "code",
      "source": [
        "def prepro_data(pathTrain,pathTest,img_size,batch_size):\n",
        "  \n",
        "  if k.image_data_format() == 'channels_first':\n",
        "    input_shape = (3,img_size[0],img_size[1])\n",
        "  else:\n",
        "    input_shape = (img_size[0],img_size[1],3)\n",
        "\n",
        "  train_gen = ImageDataGenerator(rescale = 1./255)\n",
        "  test_gen = ImageDataGenerator(rescale = 1./255)\n",
        "\n",
        "  train_data = train_gen.flow_from_directory(\n",
        "      pathTrain,\n",
        "      target_size = img_size,\n",
        "      # batch_size = batch_size,\n",
        "      class_mode = 'binary'\n",
        "  ) \n",
        "\n",
        "  test_data = test_gen.flow_from_directory(\n",
        "      pathTest,\n",
        "      target_size = img_size,\n",
        "      # batch_size = batch_size,\n",
        "      class_mode = 'binary'\n",
        "  )\n",
        "\n",
        "  print(\" Train Data Image Shape = {}\".format(train_data.image_shape))\n",
        "  print(\" Test Data Image Shape = {}\".format(test_data.image_shape))\n",
        "  print(\"Input Shape = {} \".format(input_shape))\n",
        "\n",
        "  return train_data , test_data , input_shape"
      ],
      "metadata": {
        "id": "BpjEq31dlWBM"
      },
      "execution_count": 6,
      "outputs": []
    },
    {
      "cell_type": "code",
      "source": [
        "pathTrain = '/content/drive/MyDrive/AtiNeu Project/Data/MRI/Brain_Data_Organised/Train'\n",
        "pathTest = '/content/drive/MyDrive/AtiNeu Project/Data/MRI/Brain_Data_Organised/Test'"
      ],
      "metadata": {
        "id": "k7pujKjklWeM"
      },
      "execution_count": 7,
      "outputs": []
    },
    {
      "cell_type": "code",
      "source": [
        "train_data , test_data, input_shape = prepro_data(pathTrain,pathTest,(225,225),32)"
      ],
      "metadata": {
        "colab": {
          "base_uri": "https://localhost:8080/"
        },
        "id": "di9eufzHlbD7",
        "outputId": "2ba9f6b2-b655-4cf7-e9f2-2a5e7cc2cb0e"
      },
      "execution_count": 8,
      "outputs": [
        {
          "output_type": "stream",
          "name": "stdout",
          "text": [
            "Found 2251 images belonging to 2 classes.\n",
            "Found 250 images belonging to 2 classes.\n",
            " Train Data Image Shape = (225, 225, 3)\n",
            " Test Data Image Shape = (225, 225, 3)\n",
            "Input Shape = (225, 225, 3) \n"
          ]
        }
      ]
    },
    {
      "cell_type": "code",
      "source": [
        "base_model = VGG19(weights = 'imagenet',include_top = False,\n",
        "                      input_shape = input_shape)"
      ],
      "metadata": {
        "colab": {
          "base_uri": "https://localhost:8080/"
        },
        "id": "7jRTlH8jlcSB",
        "outputId": "d173bd2e-9569-431b-cac2-c0d280d515c8"
      },
      "execution_count": 9,
      "outputs": [
        {
          "output_type": "stream",
          "name": "stdout",
          "text": [
            "Downloading data from https://storage.googleapis.com/tensorflow/keras-applications/vgg19/vgg19_weights_tf_dim_ordering_tf_kernels_notop.h5\n",
            "80134624/80134624 [==============================] - 3s 0us/step\n"
          ]
        }
      ]
    },
    {
      "cell_type": "code",
      "source": [
        "for layer in base_model.layers:\n",
        "  layer.trainable = False"
      ],
      "metadata": {
        "id": "ZKzIhpfflfRd"
      },
      "execution_count": 10,
      "outputs": []
    },
    {
      "cell_type": "code",
      "source": [
        "model = Sequential()\n",
        "model.add(base_model)\n",
        "model.add(Flatten())\n",
        "model.add(Dense(256,activation='relu'))\n",
        "model.add(Dense(1,activation='sigmoid'))"
      ],
      "metadata": {
        "id": "693hlQvAliCH"
      },
      "execution_count": 11,
      "outputs": []
    },
    {
      "cell_type": "code",
      "source": [
        "model.compile(optimizer='adam',loss='binary_crossentropy',\n",
        "              metrics=['accuracy'])"
      ],
      "metadata": {
        "id": "75RNbIuIljsr"
      },
      "execution_count": 12,
      "outputs": []
    },
    {
      "cell_type": "code",
      "source": [
        "history = model.fit(train_data,epochs=10,validation_data=test_data)"
      ],
      "metadata": {
        "colab": {
          "base_uri": "https://localhost:8080/"
        },
        "id": "TXLsrVDflk0A",
        "outputId": "7451f6e4-f84e-44ad-edd8-0b699cfcc53a"
      },
      "execution_count": 13,
      "outputs": [
        {
          "output_type": "stream",
          "name": "stdout",
          "text": [
            "Epoch 1/10\n",
            "71/71 [==============================] - 800s 11s/step - loss: 0.9100 - accuracy: 0.6824 - val_loss: 0.7776 - val_accuracy: 0.5600\n",
            "Epoch 2/10\n",
            "71/71 [==============================] - 13s 187ms/step - loss: 0.4311 - accuracy: 0.8045 - val_loss: 0.5695 - val_accuracy: 0.7440\n",
            "Epoch 3/10\n",
            "71/71 [==============================] - 13s 185ms/step - loss: 0.3218 - accuracy: 0.8649 - val_loss: 0.5261 - val_accuracy: 0.7400\n",
            "Epoch 4/10\n",
            "71/71 [==============================] - 13s 187ms/step - loss: 0.2353 - accuracy: 0.9214 - val_loss: 0.5163 - val_accuracy: 0.7800\n",
            "Epoch 5/10\n",
            "71/71 [==============================] - 14s 196ms/step - loss: 0.1668 - accuracy: 0.9649 - val_loss: 0.4027 - val_accuracy: 0.8040\n",
            "Epoch 6/10\n",
            "71/71 [==============================] - 14s 189ms/step - loss: 0.1480 - accuracy: 0.9609 - val_loss: 0.3948 - val_accuracy: 0.8240\n",
            "Epoch 7/10\n",
            "71/71 [==============================] - 14s 192ms/step - loss: 0.0986 - accuracy: 0.9800 - val_loss: 0.4690 - val_accuracy: 0.7960\n",
            "Epoch 8/10\n",
            "71/71 [==============================] - 14s 193ms/step - loss: 0.0825 - accuracy: 0.9813 - val_loss: 0.4979 - val_accuracy: 0.8080\n",
            "Epoch 9/10\n",
            "71/71 [==============================] - 14s 202ms/step - loss: 0.0590 - accuracy: 0.9938 - val_loss: 0.4674 - val_accuracy: 0.8040\n",
            "Epoch 10/10\n",
            "71/71 [==============================] - 15s 207ms/step - loss: 0.0415 - accuracy: 0.9973 - val_loss: 0.5906 - val_accuracy: 0.7880\n"
          ]
        }
      ]
    },
    {
      "cell_type": "code",
      "source": [
        "show_result(history)"
      ],
      "metadata": {
        "colab": {
          "base_uri": "https://localhost:8080/",
          "height": 611
        },
        "id": "swyj5d_Blq7S",
        "outputId": "25203eaf-03da-4027-9f5e-b57360933144"
      },
      "execution_count": 14,
      "outputs": [
        {
          "output_type": "display_data",
          "data": {
            "text/plain": [
              "<Figure size 500x300 with 1 Axes>"
            ],
            "image/png": "[encoded data removed]"
          },
          "metadata": {}
        },
        {
          "output_type": "display_data",
          "data": {
            "text/plain": [
              "<Figure size 500x300 with 1 Axes>"
            ],
            "image/png": "[encoded data removed]"
          },
          "metadata": {}
        }
      ]
    },
    {
      "cell_type": "code",
      "source": [],
      "metadata": {
        "id": "tvBwCi-kls0R"
      },
      "execution_count": null,
      "outputs": []
    }
  ]
}