{
  "nbformat": 4,
  "nbformat_minor": 0,
  "metadata": {
    "colab": {
      "provenance": [],
      "authorship_tag": "ABX9TyN/zLtaI/ACTD7NDHmJz8Ut",
      "include_colab_link": true
    },
    "kernelspec": {
      "name": "python3",
      "display_name": "Python 3"
    },
    "language_info": {
      "name": "python"
    },
    "accelerator": "GPU",
    "gpuClass": "standard"
  },
  "cells": [
    {
      "cell_type": "markdown",
      "metadata": {
        "id": "view-in-github",
        "colab_type": "text"
      },
      "source": [
        "<a href=\"https://colab.research.google.com/github/SushilKokare/AtiNeu_Project/blob/main/ensemble_model.ipynb\" target=\"_parent\"><img src=\"https://colab.research.google.com/assets/colab-badge.svg\" alt=\"Open In Colab\"/></a>"
      ]
    },
    {
      "cell_type": "code",
      "execution_count": 1,
      "metadata": {
        "id": "1ZSYO1ydMOgZ"
      },
      "outputs": [],
      "source": [
        "from google.colab import drive"
      ]
    },
    {
      "cell_type": "code",
      "source": [
        "drive.mount('/content/drive')"
      ],
      "metadata": {
        "colab": {
          "base_uri": "https://localhost:8080/"
        },
        "id": "djrvUdoiMWHT",
        "outputId": "8f9ae531-de30-42a0-8744-f2c7b31ebeae"
      },
      "execution_count": 2,
      "outputs": [
        {
          "output_type": "stream",
          "name": "stdout",
          "text": [
            "Mounted at /content/drive\n"
          ]
        }
      ]
    },
    {
      "cell_type": "code",
      "source": [
        "import numpy as np\n",
        "import os\n",
        "import tensorflow as tf\n",
        "from tensorflow.keras.preprocessing.image import ImageDataGenerator\n",
        "from keras.layers import Dense,Flatten, Dropout, Input, Average, GlobalAveragePooling2D\n",
        "from keras.models import Model"
      ],
      "metadata": {
        "id": "LjGV2AeKMgNT"
      },
      "execution_count": 3,
      "outputs": []
    },
    {
      "cell_type": "code",
      "source": [
        "\n",
        "from tensorflow.keras.applications.resnet50 import ResNet50\n",
        "from tensorflow.keras.applications.densenet import DenseNet121\n",
        "from tensorflow.keras.applications.vgg16 import VGG16"
      ],
      "metadata": {
        "id": "hrJcI1DVON5z"
      },
      "execution_count": 4,
      "outputs": []
    },
    {
      "cell_type": "code",
      "source": [
        "input_shape = (224,224,3)\n",
        "num_classes = 2\n",
        "batch_size = 32"
      ],
      "metadata": {
        "id": "cDxU2NdQNHyg"
      },
      "execution_count": 5,
      "outputs": []
    },
    {
      "cell_type": "code",
      "source": [
        "train_dir = '/content/drive/MyDrive/AtiNeu Project/Data/MRI/Brain_Data_Organised/Train'\n",
        "test_dir = '/content/drive/MyDrive/AtiNeu Project/Data/MRI/Brain_Data_Organised/Test'"
      ],
      "metadata": {
        "id": "Jh6VDAvvN09q"
      },
      "execution_count": 6,
      "outputs": []
    },
    {
      "cell_type": "code",
      "source": [
        "train_datagen = ImageDataGenerator (rescale = 1./225,)\n",
        "test_datagen = ImageDataGenerator (rescale = 1./225)"
      ],
      "metadata": {
        "id": "yNUFN3Y7N2L0"
      },
      "execution_count": 7,
      "outputs": []
    },
    {
      "cell_type": "code",
      "source": [
        "train_gen  = train_datagen.flow_from_directory(\n",
        "    train_dir,\n",
        "    target_size = input_shape[:2],\n",
        "    batch_size = batch_size,\n",
        "    class_mode = 'categorical'\n",
        ")"
      ],
      "metadata": {
        "colab": {
          "base_uri": "https://localhost:8080/"
        },
        "id": "_7iVQyltN3Yk",
        "outputId": "67246c3c-ea8c-4bdd-c061-31a1e5208926"
      },
      "execution_count": 8,
      "outputs": [
        {
          "output_type": "stream",
          "name": "stdout",
          "text": [
            "Found 2251 images belonging to 2 classes.\n"
          ]
        }
      ]
    },
    {
      "cell_type": "code",
      "source": [
        "test_gen = test_datagen.flow_from_directory(\n",
        "    test_dir,\n",
        "    target_size = input_shape[:2],\n",
        "    batch_size = batch_size,\n",
        "    class_mode = 'categorical',\n",
        "    color_mode='rgb'\n",
        ")"
      ],
      "metadata": {
        "colab": {
          "base_uri": "https://localhost:8080/"
        },
        "id": "6wzps-IPN48D",
        "outputId": "34bc03e1-7925-4791-ed91-f310878a1826"
      },
      "execution_count": 9,
      "outputs": [
        {
          "output_type": "stream",
          "name": "stdout",
          "text": [
            "Found 250 images belonging to 2 classes.\n"
          ]
        }
      ]
    },
    {
      "cell_type": "code",
      "source": [
        "train_gen.image_shape"
      ],
      "metadata": {
        "colab": {
          "base_uri": "https://localhost:8080/"
        },
        "id": "L5HjvOYbN6O7",
        "outputId": "f9e54e40-7dee-4f51-dd08-7f11ed555fdf"
      },
      "execution_count": 10,
      "outputs": [
        {
          "output_type": "execute_result",
          "data": {
            "text/plain": [
              "(224, 224, 3)"
            ]
          },
          "metadata": {},
          "execution_count": 10
        }
      ]
    },
    {
      "cell_type": "code",
      "source": [
        "test_gen.image_shape\n"
      ],
      "metadata": {
        "colab": {
          "base_uri": "https://localhost:8080/"
        },
        "id": "DKrP4df2N8hr",
        "outputId": "434890aa-c660-45bb-948a-32f5d795ea13"
      },
      "execution_count": 11,
      "outputs": [
        {
          "output_type": "execute_result",
          "data": {
            "text/plain": [
              "(224, 224, 3)"
            ]
          },
          "metadata": {},
          "execution_count": 11
        }
      ]
    },
    {
      "cell_type": "code",
      "source": [
        "\n",
        "_resnet50 = ResNet50(weights='imagenet', include_top=False, input_shape=input_shape)\n",
        "_densenet121 = DenseNet121(weights='imagenet', include_top=False, input_shape=input_shape)\n",
        "_vgg16 = VGG16(weights='imagenet', include_top=False, input_shape=input_shape)\n"
      ],
      "metadata": {
        "id": "LcdkhyuGOBfR",
        "colab": {
          "base_uri": "https://localhost:8080/"
        },
        "outputId": "c8274242-9cad-415e-8ad4-cceaf88f136d"
      },
      "execution_count": 12,
      "outputs": [
        {
          "output_type": "stream",
          "name": "stdout",
          "text": [
            "Downloading data from https://storage.googleapis.com/tensorflow/keras-applications/resnet/resnet50_weights_tf_dim_ordering_tf_kernels_notop.h5\n",
            "94765736/94765736 [==============================] - 5s 0us/step\n",
            "Downloading data from https://storage.googleapis.com/tensorflow/keras-applications/densenet/densenet121_weights_tf_dim_ordering_tf_kernels_notop.h5\n",
            "29084464/29084464 [==============================] - 3s 0us/step\n",
            "Downloading data from https://storage.googleapis.com/tensorflow/keras-applications/vgg16/vgg16_weights_tf_dim_ordering_tf_kernels_notop.h5\n",
            "58889256/58889256 [==============================] - 4s 0us/step\n"
          ]
        }
      ]
    },
    {
      "cell_type": "code",
      "source": [
        "_resnet50_output = GlobalAveragePooling2D()(_resnet50.output)\n",
        "_resnet50_output = Dense(1,activation='sigmoid')(_resnet50_output)"
      ],
      "metadata": {
        "id": "TC96HruLOwzY"
      },
      "execution_count": 13,
      "outputs": []
    },
    {
      "cell_type": "code",
      "source": [
        "_resnet50_output"
      ],
      "metadata": {
        "colab": {
          "base_uri": "https://localhost:8080/"
        },
        "id": "llkFcxBSPeP_",
        "outputId": "028dfc34-30a5-48da-8f3c-f03b4eae56eb"
      },
      "execution_count": 14,
      "outputs": [
        {
          "output_type": "execute_result",
          "data": {
            "text/plain": [
              "<KerasTensor: shape=(None, 1) dtype=float32 (created by layer 'dense')>"
            ]
          },
          "metadata": {},
          "execution_count": 14
        }
      ]
    },
    {
      "cell_type": "code",
      "source": [
        "_densenet121_output = GlobalAveragePooling2D()(_densenet121.output)\n",
        "_densenet121_output = Dense(1,activation='sigmoid')(_densenet121_output)"
      ],
      "metadata": {
        "id": "4Qkzm6j3Pf6H"
      },
      "execution_count": 15,
      "outputs": []
    },
    {
      "cell_type": "code",
      "source": [
        "_densenet121_output"
      ],
      "metadata": {
        "colab": {
          "base_uri": "https://localhost:8080/"
        },
        "id": "OLj89Y33PmCf",
        "outputId": "d185b9c5-352d-40c8-da35-826357da38d4"
      },
      "execution_count": 16,
      "outputs": [
        {
          "output_type": "execute_result",
          "data": {
            "text/plain": [
              "<KerasTensor: shape=(None, 1) dtype=float32 (created by layer 'dense_1')>"
            ]
          },
          "metadata": {},
          "execution_count": 16
        }
      ]
    },
    {
      "cell_type": "code",
      "source": [
        "_vgg16_output = GlobalAveragePooling2D()(_vgg16.output)\n",
        "_vgg16_output = Dense(1,activation='sigmoid')(_vgg16_output)"
      ],
      "metadata": {
        "id": "kk-6idbnPn8t"
      },
      "execution_count": 17,
      "outputs": []
    },
    {
      "cell_type": "code",
      "source": [
        "_vgg16_output"
      ],
      "metadata": {
        "colab": {
          "base_uri": "https://localhost:8080/"
        },
        "id": "sPu3k5u4PpM_",
        "outputId": "28f5beb2-d32c-417c-9819-b27ac680c1c8"
      },
      "execution_count": 18,
      "outputs": [
        {
          "output_type": "execute_result",
          "data": {
            "text/plain": [
              "<KerasTensor: shape=(None, 1) dtype=float32 (created by layer 'dense_2')>"
            ]
          },
          "metadata": {},
          "execution_count": 18
        }
      ]
    },
    {
      "cell_type": "code",
      "source": [
        "inputs = Input(shape=(224,224,3))\n",
        "\n",
        "_resnet50_output = _resnet50(inputs)\n",
        "_densenet121_output = _densenet121(inputs)\n",
        "_vgg16_output = _vgg16(inputs)\n"
      ],
      "metadata": {
        "id": "BfYOf5QNPq0z"
      },
      "execution_count": 19,
      "outputs": []
    },
    {
      "cell_type": "code",
      "source": [
        "_resnet50_output"
      ],
      "metadata": {
        "id": "BdL0S6lASbEm",
        "colab": {
          "base_uri": "https://localhost:8080/"
        },
        "outputId": "0d1e2f1c-5cfe-490c-bbf6-85407d1435be"
      },
      "execution_count": 20,
      "outputs": [
        {
          "output_type": "execute_result",
          "data": {
            "text/plain": [
              "<KerasTensor: shape=(None, 7, 7, 2048) dtype=float32 (created by layer 'resnet50')>"
            ]
          },
          "metadata": {},
          "execution_count": 20
        }
      ]
    },
    {
      "cell_type": "code",
      "source": [
        "_densenet121_output"
      ],
      "metadata": {
        "colab": {
          "base_uri": "https://localhost:8080/"
        },
        "id": "BA69xz6zUxRA",
        "outputId": "c58b3593-fd08-4da3-c104-3e98113fe9a6"
      },
      "execution_count": 21,
      "outputs": [
        {
          "output_type": "execute_result",
          "data": {
            "text/plain": [
              "<KerasTensor: shape=(None, 7, 7, 1024) dtype=float32 (created by layer 'densenet121')>"
            ]
          },
          "metadata": {},
          "execution_count": 21
        }
      ]
    },
    {
      "cell_type": "code",
      "source": [
        "_vgg16_output"
      ],
      "metadata": {
        "colab": {
          "base_uri": "https://localhost:8080/"
        },
        "id": "NJ3zauusU6bL",
        "outputId": "3b6f2fb9-78cb-4a30-9abf-371fab6b3a33"
      },
      "execution_count": 22,
      "outputs": [
        {
          "output_type": "execute_result",
          "data": {
            "text/plain": [
              "<KerasTensor: shape=(None, 7, 7, 512) dtype=float32 (created by layer 'vgg16')>"
            ]
          },
          "metadata": {},
          "execution_count": 22
        }
      ]
    },
    {
      "cell_type": "code",
      "source": [
        "avg1 = Average()([_resnet50_output])"
      ],
      "metadata": {
        "id": "1LfqVAcoViJF"
      },
      "execution_count": 23,
      "outputs": []
    },
    {
      "cell_type": "code",
      "source": [
        "avg2 = Average()([_densenet121_output])"
      ],
      "metadata": {
        "id": "7OPHnkXXVoNr"
      },
      "execution_count": 24,
      "outputs": []
    },
    {
      "cell_type": "code",
      "source": [
        "avg3 = Average()([_vgg16_output])"
      ],
      "metadata": {
        "id": "e9dQODUGXBfg"
      },
      "execution_count": 25,
      "outputs": []
    },
    {
      "cell_type": "code",
      "source": [
        "output = tf.keras.layers.concatenate([avg1,avg2,avg3])"
      ],
      "metadata": {
        "id": "BRL91WxAXG0b"
      },
      "execution_count": 26,
      "outputs": []
    },
    {
      "cell_type": "code",
      "source": [
        "# model = Model(inputs=[_resnet50_output,_densenet121_output,_vgg16_output],outputs=output)"
      ],
      "metadata": {
        "id": "AzIPQJGZXW6r"
      },
      "execution_count": 27,
      "outputs": []
    },
    {
      "cell_type": "code",
      "source": [
        "model = Model(inputs=inputs,outputs=output)"
      ],
      "metadata": {
        "id": "sHVNnvbAYVJQ"
      },
      "execution_count": 28,
      "outputs": []
    },
    {
      "cell_type": "code",
      "source": [
        "\n",
        "# output = Average()([_resnet50_output,_densenet121_output,_vgg16_output])\n",
        " \n",
        "# model = Model(inputs=inputs,outputs=output)"
      ],
      "metadata": {
        "id": "vAbhEPFWU8b1"
      },
      "execution_count": 29,
      "outputs": []
    },
    {
      "cell_type": "code",
      "source": [
        "\n",
        "model.compile(optimizer='adam',\n",
        "              loss='binary_crossentropy',\n",
        "              metrics=['accuracy'])\n"
      ],
      "metadata": {
        "id": "Lp4TOiDHWsZQ"
      },
      "execution_count": 30,
      "outputs": []
    },
    {
      "cell_type": "code",
      "source": [
        "model.summary()"
      ],
      "metadata": {
        "colab": {
          "base_uri": "https://localhost:8080/"
        },
        "id": "vRqkeU_-ZwGQ",
        "outputId": "3f45c93c-9164-42a0-97c4-535b71df7ae5"
      },
      "execution_count": 31,
      "outputs": [
        {
          "output_type": "stream",
          "name": "stdout",
          "text": [
            "Model: \"model\"\n",
            "__________________________________________________________________________________________________\n",
            " Layer (type)                   Output Shape         Param #     Connected to                     \n",
            "==================================================================================================\n",
            " input_4 (InputLayer)           [(None, 224, 224, 3  0           []                               \n",
            "                                )]                                                                \n",
            "                                                                                                  \n",
            " resnet50 (Functional)          (None, 7, 7, 2048)   23587712    ['input_4[0][0]']                \n",
            "                                                                                                  \n",
            " densenet121 (Functional)       (None, 7, 7, 1024)   7037504     ['input_4[0][0]']                \n",
            "                                                                                                  \n",
            " vgg16 (Functional)             (None, 7, 7, 512)    14714688    ['input_4[0][0]']                \n",
            "                                                                                                  \n",
            " average (Average)              (None, 7, 7, 2048)   0           ['resnet50[0][0]']               \n",
            "                                                                                                  \n",
            " average_1 (Average)            (None, 7, 7, 1024)   0           ['densenet121[0][0]']            \n",
            "                                                                                                  \n",
            " average_2 (Average)            (None, 7, 7, 512)    0           ['vgg16[0][0]']                  \n",
            "                                                                                                  \n",
            " concatenate (Concatenate)      (None, 7, 7, 3584)   0           ['average[0][0]',                \n",
            "                                                                  'average_1[0][0]',              \n",
            "                                                                  'average_2[0][0]']              \n",
            "                                                                                                  \n",
            "==================================================================================================\n",
            "Total params: 45,339,904\n",
            "Trainable params: 45,203,136\n",
            "Non-trainable params: 136,768\n",
            "__________________________________________________________________________________________________\n"
          ]
        }
      ]
    },
    {
      "cell_type": "code",
      "source": [
        "# history = model.fit(train_gen,\n",
        "#           epochs=10,)\n"
      ],
      "metadata": {
        "id": "ekh4x3dHX4-f"
      },
      "execution_count": 32,
      "outputs": []
    },
    {
      "cell_type": "code",
      "source": [],
      "metadata": {
        "id": "n5BYsprDX70w"
      },
      "execution_count": 32,
      "outputs": []
    }
  ]
}